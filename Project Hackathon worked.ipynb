{
 "cells": [
  {
   "cell_type": "markdown",
   "metadata": {},
   "source": [
    "# Nov 09 Hackathon "
   ]
  },
  {
   "cell_type": "code",
   "execution_count": 1,
   "metadata": {},
   "outputs": [],
   "source": [
    "import numpy as np\n",
    "import pandas as pd\n",
    "import matplotlib.pyplot as plt\n",
    "import seaborn as sns\n",
    "%matplotlib inline"
   ]
  },
  {
   "cell_type": "code",
   "execution_count": 2,
   "metadata": {},
   "outputs": [],
   "source": [
    "hackathon = pd.read_csv(r\"E:\\PYTHON\\Sep 3rd Practice Complete ML\\Top mentor on Oct 11\\Top mentor New DataSETS OCT 09\\Top mentor Regression Hackathon\\Hackathon_Working_Data.csv\")"
   ]
  },
  {
   "cell_type": "code",
   "execution_count": 3,
   "metadata": {},
   "outputs": [],
   "source": [
    "hack = hackathon.copy()"
   ]
  },
  {
   "cell_type": "code",
   "execution_count": 4,
   "metadata": {},
   "outputs": [
    {
     "data": {
      "text/html": [
       "<div>\n",
       "<style scoped>\n",
       "    .dataframe tbody tr th:only-of-type {\n",
       "        vertical-align: middle;\n",
       "    }\n",
       "\n",
       "    .dataframe tbody tr th {\n",
       "        vertical-align: top;\n",
       "    }\n",
       "\n",
       "    .dataframe thead th {\n",
       "        text-align: right;\n",
       "    }\n",
       "</style>\n",
       "<table border=\"1\" class=\"dataframe\">\n",
       "  <thead>\n",
       "    <tr style=\"text-align: right;\">\n",
       "      <th></th>\n",
       "      <th>MONTH</th>\n",
       "      <th>STORECODE</th>\n",
       "      <th>DAY</th>\n",
       "      <th>BILL_ID</th>\n",
       "      <th>BILL_AMT</th>\n",
       "      <th>QTY</th>\n",
       "      <th>VALUE</th>\n",
       "      <th>PRICE</th>\n",
       "      <th>GRP</th>\n",
       "      <th>SGRP</th>\n",
       "      <th>SSGRP</th>\n",
       "      <th>CMP</th>\n",
       "      <th>MBRD</th>\n",
       "      <th>BRD</th>\n",
       "    </tr>\n",
       "  </thead>\n",
       "  <tbody>\n",
       "    <tr>\n",
       "      <th>0</th>\n",
       "      <td>M1</td>\n",
       "      <td>N1</td>\n",
       "      <td>4</td>\n",
       "      <td>T375</td>\n",
       "      <td>225.0</td>\n",
       "      <td>1.0</td>\n",
       "      <td>225.0</td>\n",
       "      <td>225.0</td>\n",
       "      <td>BUTTER MARGR  (4/94)</td>\n",
       "      <td>BUTTER</td>\n",
       "      <td>SALTED</td>\n",
       "      <td>G C M M F</td>\n",
       "      <td>AMUL</td>\n",
       "      <td>AMUL</td>\n",
       "    </tr>\n",
       "    <tr>\n",
       "      <th>1</th>\n",
       "      <td>M1</td>\n",
       "      <td>N1</td>\n",
       "      <td>4</td>\n",
       "      <td>T379</td>\n",
       "      <td>95.0</td>\n",
       "      <td>1.0</td>\n",
       "      <td>95.0</td>\n",
       "      <td>95.0</td>\n",
       "      <td>CONFECTIONERY - ECLAIRS</td>\n",
       "      <td>CONFECTIONERY - ECLAIRS</td>\n",
       "      <td>CONFECTIONERY - ECLAIRS</td>\n",
       "      <td>PARLE PRODS</td>\n",
       "      <td>MELODY</td>\n",
       "      <td>MELODY CHOCOLATY</td>\n",
       "    </tr>\n",
       "    <tr>\n",
       "      <th>2</th>\n",
       "      <td>M1</td>\n",
       "      <td>N1</td>\n",
       "      <td>4</td>\n",
       "      <td>T381</td>\n",
       "      <td>10.0</td>\n",
       "      <td>1.0</td>\n",
       "      <td>10.0</td>\n",
       "      <td>10.0</td>\n",
       "      <td>CHOCOLATE</td>\n",
       "      <td>CHOCOLATE PANNED</td>\n",
       "      <td>CHOCOLATE PANNED</td>\n",
       "      <td>MONDELEZ INTERNATIONAL</td>\n",
       "      <td>CADBURY SHOTS</td>\n",
       "      <td>CADBURY SHOTS</td>\n",
       "    </tr>\n",
       "    <tr>\n",
       "      <th>3</th>\n",
       "      <td>M1</td>\n",
       "      <td>N1</td>\n",
       "      <td>4</td>\n",
       "      <td>T382</td>\n",
       "      <td>108.0</td>\n",
       "      <td>1.0</td>\n",
       "      <td>108.0</td>\n",
       "      <td>108.0</td>\n",
       "      <td>PACKAGED TEA</td>\n",
       "      <td>MAIN PACKS</td>\n",
       "      <td>MAIN PACKS</td>\n",
       "      <td>GUJ TEA PROCESSORS</td>\n",
       "      <td>WAGH BAKRI</td>\n",
       "      <td>WAGH BAKRI INSTANT</td>\n",
       "    </tr>\n",
       "    <tr>\n",
       "      <th>4</th>\n",
       "      <td>M1</td>\n",
       "      <td>N1</td>\n",
       "      <td>4</td>\n",
       "      <td>T384</td>\n",
       "      <td>19.0</td>\n",
       "      <td>1.0</td>\n",
       "      <td>19.0</td>\n",
       "      <td>19.0</td>\n",
       "      <td>ALL IODISED SALT</td>\n",
       "      <td>POWDERED SALT</td>\n",
       "      <td>POWDERED SALT</td>\n",
       "      <td>TATA CHEM</td>\n",
       "      <td>TATA</td>\n",
       "      <td>TATA SALT</td>\n",
       "    </tr>\n",
       "  </tbody>\n",
       "</table>\n",
       "</div>"
      ],
      "text/plain": [
       "  MONTH STORECODE  DAY BILL_ID  BILL_AMT  QTY  VALUE  PRICE  \\\n",
       "0    M1        N1    4    T375     225.0  1.0  225.0  225.0   \n",
       "1    M1        N1    4    T379      95.0  1.0   95.0   95.0   \n",
       "2    M1        N1    4    T381      10.0  1.0   10.0   10.0   \n",
       "3    M1        N1    4    T382     108.0  1.0  108.0  108.0   \n",
       "4    M1        N1    4    T384      19.0  1.0   19.0   19.0   \n",
       "\n",
       "                       GRP                     SGRP                    SSGRP  \\\n",
       "0     BUTTER MARGR  (4/94)                   BUTTER                   SALTED   \n",
       "1  CONFECTIONERY - ECLAIRS  CONFECTIONERY - ECLAIRS  CONFECTIONERY - ECLAIRS   \n",
       "2                CHOCOLATE         CHOCOLATE PANNED         CHOCOLATE PANNED   \n",
       "3             PACKAGED TEA               MAIN PACKS               MAIN PACKS   \n",
       "4         ALL IODISED SALT            POWDERED SALT            POWDERED SALT   \n",
       "\n",
       "                      CMP           MBRD                 BRD  \n",
       "0               G C M M F           AMUL                AMUL  \n",
       "1             PARLE PRODS         MELODY    MELODY CHOCOLATY  \n",
       "2  MONDELEZ INTERNATIONAL  CADBURY SHOTS       CADBURY SHOTS  \n",
       "3      GUJ TEA PROCESSORS     WAGH BAKRI  WAGH BAKRI INSTANT  \n",
       "4               TATA CHEM           TATA           TATA SALT  "
      ]
     },
     "execution_count": 4,
     "metadata": {},
     "output_type": "execute_result"
    }
   ],
   "source": [
    "hack.head()"
   ]
  },
  {
   "cell_type": "code",
   "execution_count": 5,
   "metadata": {},
   "outputs": [
    {
     "data": {
      "text/html": [
       "<div>\n",
       "<style scoped>\n",
       "    .dataframe tbody tr th:only-of-type {\n",
       "        vertical-align: middle;\n",
       "    }\n",
       "\n",
       "    .dataframe tbody tr th {\n",
       "        vertical-align: top;\n",
       "    }\n",
       "\n",
       "    .dataframe thead th {\n",
       "        text-align: right;\n",
       "    }\n",
       "</style>\n",
       "<table border=\"1\" class=\"dataframe\">\n",
       "  <thead>\n",
       "    <tr style=\"text-align: right;\">\n",
       "      <th></th>\n",
       "      <th>MONTH</th>\n",
       "      <th>STORECODE</th>\n",
       "      <th>DAY</th>\n",
       "      <th>BILL_ID</th>\n",
       "      <th>BILL_AMT</th>\n",
       "      <th>QTY</th>\n",
       "      <th>VALUE</th>\n",
       "      <th>PRICE</th>\n",
       "      <th>GRP</th>\n",
       "      <th>SGRP</th>\n",
       "      <th>SSGRP</th>\n",
       "      <th>CMP</th>\n",
       "      <th>MBRD</th>\n",
       "      <th>BRD</th>\n",
       "    </tr>\n",
       "  </thead>\n",
       "  <tbody>\n",
       "    <tr>\n",
       "      <th>26980</th>\n",
       "      <td>M3</td>\n",
       "      <td>N10</td>\n",
       "      <td>31</td>\n",
       "      <td>T5999</td>\n",
       "      <td>10.0</td>\n",
       "      <td>1.0</td>\n",
       "      <td>10.0</td>\n",
       "      <td>10.0</td>\n",
       "      <td>BISCUITS - CORE &amp; NON CORE</td>\n",
       "      <td>NON-SALT CRACKER</td>\n",
       "      <td>NON-SALT CRACKER</td>\n",
       "      <td>PARLE PRODS</td>\n",
       "      <td>PARLE KRACK JACK</td>\n",
       "      <td>PARLE KRACK JACK</td>\n",
       "    </tr>\n",
       "    <tr>\n",
       "      <th>26981</th>\n",
       "      <td>M3</td>\n",
       "      <td>N10</td>\n",
       "      <td>31</td>\n",
       "      <td>T6007</td>\n",
       "      <td>88.0</td>\n",
       "      <td>1.0</td>\n",
       "      <td>10.0</td>\n",
       "      <td>10.0</td>\n",
       "      <td>BISCUITS - CORE &amp; NON CORE</td>\n",
       "      <td>MARIE</td>\n",
       "      <td>MARIE</td>\n",
       "      <td>PARLE PRODS</td>\n",
       "      <td>PARLE MARIE</td>\n",
       "      <td>PARLE MARIE</td>\n",
       "    </tr>\n",
       "    <tr>\n",
       "      <th>26982</th>\n",
       "      <td>M3</td>\n",
       "      <td>N10</td>\n",
       "      <td>31</td>\n",
       "      <td>T6007</td>\n",
       "      <td>88.0</td>\n",
       "      <td>2.0</td>\n",
       "      <td>20.0</td>\n",
       "      <td>10.0</td>\n",
       "      <td>BISCUITS - CORE &amp; NON CORE</td>\n",
       "      <td>GLUCOSE</td>\n",
       "      <td>GLUCOSE</td>\n",
       "      <td>PARLE PRODS</td>\n",
       "      <td>PARLE-G</td>\n",
       "      <td>PARLE-G</td>\n",
       "    </tr>\n",
       "    <tr>\n",
       "      <th>26983</th>\n",
       "      <td>M3</td>\n",
       "      <td>N10</td>\n",
       "      <td>31</td>\n",
       "      <td>T6007</td>\n",
       "      <td>88.0</td>\n",
       "      <td>1.0</td>\n",
       "      <td>58.0</td>\n",
       "      <td>58.0</td>\n",
       "      <td>CLEANERS - GLASS</td>\n",
       "      <td>LIQUIDS</td>\n",
       "      <td>LIQUIDS</td>\n",
       "      <td>RECKITT BENCKISER</td>\n",
       "      <td>COLIN</td>\n",
       "      <td>COLIN</td>\n",
       "    </tr>\n",
       "    <tr>\n",
       "      <th>26984</th>\n",
       "      <td>M3</td>\n",
       "      <td>N10</td>\n",
       "      <td>31</td>\n",
       "      <td>T6013</td>\n",
       "      <td>15.0</td>\n",
       "      <td>1.0</td>\n",
       "      <td>15.0</td>\n",
       "      <td>15.0</td>\n",
       "      <td>BISCUITS - CORE &amp; NON CORE</td>\n",
       "      <td>SWEET/COOKIES</td>\n",
       "      <td>SWEET/COOKIES</td>\n",
       "      <td>SAJ INDS</td>\n",
       "      <td>BISK FARM</td>\n",
       "      <td>BISK FARM JUST GINGER</td>\n",
       "    </tr>\n",
       "  </tbody>\n",
       "</table>\n",
       "</div>"
      ],
      "text/plain": [
       "      MONTH STORECODE  DAY BILL_ID  BILL_AMT  QTY  VALUE  PRICE  \\\n",
       "26980    M3       N10   31   T5999      10.0  1.0   10.0   10.0   \n",
       "26981    M3       N10   31   T6007      88.0  1.0   10.0   10.0   \n",
       "26982    M3       N10   31   T6007      88.0  2.0   20.0   10.0   \n",
       "26983    M3       N10   31   T6007      88.0  1.0   58.0   58.0   \n",
       "26984    M3       N10   31   T6013      15.0  1.0   15.0   15.0   \n",
       "\n",
       "                              GRP              SGRP             SSGRP  \\\n",
       "26980  BISCUITS - CORE & NON CORE  NON-SALT CRACKER  NON-SALT CRACKER   \n",
       "26981  BISCUITS - CORE & NON CORE             MARIE             MARIE   \n",
       "26982  BISCUITS - CORE & NON CORE           GLUCOSE           GLUCOSE   \n",
       "26983            CLEANERS - GLASS           LIQUIDS           LIQUIDS   \n",
       "26984  BISCUITS - CORE & NON CORE     SWEET/COOKIES     SWEET/COOKIES   \n",
       "\n",
       "                     CMP              MBRD                    BRD  \n",
       "26980        PARLE PRODS  PARLE KRACK JACK       PARLE KRACK JACK  \n",
       "26981        PARLE PRODS       PARLE MARIE            PARLE MARIE  \n",
       "26982        PARLE PRODS           PARLE-G                PARLE-G  \n",
       "26983  RECKITT BENCKISER             COLIN                  COLIN  \n",
       "26984           SAJ INDS         BISK FARM  BISK FARM JUST GINGER  "
      ]
     },
     "execution_count": 5,
     "metadata": {},
     "output_type": "execute_result"
    }
   ],
   "source": [
    "hack.tail()"
   ]
  },
  {
   "cell_type": "code",
   "execution_count": 6,
   "metadata": {},
   "outputs": [],
   "source": [
    "nRows, nCols = hack.shape"
   ]
  },
  {
   "cell_type": "code",
   "execution_count": 7,
   "metadata": {},
   "outputs": [
    {
     "name": "stdout",
     "output_type": "stream",
     "text": [
      "There are 26985 rows and 14 columns in the Dataset.\n"
     ]
    }
   ],
   "source": [
    "print(f'There are {nRows} rows and {nCols} columns in the Dataset.')"
   ]
  },
  {
   "cell_type": "code",
   "execution_count": 8,
   "metadata": {},
   "outputs": [
    {
     "data": {
      "text/plain": [
       "Index(['MONTH', 'STORECODE', 'DAY', 'BILL_ID', 'BILL_AMT', 'QTY', 'VALUE',\n",
       "       'PRICE', 'GRP', 'SGRP', 'SSGRP', 'CMP', 'MBRD', 'BRD'],\n",
       "      dtype='object')"
      ]
     },
     "execution_count": 8,
     "metadata": {},
     "output_type": "execute_result"
    }
   ],
   "source": [
    "hack.columns"
   ]
  },
  {
   "cell_type": "code",
   "execution_count": 9,
   "metadata": {},
   "outputs": [],
   "source": [
    "# Column name standardization\n",
    "\n",
    "hack.rename(columns = {'STORECODE':'Store_code', 'GRP': 'GROUP'}, inplace= True)"
   ]
  },
  {
   "cell_type": "code",
   "execution_count": 10,
   "metadata": {},
   "outputs": [
    {
     "data": {
      "text/plain": [
       "Index(['MONTH', 'Store_code', 'DAY', 'BILL_ID', 'BILL_AMT', 'QTY', 'VALUE',\n",
       "       'PRICE', 'GROUP', 'SGRP', 'SSGRP', 'CMP', 'MBRD', 'BRD'],\n",
       "      dtype='object')"
      ]
     },
     "execution_count": 10,
     "metadata": {},
     "output_type": "execute_result"
    }
   ],
   "source": [
    "hack.columns"
   ]
  },
  {
   "cell_type": "code",
   "execution_count": 11,
   "metadata": {},
   "outputs": [],
   "source": [
    "# second method\n",
    "\n",
    "hack.columns = hack.columns.str.capitalize()"
   ]
  },
  {
   "cell_type": "code",
   "execution_count": 12,
   "metadata": {},
   "outputs": [
    {
     "data": {
      "text/plain": [
       "Index(['Month', 'Store_code', 'Day', 'Bill_id', 'Bill_amt', 'Qty', 'Value',\n",
       "       'Price', 'Group', 'Sgrp', 'Ssgrp', 'Cmp', 'Mbrd', 'Brd'],\n",
       "      dtype='object')"
      ]
     },
     "execution_count": 12,
     "metadata": {},
     "output_type": "execute_result"
    }
   ],
   "source": [
    "hack.columns"
   ]
  },
  {
   "cell_type": "markdown",
   "metadata": {},
   "source": [
    "# third method   # changing only cmp to comp\n",
    "\n",
    "hack.columns = ['Month', 'Store_code', 'DAY', 'BILL_ID', 'BILL_AMT', 'QTY', 'VALUE',\n",
    "       'PRICE', 'GROUP', 'SGRP', 'SSGRP', 'Comp', 'MBRD', 'BRD']"
   ]
  },
  {
   "cell_type": "code",
   "execution_count": 13,
   "metadata": {},
   "outputs": [
    {
     "data": {
      "text/plain": [
       "Index(['Month', 'Store_code', 'Day', 'Bill_id', 'Bill_amt', 'Qty', 'Value',\n",
       "       'Price', 'Group', 'Sgrp', 'Ssgrp', 'Cmp', 'Mbrd', 'Brd'],\n",
       "      dtype='object')"
      ]
     },
     "execution_count": 13,
     "metadata": {},
     "output_type": "execute_result"
    }
   ],
   "source": [
    "hack.columns"
   ]
  },
  {
   "cell_type": "markdown",
   "metadata": {},
   "source": [
    "***The info() function is used to print a concise summary of a DataFrame. This method prints information about a DataFrame including the index dtype and column dtypes, non-null values and memory usage.***"
   ]
  },
  {
   "cell_type": "code",
   "execution_count": 14,
   "metadata": {},
   "outputs": [
    {
     "name": "stdout",
     "output_type": "stream",
     "text": [
      "<class 'pandas.core.frame.DataFrame'>\n",
      "RangeIndex: 26985 entries, 0 to 26984\n",
      "Data columns (total 14 columns):\n",
      " #   Column      Non-Null Count  Dtype  \n",
      "---  ------      --------------  -----  \n",
      " 0   Month       26985 non-null  object \n",
      " 1   Store_code  26985 non-null  object \n",
      " 2   Day         26985 non-null  int64  \n",
      " 3   Bill_id     26975 non-null  object \n",
      " 4   Bill_amt    26970 non-null  float64\n",
      " 5   Qty         26967 non-null  float64\n",
      " 6   Value       26962 non-null  float64\n",
      " 7   Price       26971 non-null  float64\n",
      " 8   Group       26981 non-null  object \n",
      " 9   Sgrp        26980 non-null  object \n",
      " 10  Ssgrp       26980 non-null  object \n",
      " 11  Cmp         26985 non-null  object \n",
      " 12  Mbrd        26985 non-null  object \n",
      " 13  Brd         26985 non-null  object \n",
      "dtypes: float64(4), int64(1), object(9)\n",
      "memory usage: 2.9+ MB\n"
     ]
    }
   ],
   "source": [
    "hack.info()"
   ]
  },
  {
   "cell_type": "markdown",
   "metadata": {},
   "source": [
    "    Since the above data is consuming 2.9+ MB data we have to convert it to category."
   ]
  },
  {
   "cell_type": "code",
   "execution_count": 15,
   "metadata": {},
   "outputs": [
    {
     "data": {
      "text/plain": [
       "Month          object\n",
       "Store_code     object\n",
       "Day             int64\n",
       "Bill_id        object\n",
       "Bill_amt      float64\n",
       "Qty           float64\n",
       "Value         float64\n",
       "Price         float64\n",
       "Group          object\n",
       "Sgrp           object\n",
       "Ssgrp          object\n",
       "Cmp            object\n",
       "Mbrd           object\n",
       "Brd            object\n",
       "dtype: object"
      ]
     },
     "execution_count": 15,
     "metadata": {},
     "output_type": "execute_result"
    }
   ],
   "source": [
    "hack.dtypes"
   ]
  },
  {
   "cell_type": "code",
   "execution_count": 16,
   "metadata": {},
   "outputs": [
    {
     "data": {
      "text/plain": [
       "Index(['Month', 'Store_code', 'Bill_id', 'Group', 'Sgrp', 'Ssgrp', 'Cmp',\n",
       "       'Mbrd', 'Brd'],\n",
       "      dtype='object')"
      ]
     },
     "execution_count": 16,
     "metadata": {},
     "output_type": "execute_result"
    }
   ],
   "source": [
    "hack.select_dtypes(include= 'object').columns"
   ]
  },
  {
   "cell_type": "code",
   "execution_count": 17,
   "metadata": {},
   "outputs": [],
   "source": [
    "# first method\n",
    "# hack[['Month', 'Store_code', 'BILL_ID', 'GROUP', 'SGRP', 'SSGRP', 'Comp','MBRD', 'BRD']] = hack[['Month', 'Store_code', 'BILL_ID', 'GROUP', 'SGRP', 'SSGRP', 'Comp','MBRD', 'BRD']].astype('category')"
   ]
  },
  {
   "cell_type": "code",
   "execution_count": 18,
   "metadata": {},
   "outputs": [],
   "source": [
    "# using for loop\n",
    "\n",
    "for columns in hack.select_dtypes('object').columns:\n",
    "    hack[columns] = hack[columns].astype('category')"
   ]
  },
  {
   "cell_type": "code",
   "execution_count": 19,
   "metadata": {},
   "outputs": [
    {
     "data": {
      "text/plain": [
       "(26985, 14)"
      ]
     },
     "execution_count": 19,
     "metadata": {},
     "output_type": "execute_result"
    }
   ],
   "source": [
    "hack.shape"
   ]
  },
  {
   "cell_type": "code",
   "execution_count": 20,
   "metadata": {},
   "outputs": [
    {
     "data": {
      "text/plain": [
       "Index(['Month', 'Store_code', 'Day', 'Bill_id', 'Bill_amt', 'Qty', 'Value',\n",
       "       'Price', 'Group', 'Sgrp', 'Ssgrp', 'Cmp', 'Mbrd', 'Brd'],\n",
       "      dtype='object')"
      ]
     },
     "execution_count": 20,
     "metadata": {},
     "output_type": "execute_result"
    }
   ],
   "source": [
    "hack.columns"
   ]
  },
  {
   "cell_type": "code",
   "execution_count": 21,
   "metadata": {},
   "outputs": [
    {
     "name": "stdout",
     "output_type": "stream",
     "text": [
      "<class 'pandas.core.frame.DataFrame'>\n",
      "RangeIndex: 26985 entries, 0 to 26984\n",
      "Data columns (total 14 columns):\n",
      " #   Column      Non-Null Count  Dtype   \n",
      "---  ------      --------------  -----   \n",
      " 0   Month       26985 non-null  category\n",
      " 1   Store_code  26985 non-null  category\n",
      " 2   Day         26985 non-null  int64   \n",
      " 3   Bill_id     26975 non-null  category\n",
      " 4   Bill_amt    26970 non-null  float64 \n",
      " 5   Qty         26967 non-null  float64 \n",
      " 6   Value       26962 non-null  float64 \n",
      " 7   Price       26971 non-null  float64 \n",
      " 8   Group       26981 non-null  category\n",
      " 9   Sgrp        26980 non-null  category\n",
      " 10  Ssgrp       26980 non-null  category\n",
      " 11  Cmp         26985 non-null  category\n",
      " 12  Mbrd        26985 non-null  category\n",
      " 13  Brd         26985 non-null  category\n",
      "dtypes: category(9), float64(4), int64(1)\n",
      "memory usage: 1.9 MB\n"
     ]
    }
   ],
   "source": [
    "hack.info()"
   ]
  },
  {
   "cell_type": "markdown",
   "metadata": {},
   "source": [
    "    We have converted the object column to category"
   ]
  },
  {
   "cell_type": "code",
   "execution_count": 22,
   "metadata": {},
   "outputs": [
    {
     "data": {
      "text/html": [
       "<div>\n",
       "<style scoped>\n",
       "    .dataframe tbody tr th:only-of-type {\n",
       "        vertical-align: middle;\n",
       "    }\n",
       "\n",
       "    .dataframe tbody tr th {\n",
       "        vertical-align: top;\n",
       "    }\n",
       "\n",
       "    .dataframe thead th {\n",
       "        text-align: right;\n",
       "    }\n",
       "</style>\n",
       "<table border=\"1\" class=\"dataframe\">\n",
       "  <thead>\n",
       "    <tr style=\"text-align: right;\">\n",
       "      <th></th>\n",
       "      <th>Day</th>\n",
       "      <th>Bill_amt</th>\n",
       "      <th>Qty</th>\n",
       "      <th>Value</th>\n",
       "      <th>Price</th>\n",
       "    </tr>\n",
       "  </thead>\n",
       "  <tbody>\n",
       "    <tr>\n",
       "      <th>count</th>\n",
       "      <td>26985.000000</td>\n",
       "      <td>26970.000000</td>\n",
       "      <td>26967.000000</td>\n",
       "      <td>26962.000000</td>\n",
       "      <td>26971.000000</td>\n",
       "    </tr>\n",
       "    <tr>\n",
       "      <th>mean</th>\n",
       "      <td>15.167019</td>\n",
       "      <td>278.838089</td>\n",
       "      <td>4.121741</td>\n",
       "      <td>67.829291</td>\n",
       "      <td>52.826722</td>\n",
       "    </tr>\n",
       "    <tr>\n",
       "      <th>std</th>\n",
       "      <td>8.956057</td>\n",
       "      <td>541.529958</td>\n",
       "      <td>95.729206</td>\n",
       "      <td>118.039071</td>\n",
       "      <td>85.004845</td>\n",
       "    </tr>\n",
       "    <tr>\n",
       "      <th>min</th>\n",
       "      <td>1.000000</td>\n",
       "      <td>0.000000</td>\n",
       "      <td>0.500000</td>\n",
       "      <td>0.000000</td>\n",
       "      <td>0.000000</td>\n",
       "    </tr>\n",
       "    <tr>\n",
       "      <th>25%</th>\n",
       "      <td>7.000000</td>\n",
       "      <td>40.000000</td>\n",
       "      <td>1.000000</td>\n",
       "      <td>10.000000</td>\n",
       "      <td>10.000000</td>\n",
       "    </tr>\n",
       "    <tr>\n",
       "      <th>50%</th>\n",
       "      <td>14.000000</td>\n",
       "      <td>111.000000</td>\n",
       "      <td>1.000000</td>\n",
       "      <td>30.000000</td>\n",
       "      <td>22.000000</td>\n",
       "    </tr>\n",
       "    <tr>\n",
       "      <th>75%</th>\n",
       "      <td>23.000000</td>\n",
       "      <td>280.000000</td>\n",
       "      <td>2.000000</td>\n",
       "      <td>80.000000</td>\n",
       "      <td>65.000000</td>\n",
       "    </tr>\n",
       "    <tr>\n",
       "      <th>max</th>\n",
       "      <td>31.000000</td>\n",
       "      <td>7292.000000</td>\n",
       "      <td>12000.000000</td>\n",
       "      <td>3150.000000</td>\n",
       "      <td>3150.000000</td>\n",
       "    </tr>\n",
       "  </tbody>\n",
       "</table>\n",
       "</div>"
      ],
      "text/plain": [
       "                Day      Bill_amt           Qty         Value         Price\n",
       "count  26985.000000  26970.000000  26967.000000  26962.000000  26971.000000\n",
       "mean      15.167019    278.838089      4.121741     67.829291     52.826722\n",
       "std        8.956057    541.529958     95.729206    118.039071     85.004845\n",
       "min        1.000000      0.000000      0.500000      0.000000      0.000000\n",
       "25%        7.000000     40.000000      1.000000     10.000000     10.000000\n",
       "50%       14.000000    111.000000      1.000000     30.000000     22.000000\n",
       "75%       23.000000    280.000000      2.000000     80.000000     65.000000\n",
       "max       31.000000   7292.000000  12000.000000   3150.000000   3150.000000"
      ]
     },
     "execution_count": 22,
     "metadata": {},
     "output_type": "execute_result"
    }
   ],
   "source": [
    "# Descriptive statistics\n",
    "hack.describe()"
   ]
  },
  {
   "cell_type": "code",
   "execution_count": 23,
   "metadata": {},
   "outputs": [
    {
     "data": {
      "text/html": [
       "<div>\n",
       "<style scoped>\n",
       "    .dataframe tbody tr th:only-of-type {\n",
       "        vertical-align: middle;\n",
       "    }\n",
       "\n",
       "    .dataframe tbody tr th {\n",
       "        vertical-align: top;\n",
       "    }\n",
       "\n",
       "    .dataframe thead th {\n",
       "        text-align: right;\n",
       "    }\n",
       "</style>\n",
       "<table border=\"1\" class=\"dataframe\">\n",
       "  <thead>\n",
       "    <tr style=\"text-align: right;\">\n",
       "      <th></th>\n",
       "      <th>Month</th>\n",
       "      <th>Store_code</th>\n",
       "      <th>Bill_id</th>\n",
       "      <th>Group</th>\n",
       "      <th>Sgrp</th>\n",
       "      <th>Ssgrp</th>\n",
       "      <th>Cmp</th>\n",
       "      <th>Mbrd</th>\n",
       "      <th>Brd</th>\n",
       "    </tr>\n",
       "  </thead>\n",
       "  <tbody>\n",
       "    <tr>\n",
       "      <th>count</th>\n",
       "      <td>26985</td>\n",
       "      <td>26985</td>\n",
       "      <td>26975</td>\n",
       "      <td>26981</td>\n",
       "      <td>26980</td>\n",
       "      <td>26980</td>\n",
       "      <td>26985</td>\n",
       "      <td>26985</td>\n",
       "      <td>26985</td>\n",
       "    </tr>\n",
       "    <tr>\n",
       "      <th>unique</th>\n",
       "      <td>3</td>\n",
       "      <td>10</td>\n",
       "      <td>6423</td>\n",
       "      <td>87</td>\n",
       "      <td>174</td>\n",
       "      <td>232</td>\n",
       "      <td>354</td>\n",
       "      <td>643</td>\n",
       "      <td>1315</td>\n",
       "    </tr>\n",
       "    <tr>\n",
       "      <th>top</th>\n",
       "      <td>M3</td>\n",
       "      <td>N7</td>\n",
       "      <td>T1521</td>\n",
       "      <td>BISCUITS - CORE &amp; NON CORE</td>\n",
       "      <td>SWEET/COOKIES</td>\n",
       "      <td>SWEET/COOKIES</td>\n",
       "      <td>BRITANNIA INDS</td>\n",
       "      <td>MARIE GOLD</td>\n",
       "      <td>MARIE GOLD REGULAR</td>\n",
       "    </tr>\n",
       "    <tr>\n",
       "      <th>freq</th>\n",
       "      <td>9430</td>\n",
       "      <td>5625</td>\n",
       "      <td>44</td>\n",
       "      <td>6677</td>\n",
       "      <td>1953</td>\n",
       "      <td>1953</td>\n",
       "      <td>3147</td>\n",
       "      <td>977</td>\n",
       "      <td>786</td>\n",
       "    </tr>\n",
       "  </tbody>\n",
       "</table>\n",
       "</div>"
      ],
      "text/plain": [
       "        Month Store_code Bill_id                       Group           Sgrp  \\\n",
       "count   26985      26985   26975                       26981          26980   \n",
       "unique      3         10    6423                          87            174   \n",
       "top        M3         N7   T1521  BISCUITS - CORE & NON CORE  SWEET/COOKIES   \n",
       "freq     9430       5625      44                        6677           1953   \n",
       "\n",
       "                Ssgrp             Cmp        Mbrd                 Brd  \n",
       "count           26980           26985       26985               26985  \n",
       "unique            232             354         643                1315  \n",
       "top     SWEET/COOKIES  BRITANNIA INDS  MARIE GOLD  MARIE GOLD REGULAR  \n",
       "freq             1953            3147         977                 786  "
      ]
     },
     "execution_count": 23,
     "metadata": {},
     "output_type": "execute_result"
    }
   ],
   "source": [
    "hack.describe(include= 'category')"
   ]
  },
  {
   "cell_type": "markdown",
   "metadata": {},
   "source": [
    "***The describe() function is used to generate descriptive statistics that summarize the central tendency, dispersion and shape of a dataset’s distribution, excluding NaN values.***"
   ]
  },
  {
   "cell_type": "code",
   "execution_count": 24,
   "metadata": {},
   "outputs": [
    {
     "data": {
      "text/plain": [
       "89"
      ]
     },
     "execution_count": 24,
     "metadata": {},
     "output_type": "execute_result"
    }
   ],
   "source": [
    "# duplicated values\n",
    "\n",
    "hack.duplicated().sum()"
   ]
  },
  {
   "cell_type": "code",
   "execution_count": 25,
   "metadata": {},
   "outputs": [],
   "source": [
    "# We have to drop the duplicated values\n",
    "\n",
    "hack.drop_duplicates(inplace=True)"
   ]
  },
  {
   "cell_type": "code",
   "execution_count": 26,
   "metadata": {},
   "outputs": [
    {
     "data": {
      "text/plain": [
       "0"
      ]
     },
     "execution_count": 26,
     "metadata": {},
     "output_type": "execute_result"
    }
   ],
   "source": [
    "hack.duplicated().sum()"
   ]
  },
  {
   "cell_type": "code",
   "execution_count": 27,
   "metadata": {},
   "outputs": [
    {
     "data": {
      "text/plain": [
       "Month          0\n",
       "Store_code     0\n",
       "Day            0\n",
       "Bill_id       10\n",
       "Bill_amt      15\n",
       "Qty           18\n",
       "Value         23\n",
       "Price         14\n",
       "Group          4\n",
       "Sgrp           5\n",
       "Ssgrp          5\n",
       "Cmp            0\n",
       "Mbrd           0\n",
       "Brd            0\n",
       "dtype: int64"
      ]
     },
     "execution_count": 27,
     "metadata": {},
     "output_type": "execute_result"
    }
   ],
   "source": [
    "# NUll value\n",
    "\n",
    "hack.isnull().sum()"
   ]
  },
  {
   "cell_type": "code",
   "execution_count": 28,
   "metadata": {},
   "outputs": [
    {
     "data": {
      "text/plain": [
       "94"
      ]
     },
     "execution_count": 28,
     "metadata": {},
     "output_type": "execute_result"
    }
   ],
   "source": [
    "hack.isnull().sum().sum()"
   ]
  },
  {
   "cell_type": "code",
   "execution_count": 29,
   "metadata": {},
   "outputs": [
    {
     "data": {
      "text/plain": [
       "0.025"
      ]
     },
     "execution_count": 29,
     "metadata": {},
     "output_type": "execute_result"
    }
   ],
   "source": [
    "# Lets check the percentage of null value in the data set\n",
    "\n",
    "null_value_perc = round((hack.isnull().sum().sum() /np.product(hack.shape)*100), 4) \n",
    "\n",
    "null_value_perc"
   ]
  },
  {
   "cell_type": "code",
   "execution_count": 30,
   "metadata": {},
   "outputs": [
    {
     "data": {
      "text/plain": [
       "Month         0.000000\n",
       "Store_code    0.000000\n",
       "Day           0.000000\n",
       "Bill_id       0.000027\n",
       "Bill_amt      0.000040\n",
       "Qty           0.000048\n",
       "Value         0.000061\n",
       "Price         0.000037\n",
       "Group         0.000011\n",
       "Sgrp          0.000013\n",
       "Ssgrp         0.000013\n",
       "Cmp           0.000000\n",
       "Mbrd          0.000000\n",
       "Brd           0.000000\n",
       "dtype: float64"
      ]
     },
     "execution_count": 30,
     "metadata": {},
     "output_type": "execute_result"
    }
   ],
   "source": [
    "# second method for each columns\n",
    "\n",
    "hack.isnull().sum()/np.product(hack.shape)"
   ]
  },
  {
   "cell_type": "code",
   "execution_count": 31,
   "metadata": {},
   "outputs": [
    {
     "data": {
      "text/plain": [
       "Month         26896\n",
       "Store_code    26896\n",
       "Day           26896\n",
       "Bill_id       26886\n",
       "Bill_amt      26881\n",
       "Qty           26878\n",
       "Value         26873\n",
       "Price         26882\n",
       "Group         26892\n",
       "Sgrp          26891\n",
       "Ssgrp         26891\n",
       "Cmp           26896\n",
       "Mbrd          26896\n",
       "Brd           26896\n",
       "dtype: int64"
      ]
     },
     "execution_count": 31,
     "metadata": {},
     "output_type": "execute_result"
    }
   ],
   "source": [
    "# Used to count the number of rows\n",
    "\n",
    "hack.count()"
   ]
  },
  {
   "cell_type": "markdown",
   "metadata": {},
   "source": [
    "***Before we handle null values let's do some EDA***"
   ]
  },
  {
   "cell_type": "markdown",
   "metadata": {},
   "source": [
    "***NOTE : in the dataset we see the Bill_amt, Value and Price***\n",
    "\n",
    "    Here : Price is correctly updated.\n",
    "    \n",
    "    Price * Qty = Value\n",
    "    \n",
    "    Value + Value (of Same Bill_id) = Bill_amt\n",
    "    \n",
    "    adding Values of same Bill_id  = Bill_amt"
   ]
  },
  {
   "cell_type": "code",
   "execution_count": 32,
   "metadata": {},
   "outputs": [
    {
     "data": {
      "text/plain": [
       "7678     12000.0\n",
       "6680      5000.0\n",
       "16584     3000.0\n",
       "17128     3000.0\n",
       "17611     3000.0\n",
       "Name: Qty, dtype: float64"
      ]
     },
     "execution_count": 32,
     "metadata": {},
     "output_type": "execute_result"
    }
   ],
   "source": [
    "# Lets check which brand is sold more qty\n",
    "\n",
    "hack['Qty'].nlargest()"
   ]
  },
  {
   "cell_type": "code",
   "execution_count": 33,
   "metadata": {},
   "outputs": [
    {
     "data": {
      "text/html": [
       "<div>\n",
       "<style scoped>\n",
       "    .dataframe tbody tr th:only-of-type {\n",
       "        vertical-align: middle;\n",
       "    }\n",
       "\n",
       "    .dataframe tbody tr th {\n",
       "        vertical-align: top;\n",
       "    }\n",
       "\n",
       "    .dataframe thead th {\n",
       "        text-align: right;\n",
       "    }\n",
       "</style>\n",
       "<table border=\"1\" class=\"dataframe\">\n",
       "  <thead>\n",
       "    <tr style=\"text-align: right;\">\n",
       "      <th></th>\n",
       "      <th>Month</th>\n",
       "      <th>Store_code</th>\n",
       "      <th>Day</th>\n",
       "      <th>Bill_id</th>\n",
       "      <th>Bill_amt</th>\n",
       "      <th>Qty</th>\n",
       "      <th>Value</th>\n",
       "      <th>Price</th>\n",
       "      <th>Group</th>\n",
       "      <th>Sgrp</th>\n",
       "      <th>Ssgrp</th>\n",
       "      <th>Cmp</th>\n",
       "      <th>Mbrd</th>\n",
       "      <th>Brd</th>\n",
       "    </tr>\n",
       "  </thead>\n",
       "  <tbody>\n",
       "    <tr>\n",
       "      <th>7678</th>\n",
       "      <td>M2</td>\n",
       "      <td>N1</td>\n",
       "      <td>27</td>\n",
       "      <td>T6293</td>\n",
       "      <td>2185.0</td>\n",
       "      <td>12000.0</td>\n",
       "      <td>1116.0</td>\n",
       "      <td>0.09</td>\n",
       "      <td>REFINED EDIBLE OILS-ALL PACKS</td>\n",
       "      <td>SUN FLOWER</td>\n",
       "      <td>SUN FLOWER</td>\n",
       "      <td>LIBERTY OIL MILLS</td>\n",
       "      <td>SUNDAY</td>\n",
       "      <td>SUNDAY</td>\n",
       "    </tr>\n",
       "  </tbody>\n",
       "</table>\n",
       "</div>"
      ],
      "text/plain": [
       "     Month Store_code  Day Bill_id  Bill_amt      Qty   Value  Price  \\\n",
       "7678    M2         N1   27   T6293    2185.0  12000.0  1116.0   0.09   \n",
       "\n",
       "                              Group        Sgrp       Ssgrp  \\\n",
       "7678  REFINED EDIBLE OILS-ALL PACKS  SUN FLOWER  SUN FLOWER   \n",
       "\n",
       "                    Cmp    Mbrd     Brd  \n",
       "7678  LIBERTY OIL MILLS  SUNDAY  SUNDAY  "
      ]
     },
     "execution_count": 33,
     "metadata": {},
     "output_type": "execute_result"
    }
   ],
   "source": [
    "hack[hack['Qty'] > 5000]"
   ]
  },
  {
   "cell_type": "code",
   "execution_count": 34,
   "metadata": {},
   "outputs": [
    {
     "data": {
      "text/html": [
       "<div>\n",
       "<style scoped>\n",
       "    .dataframe tbody tr th:only-of-type {\n",
       "        vertical-align: middle;\n",
       "    }\n",
       "\n",
       "    .dataframe tbody tr th {\n",
       "        vertical-align: top;\n",
       "    }\n",
       "\n",
       "    .dataframe thead th {\n",
       "        text-align: right;\n",
       "    }\n",
       "</style>\n",
       "<table border=\"1\" class=\"dataframe\">\n",
       "  <thead>\n",
       "    <tr style=\"text-align: right;\">\n",
       "      <th></th>\n",
       "      <th>Month</th>\n",
       "      <th>Store_code</th>\n",
       "      <th>Day</th>\n",
       "      <th>Bill_id</th>\n",
       "      <th>Bill_amt</th>\n",
       "      <th>Qty</th>\n",
       "      <th>Value</th>\n",
       "      <th>Price</th>\n",
       "      <th>Group</th>\n",
       "      <th>Sgrp</th>\n",
       "      <th>Ssgrp</th>\n",
       "      <th>Cmp</th>\n",
       "      <th>Mbrd</th>\n",
       "      <th>Brd</th>\n",
       "    </tr>\n",
       "  </thead>\n",
       "  <tbody>\n",
       "    <tr>\n",
       "      <th>6680</th>\n",
       "      <td>M1</td>\n",
       "      <td>N7</td>\n",
       "      <td>28</td>\n",
       "      <td>T2326</td>\n",
       "      <td>5.0</td>\n",
       "      <td>5000.0</td>\n",
       "      <td>5.0</td>\n",
       "      <td>0.00</td>\n",
       "      <td>HAIR OILS PKTP(8/02)</td>\n",
       "      <td>FLEXI</td>\n",
       "      <td>COOLING OIL</td>\n",
       "      <td>EMAMI</td>\n",
       "      <td>NAVRATNA</td>\n",
       "      <td>NAVRATNA</td>\n",
       "    </tr>\n",
       "    <tr>\n",
       "      <th>7678</th>\n",
       "      <td>M2</td>\n",
       "      <td>N1</td>\n",
       "      <td>27</td>\n",
       "      <td>T6293</td>\n",
       "      <td>2185.0</td>\n",
       "      <td>12000.0</td>\n",
       "      <td>1116.0</td>\n",
       "      <td>0.09</td>\n",
       "      <td>REFINED EDIBLE OILS-ALL PACKS</td>\n",
       "      <td>SUN FLOWER</td>\n",
       "      <td>SUN FLOWER</td>\n",
       "      <td>LIBERTY OIL MILLS</td>\n",
       "      <td>SUNDAY</td>\n",
       "      <td>SUNDAY</td>\n",
       "    </tr>\n",
       "  </tbody>\n",
       "</table>\n",
       "</div>"
      ],
      "text/plain": [
       "     Month Store_code  Day Bill_id  Bill_amt      Qty   Value  Price  \\\n",
       "6680    M1         N7   28   T2326       5.0   5000.0     5.0   0.00   \n",
       "7678    M2         N1   27   T6293    2185.0  12000.0  1116.0   0.09   \n",
       "\n",
       "                              Group        Sgrp        Ssgrp  \\\n",
       "6680           HAIR OILS PKTP(8/02)       FLEXI  COOLING OIL   \n",
       "7678  REFINED EDIBLE OILS-ALL PACKS  SUN FLOWER   SUN FLOWER   \n",
       "\n",
       "                    Cmp      Mbrd       Brd  \n",
       "6680              EMAMI  NAVRATNA  NAVRATNA  \n",
       "7678  LIBERTY OIL MILLS    SUNDAY    SUNDAY  "
      ]
     },
     "execution_count": 34,
     "metadata": {},
     "output_type": "execute_result"
    }
   ],
   "source": [
    "hack[hack['Qty'] > 3000]"
   ]
  },
  {
   "cell_type": "code",
   "execution_count": 35,
   "metadata": {},
   "outputs": [
    {
     "data": {
      "text/plain": [
       "12000.0"
      ]
     },
     "execution_count": 35,
     "metadata": {},
     "output_type": "execute_result"
    }
   ],
   "source": [
    "hack.Qty.max()"
   ]
  },
  {
   "cell_type": "code",
   "execution_count": 36,
   "metadata": {},
   "outputs": [
    {
     "data": {
      "text/html": [
       "<div>\n",
       "<style scoped>\n",
       "    .dataframe tbody tr th:only-of-type {\n",
       "        vertical-align: middle;\n",
       "    }\n",
       "\n",
       "    .dataframe tbody tr th {\n",
       "        vertical-align: top;\n",
       "    }\n",
       "\n",
       "    .dataframe thead th {\n",
       "        text-align: right;\n",
       "    }\n",
       "</style>\n",
       "<table border=\"1\" class=\"dataframe\">\n",
       "  <thead>\n",
       "    <tr style=\"text-align: right;\">\n",
       "      <th></th>\n",
       "      <th>Month</th>\n",
       "      <th>Store_code</th>\n",
       "      <th>Day</th>\n",
       "      <th>Bill_id</th>\n",
       "      <th>Bill_amt</th>\n",
       "      <th>Qty</th>\n",
       "      <th>Value</th>\n",
       "      <th>Price</th>\n",
       "      <th>Group</th>\n",
       "      <th>Sgrp</th>\n",
       "      <th>Ssgrp</th>\n",
       "      <th>Cmp</th>\n",
       "      <th>Mbrd</th>\n",
       "      <th>Brd</th>\n",
       "    </tr>\n",
       "  </thead>\n",
       "  <tbody>\n",
       "    <tr>\n",
       "      <th>7678</th>\n",
       "      <td>M2</td>\n",
       "      <td>N1</td>\n",
       "      <td>27</td>\n",
       "      <td>T6293</td>\n",
       "      <td>2185.0</td>\n",
       "      <td>12000.0</td>\n",
       "      <td>1116.0</td>\n",
       "      <td>0.09</td>\n",
       "      <td>REFINED EDIBLE OILS-ALL PACKS</td>\n",
       "      <td>SUN FLOWER</td>\n",
       "      <td>SUN FLOWER</td>\n",
       "      <td>LIBERTY OIL MILLS</td>\n",
       "      <td>SUNDAY</td>\n",
       "      <td>SUNDAY</td>\n",
       "    </tr>\n",
       "  </tbody>\n",
       "</table>\n",
       "</div>"
      ],
      "text/plain": [
       "     Month Store_code  Day Bill_id  Bill_amt      Qty   Value  Price  \\\n",
       "7678    M2         N1   27   T6293    2185.0  12000.0  1116.0   0.09   \n",
       "\n",
       "                              Group        Sgrp       Ssgrp  \\\n",
       "7678  REFINED EDIBLE OILS-ALL PACKS  SUN FLOWER  SUN FLOWER   \n",
       "\n",
       "                    Cmp    Mbrd     Brd  \n",
       "7678  LIBERTY OIL MILLS  SUNDAY  SUNDAY  "
      ]
     },
     "execution_count": 36,
     "metadata": {},
     "output_type": "execute_result"
    }
   ],
   "source": [
    "hack[hack.Qty == 12000.0]"
   ]
  },
  {
   "cell_type": "code",
   "execution_count": 37,
   "metadata": {},
   "outputs": [
    {
     "data": {
      "text/html": [
       "<div>\n",
       "<style scoped>\n",
       "    .dataframe tbody tr th:only-of-type {\n",
       "        vertical-align: middle;\n",
       "    }\n",
       "\n",
       "    .dataframe tbody tr th {\n",
       "        vertical-align: top;\n",
       "    }\n",
       "\n",
       "    .dataframe thead th {\n",
       "        text-align: right;\n",
       "    }\n",
       "</style>\n",
       "<table border=\"1\" class=\"dataframe\">\n",
       "  <thead>\n",
       "    <tr style=\"text-align: right;\">\n",
       "      <th></th>\n",
       "      <th>Month</th>\n",
       "      <th>Store_code</th>\n",
       "      <th>Day</th>\n",
       "      <th>Bill_id</th>\n",
       "      <th>Bill_amt</th>\n",
       "      <th>Qty</th>\n",
       "      <th>Value</th>\n",
       "      <th>Price</th>\n",
       "      <th>Group</th>\n",
       "      <th>Sgrp</th>\n",
       "      <th>Ssgrp</th>\n",
       "      <th>Cmp</th>\n",
       "      <th>Mbrd</th>\n",
       "      <th>Brd</th>\n",
       "    </tr>\n",
       "  </thead>\n",
       "  <tbody>\n",
       "    <tr>\n",
       "      <th>547</th>\n",
       "      <td>M1</td>\n",
       "      <td>N1</td>\n",
       "      <td>8</td>\n",
       "      <td>T870</td>\n",
       "      <td>135.6</td>\n",
       "      <td>400.0</td>\n",
       "      <td>56.0</td>\n",
       "      <td>14.00</td>\n",
       "      <td>BATTERIES</td>\n",
       "      <td>NON-ALKALINE</td>\n",
       "      <td>AA-SIZE</td>\n",
       "      <td>EVEREADY INDS</td>\n",
       "      <td>EVEREADY</td>\n",
       "      <td>EVEREADY 1015</td>\n",
       "    </tr>\n",
       "    <tr>\n",
       "      <th>2149</th>\n",
       "      <td>M1</td>\n",
       "      <td>N1</td>\n",
       "      <td>28</td>\n",
       "      <td>T3229</td>\n",
       "      <td>200.2</td>\n",
       "      <td>89.0</td>\n",
       "      <td>160.2</td>\n",
       "      <td>1.80</td>\n",
       "      <td>CONFECTIONERY - TOFFEE/HBC</td>\n",
       "      <td>TOFFEES</td>\n",
       "      <td>TOFFEES</td>\n",
       "      <td>PARLE PRODS</td>\n",
       "      <td>PARLE KISMI BAR</td>\n",
       "      <td>KISMI BAR</td>\n",
       "    </tr>\n",
       "    <tr>\n",
       "      <th>2430</th>\n",
       "      <td>M1</td>\n",
       "      <td>N2</td>\n",
       "      <td>1</td>\n",
       "      <td>T5</td>\n",
       "      <td>200.0</td>\n",
       "      <td>100.0</td>\n",
       "      <td>200.0</td>\n",
       "      <td>2.00</td>\n",
       "      <td>BISCUITS - CORE &amp; NON CORE</td>\n",
       "      <td>GLUCOSE</td>\n",
       "      <td>GLUCOSE</td>\n",
       "      <td>PARLE PRODS</td>\n",
       "      <td>PARLE-G</td>\n",
       "      <td>PARLE-G</td>\n",
       "    </tr>\n",
       "    <tr>\n",
       "      <th>2468</th>\n",
       "      <td>M1</td>\n",
       "      <td>N2</td>\n",
       "      <td>3</td>\n",
       "      <td>T36</td>\n",
       "      <td>228.0</td>\n",
       "      <td>80.0</td>\n",
       "      <td>80.0</td>\n",
       "      <td>1.00</td>\n",
       "      <td>CONFECTIONERY - TOFFEE/HBC</td>\n",
       "      <td>HARD B  CANDIES</td>\n",
       "      <td>HARD B  CANDIES</td>\n",
       "      <td>PERFETTI VAN MELLE</td>\n",
       "      <td>MARBELS</td>\n",
       "      <td>MARBELS SOUR</td>\n",
       "    </tr>\n",
       "    <tr>\n",
       "      <th>2482</th>\n",
       "      <td>M1</td>\n",
       "      <td>N2</td>\n",
       "      <td>4</td>\n",
       "      <td>T47</td>\n",
       "      <td>496.0</td>\n",
       "      <td>1000.0</td>\n",
       "      <td>266.0</td>\n",
       "      <td>0.27</td>\n",
       "      <td>HOME INSECTICIDES CTG  (8/93)</td>\n",
       "      <td>AEROSOL</td>\n",
       "      <td>AEROSOL</td>\n",
       "      <td>GODREJ CONSUMER PRODS</td>\n",
       "      <td>HIT</td>\n",
       "      <td>HIT LIME</td>\n",
       "    </tr>\n",
       "    <tr>\n",
       "      <th>2541</th>\n",
       "      <td>M1</td>\n",
       "      <td>N2</td>\n",
       "      <td>8</td>\n",
       "      <td>T82</td>\n",
       "      <td>200.0</td>\n",
       "      <td>100.0</td>\n",
       "      <td>200.0</td>\n",
       "      <td>2.00</td>\n",
       "      <td>BISCUITS - CORE &amp; NON CORE</td>\n",
       "      <td>GLUCOSE</td>\n",
       "      <td>GLUCOSE</td>\n",
       "      <td>PARLE PRODS</td>\n",
       "      <td>PARLE-G</td>\n",
       "      <td>PARLE-G</td>\n",
       "    </tr>\n",
       "    <tr>\n",
       "      <th>2637</th>\n",
       "      <td>M1</td>\n",
       "      <td>N2</td>\n",
       "      <td>15</td>\n",
       "      <td>T175</td>\n",
       "      <td>200.0</td>\n",
       "      <td>100.0</td>\n",
       "      <td>200.0</td>\n",
       "      <td>2.00</td>\n",
       "      <td>BISCUITS - CORE &amp; NON CORE</td>\n",
       "      <td>GLUCOSE</td>\n",
       "      <td>GLUCOSE</td>\n",
       "      <td>PARLE PRODS</td>\n",
       "      <td>PARLE-G</td>\n",
       "      <td>PARLE-G</td>\n",
       "    </tr>\n",
       "    <tr>\n",
       "      <th>2711</th>\n",
       "      <td>M1</td>\n",
       "      <td>N2</td>\n",
       "      <td>22</td>\n",
       "      <td>T255</td>\n",
       "      <td>720.0</td>\n",
       "      <td>144.0</td>\n",
       "      <td>720.0</td>\n",
       "      <td>5.00</td>\n",
       "      <td>CHOCOLATE</td>\n",
       "      <td>MOULDED</td>\n",
       "      <td>MOULDED</td>\n",
       "      <td>MONDELEZ INTERNATIONAL</td>\n",
       "      <td>CADBURY DAIRY MILK</td>\n",
       "      <td>DAIRY MILK</td>\n",
       "    </tr>\n",
       "    <tr>\n",
       "      <th>2759</th>\n",
       "      <td>M1</td>\n",
       "      <td>N2</td>\n",
       "      <td>29</td>\n",
       "      <td>T332</td>\n",
       "      <td>225.0</td>\n",
       "      <td>100.0</td>\n",
       "      <td>200.0</td>\n",
       "      <td>2.00</td>\n",
       "      <td>BISCUITS - CORE &amp; NON CORE</td>\n",
       "      <td>GLUCOSE</td>\n",
       "      <td>GLUCOSE</td>\n",
       "      <td>PARLE PRODS</td>\n",
       "      <td>PARLE-G</td>\n",
       "      <td>PARLE-G</td>\n",
       "    </tr>\n",
       "    <tr>\n",
       "      <th>5419</th>\n",
       "      <td>M1</td>\n",
       "      <td>N7</td>\n",
       "      <td>3</td>\n",
       "      <td>T166</td>\n",
       "      <td>168.1</td>\n",
       "      <td>60.0</td>\n",
       "      <td>114.6</td>\n",
       "      <td>1.91</td>\n",
       "      <td>COFFEE</td>\n",
       "      <td>INSTANT COFFEE</td>\n",
       "      <td>INSTANT COFFEE</td>\n",
       "      <td>NESTLE INDIA</td>\n",
       "      <td>NESCAFE</td>\n",
       "      <td>NESCAFE CLASSIC</td>\n",
       "    </tr>\n",
       "    <tr>\n",
       "      <th>5989</th>\n",
       "      <td>M1</td>\n",
       "      <td>N7</td>\n",
       "      <td>17</td>\n",
       "      <td>T1320</td>\n",
       "      <td>7.0</td>\n",
       "      <td>1000.0</td>\n",
       "      <td>1.0</td>\n",
       "      <td>0.00</td>\n",
       "      <td>HAIR OILS PKTP(8/02)</td>\n",
       "      <td>FLEXI</td>\n",
       "      <td>COOLING OIL</td>\n",
       "      <td>EMAMI</td>\n",
       "      <td>NAVRATNA</td>\n",
       "      <td>NAVRATNA</td>\n",
       "    </tr>\n",
       "    <tr>\n",
       "      <th>6680</th>\n",
       "      <td>M1</td>\n",
       "      <td>N7</td>\n",
       "      <td>28</td>\n",
       "      <td>T2326</td>\n",
       "      <td>5.0</td>\n",
       "      <td>5000.0</td>\n",
       "      <td>5.0</td>\n",
       "      <td>0.00</td>\n",
       "      <td>HAIR OILS PKTP(8/02)</td>\n",
       "      <td>FLEXI</td>\n",
       "      <td>COOLING OIL</td>\n",
       "      <td>EMAMI</td>\n",
       "      <td>NAVRATNA</td>\n",
       "      <td>NAVRATNA</td>\n",
       "    </tr>\n",
       "    <tr>\n",
       "      <th>6882</th>\n",
       "      <td>M1</td>\n",
       "      <td>N7</td>\n",
       "      <td>13</td>\n",
       "      <td>T2565</td>\n",
       "      <td>881.6</td>\n",
       "      <td>72.0</td>\n",
       "      <td>345.6</td>\n",
       "      <td>4.80</td>\n",
       "      <td>CHOCOLATE</td>\n",
       "      <td>SUGAR PANNED</td>\n",
       "      <td>SUGAR PANNED</td>\n",
       "      <td>MONDELEZ INTERNATIONAL</td>\n",
       "      <td>GEMS</td>\n",
       "      <td>GEMS</td>\n",
       "    </tr>\n",
       "  </tbody>\n",
       "</table>\n",
       "</div>"
      ],
      "text/plain": [
       "     Month Store_code  Day Bill_id  Bill_amt     Qty  Value  Price  \\\n",
       "547     M1         N1    8    T870     135.6   400.0   56.0  14.00   \n",
       "2149    M1         N1   28   T3229     200.2    89.0  160.2   1.80   \n",
       "2430    M1         N2    1      T5     200.0   100.0  200.0   2.00   \n",
       "2468    M1         N2    3     T36     228.0    80.0   80.0   1.00   \n",
       "2482    M1         N2    4     T47     496.0  1000.0  266.0   0.27   \n",
       "2541    M1         N2    8     T82     200.0   100.0  200.0   2.00   \n",
       "2637    M1         N2   15    T175     200.0   100.0  200.0   2.00   \n",
       "2711    M1         N2   22    T255     720.0   144.0  720.0   5.00   \n",
       "2759    M1         N2   29    T332     225.0   100.0  200.0   2.00   \n",
       "5419    M1         N7    3    T166     168.1    60.0  114.6   1.91   \n",
       "5989    M1         N7   17   T1320       7.0  1000.0    1.0   0.00   \n",
       "6680    M1         N7   28   T2326       5.0  5000.0    5.0   0.00   \n",
       "6882    M1         N7   13   T2565     881.6    72.0  345.6   4.80   \n",
       "\n",
       "                              Group             Sgrp            Ssgrp  \\\n",
       "547                       BATTERIES     NON-ALKALINE          AA-SIZE   \n",
       "2149     CONFECTIONERY - TOFFEE/HBC          TOFFEES          TOFFEES   \n",
       "2430     BISCUITS - CORE & NON CORE          GLUCOSE          GLUCOSE   \n",
       "2468     CONFECTIONERY - TOFFEE/HBC  HARD B  CANDIES  HARD B  CANDIES   \n",
       "2482  HOME INSECTICIDES CTG  (8/93)          AEROSOL          AEROSOL   \n",
       "2541     BISCUITS - CORE & NON CORE          GLUCOSE          GLUCOSE   \n",
       "2637     BISCUITS - CORE & NON CORE          GLUCOSE          GLUCOSE   \n",
       "2711                      CHOCOLATE          MOULDED          MOULDED   \n",
       "2759     BISCUITS - CORE & NON CORE          GLUCOSE          GLUCOSE   \n",
       "5419                         COFFEE   INSTANT COFFEE   INSTANT COFFEE   \n",
       "5989           HAIR OILS PKTP(8/02)            FLEXI      COOLING OIL   \n",
       "6680           HAIR OILS PKTP(8/02)            FLEXI      COOLING OIL   \n",
       "6882                      CHOCOLATE     SUGAR PANNED     SUGAR PANNED   \n",
       "\n",
       "                         Cmp                Mbrd              Brd  \n",
       "547            EVEREADY INDS            EVEREADY    EVEREADY 1015  \n",
       "2149             PARLE PRODS     PARLE KISMI BAR        KISMI BAR  \n",
       "2430             PARLE PRODS             PARLE-G          PARLE-G  \n",
       "2468      PERFETTI VAN MELLE             MARBELS     MARBELS SOUR  \n",
       "2482   GODREJ CONSUMER PRODS                 HIT         HIT LIME  \n",
       "2541             PARLE PRODS             PARLE-G          PARLE-G  \n",
       "2637             PARLE PRODS             PARLE-G          PARLE-G  \n",
       "2711  MONDELEZ INTERNATIONAL  CADBURY DAIRY MILK       DAIRY MILK  \n",
       "2759             PARLE PRODS             PARLE-G          PARLE-G  \n",
       "5419            NESTLE INDIA             NESCAFE  NESCAFE CLASSIC  \n",
       "5989                   EMAMI            NAVRATNA         NAVRATNA  \n",
       "6680                   EMAMI            NAVRATNA         NAVRATNA  \n",
       "6882  MONDELEZ INTERNATIONAL                GEMS             GEMS  "
      ]
     },
     "execution_count": 37,
     "metadata": {},
     "output_type": "execute_result"
    }
   ],
   "source": [
    "# Lets check which are the items sold more than 50 qty in first month\n",
    "\n",
    "hack[(hack['Qty'] > 50) & (hack['Month'] == 'M1')] "
   ]
  },
  {
   "cell_type": "code",
   "execution_count": 38,
   "metadata": {},
   "outputs": [
    {
     "data": {
      "text/html": [
       "<div>\n",
       "<style scoped>\n",
       "    .dataframe tbody tr th:only-of-type {\n",
       "        vertical-align: middle;\n",
       "    }\n",
       "\n",
       "    .dataframe tbody tr th {\n",
       "        vertical-align: top;\n",
       "    }\n",
       "\n",
       "    .dataframe thead th {\n",
       "        text-align: right;\n",
       "    }\n",
       "</style>\n",
       "<table border=\"1\" class=\"dataframe\">\n",
       "  <thead>\n",
       "    <tr style=\"text-align: right;\">\n",
       "      <th></th>\n",
       "      <th>Month</th>\n",
       "      <th>Store_code</th>\n",
       "      <th>Day</th>\n",
       "      <th>Bill_id</th>\n",
       "      <th>Bill_amt</th>\n",
       "      <th>Qty</th>\n",
       "      <th>Value</th>\n",
       "      <th>Price</th>\n",
       "      <th>Group</th>\n",
       "      <th>Sgrp</th>\n",
       "      <th>Ssgrp</th>\n",
       "      <th>Cmp</th>\n",
       "      <th>Mbrd</th>\n",
       "      <th>Brd</th>\n",
       "    </tr>\n",
       "  </thead>\n",
       "  <tbody>\n",
       "    <tr>\n",
       "      <th>7678</th>\n",
       "      <td>M2</td>\n",
       "      <td>N1</td>\n",
       "      <td>27</td>\n",
       "      <td>T6293</td>\n",
       "      <td>2185.0</td>\n",
       "      <td>12000.0</td>\n",
       "      <td>1116.0</td>\n",
       "      <td>0.09</td>\n",
       "      <td>REFINED EDIBLE OILS-ALL PACKS</td>\n",
       "      <td>SUN FLOWER</td>\n",
       "      <td>SUN FLOWER</td>\n",
       "      <td>LIBERTY OIL MILLS</td>\n",
       "      <td>SUNDAY</td>\n",
       "      <td>SUNDAY</td>\n",
       "    </tr>\n",
       "    <tr>\n",
       "      <th>7791</th>\n",
       "      <td>M2</td>\n",
       "      <td>N2</td>\n",
       "      <td>4</td>\n",
       "      <td>T480</td>\n",
       "      <td>1534.0</td>\n",
       "      <td>2000.0</td>\n",
       "      <td>164.0</td>\n",
       "      <td>0.08</td>\n",
       "      <td>CLEANERS - TOILET</td>\n",
       "      <td>LIQUIDS</td>\n",
       "      <td>LIQUIDS</td>\n",
       "      <td>DABUR</td>\n",
       "      <td>SANIFRESH</td>\n",
       "      <td>SANIFRESH</td>\n",
       "    </tr>\n",
       "    <tr>\n",
       "      <th>7808</th>\n",
       "      <td>M2</td>\n",
       "      <td>N2</td>\n",
       "      <td>6</td>\n",
       "      <td>T497</td>\n",
       "      <td>200.0</td>\n",
       "      <td>100.0</td>\n",
       "      <td>200.0</td>\n",
       "      <td>2.00</td>\n",
       "      <td>BISCUITS - CORE &amp; NON CORE</td>\n",
       "      <td>GLUCOSE</td>\n",
       "      <td>GLUCOSE</td>\n",
       "      <td>PARLE PRODS</td>\n",
       "      <td>PARLE-G</td>\n",
       "      <td>PARLE-G</td>\n",
       "    </tr>\n",
       "    <tr>\n",
       "      <th>7824</th>\n",
       "      <td>M2</td>\n",
       "      <td>N2</td>\n",
       "      <td>7</td>\n",
       "      <td>T526</td>\n",
       "      <td>256.0</td>\n",
       "      <td>1000.0</td>\n",
       "      <td>256.0</td>\n",
       "      <td>0.26</td>\n",
       "      <td>HOME INSECTICIDES CTG  (8/93)</td>\n",
       "      <td>AEROSOL</td>\n",
       "      <td>AEROSOL</td>\n",
       "      <td>GODREJ CONSUMER PRODS</td>\n",
       "      <td>HIT</td>\n",
       "      <td>HIT LIME</td>\n",
       "    </tr>\n",
       "    <tr>\n",
       "      <th>7859</th>\n",
       "      <td>M2</td>\n",
       "      <td>N2</td>\n",
       "      <td>13</td>\n",
       "      <td>T588</td>\n",
       "      <td>200.0</td>\n",
       "      <td>100.0</td>\n",
       "      <td>200.0</td>\n",
       "      <td>2.00</td>\n",
       "      <td>BISCUITS - CORE &amp; NON CORE</td>\n",
       "      <td>GLUCOSE</td>\n",
       "      <td>GLUCOSE</td>\n",
       "      <td>PARLE PRODS</td>\n",
       "      <td>PARLE-G</td>\n",
       "      <td>PARLE-G</td>\n",
       "    </tr>\n",
       "    <tr>\n",
       "      <th>7866</th>\n",
       "      <td>M2</td>\n",
       "      <td>N2</td>\n",
       "      <td>14</td>\n",
       "      <td>T598</td>\n",
       "      <td>529.0</td>\n",
       "      <td>2000.0</td>\n",
       "      <td>434.0</td>\n",
       "      <td>0.22</td>\n",
       "      <td>PACKAGED PURE GHEE</td>\n",
       "      <td>PACKAGED PURE GHEE</td>\n",
       "      <td>PACKAGED PURE GHEE</td>\n",
       "      <td>G C M M F</td>\n",
       "      <td>AMUL</td>\n",
       "      <td>AMUL</td>\n",
       "    </tr>\n",
       "    <tr>\n",
       "      <th>7875</th>\n",
       "      <td>M2</td>\n",
       "      <td>N2</td>\n",
       "      <td>14</td>\n",
       "      <td>T611</td>\n",
       "      <td>82.0</td>\n",
       "      <td>1000.0</td>\n",
       "      <td>82.0</td>\n",
       "      <td>0.08</td>\n",
       "      <td>CLEANERS - TOILET</td>\n",
       "      <td>LIQUIDS</td>\n",
       "      <td>LIQUIDS</td>\n",
       "      <td>DABUR</td>\n",
       "      <td>SANIFRESH</td>\n",
       "      <td>SANIFRESH</td>\n",
       "    </tr>\n",
       "    <tr>\n",
       "      <th>7965</th>\n",
       "      <td>M2</td>\n",
       "      <td>N2</td>\n",
       "      <td>27</td>\n",
       "      <td>T761</td>\n",
       "      <td>200.0</td>\n",
       "      <td>100.0</td>\n",
       "      <td>200.0</td>\n",
       "      <td>2.00</td>\n",
       "      <td>BISCUITS - CORE &amp; NON CORE</td>\n",
       "      <td>GLUCOSE</td>\n",
       "      <td>GLUCOSE</td>\n",
       "      <td>PARLE PRODS</td>\n",
       "      <td>PARLE-G</td>\n",
       "      <td>PARLE-G</td>\n",
       "    </tr>\n",
       "    <tr>\n",
       "      <th>8027</th>\n",
       "      <td>M2</td>\n",
       "      <td>N2</td>\n",
       "      <td>31</td>\n",
       "      <td>T821</td>\n",
       "      <td>120.0</td>\n",
       "      <td>1000.0</td>\n",
       "      <td>120.0</td>\n",
       "      <td>0.12</td>\n",
       "      <td>PACKAGED PURE GHEE</td>\n",
       "      <td>PACKAGED PURE GHEE</td>\n",
       "      <td>PACKAGED PURE GHEE</td>\n",
       "      <td>PATANJALI AYURVED LTD</td>\n",
       "      <td>PATANJALI</td>\n",
       "      <td>PATANJALI</td>\n",
       "    </tr>\n",
       "    <tr>\n",
       "      <th>10935</th>\n",
       "      <td>M2</td>\n",
       "      <td>N5</td>\n",
       "      <td>2</td>\n",
       "      <td>T1436</td>\n",
       "      <td>1440.0</td>\n",
       "      <td>192.0</td>\n",
       "      <td>192.0</td>\n",
       "      <td>1.00</td>\n",
       "      <td>SHAMPOO - BY SEGMENTS</td>\n",
       "      <td>SACHETS</td>\n",
       "      <td>SACHETS</td>\n",
       "      <td>HINDUSTAN UNILEVER LIMITED</td>\n",
       "      <td>SUNSILK</td>\n",
       "      <td>SUNSILK</td>\n",
       "    </tr>\n",
       "    <tr>\n",
       "      <th>14956</th>\n",
       "      <td>M2</td>\n",
       "      <td>N7</td>\n",
       "      <td>30</td>\n",
       "      <td>T4763</td>\n",
       "      <td>216.0</td>\n",
       "      <td>1000.0</td>\n",
       "      <td>119.0</td>\n",
       "      <td>0.12</td>\n",
       "      <td>REFINED EDIBLE OILS-ALL PACKS</td>\n",
       "      <td>RICE BRAN</td>\n",
       "      <td>RICE BRAN</td>\n",
       "      <td>ADANI WILMAR</td>\n",
       "      <td>FORTUNE</td>\n",
       "      <td>FORTUNE</td>\n",
       "    </tr>\n",
       "    <tr>\n",
       "      <th>20507</th>\n",
       "      <td>M2</td>\n",
       "      <td>N10</td>\n",
       "      <td>8</td>\n",
       "      <td>T2421</td>\n",
       "      <td>2764.0</td>\n",
       "      <td>96.0</td>\n",
       "      <td>480.0</td>\n",
       "      <td>5.00</td>\n",
       "      <td>CHOCOLATE</td>\n",
       "      <td>COATED WAFER BISC</td>\n",
       "      <td>COATED WAFER BISC</td>\n",
       "      <td>MONDELEZ INTERNATIONAL</td>\n",
       "      <td>PERK</td>\n",
       "      <td>PERK</td>\n",
       "    </tr>\n",
       "    <tr>\n",
       "      <th>20508</th>\n",
       "      <td>M2</td>\n",
       "      <td>N10</td>\n",
       "      <td>8</td>\n",
       "      <td>T2421</td>\n",
       "      <td>2764.0</td>\n",
       "      <td>72.0</td>\n",
       "      <td>360.0</td>\n",
       "      <td>5.00</td>\n",
       "      <td>CHOCOLATE</td>\n",
       "      <td>MOULDED</td>\n",
       "      <td>MOULDED</td>\n",
       "      <td>MONDELEZ INTERNATIONAL</td>\n",
       "      <td>CADBURY DAIRY MILK</td>\n",
       "      <td>DAIRY MILK</td>\n",
       "    </tr>\n",
       "  </tbody>\n",
       "</table>\n",
       "</div>"
      ],
      "text/plain": [
       "      Month Store_code  Day Bill_id  Bill_amt      Qty   Value  Price  \\\n",
       "7678     M2         N1   27   T6293    2185.0  12000.0  1116.0   0.09   \n",
       "7791     M2         N2    4    T480    1534.0   2000.0   164.0   0.08   \n",
       "7808     M2         N2    6    T497     200.0    100.0   200.0   2.00   \n",
       "7824     M2         N2    7    T526     256.0   1000.0   256.0   0.26   \n",
       "7859     M2         N2   13    T588     200.0    100.0   200.0   2.00   \n",
       "7866     M2         N2   14    T598     529.0   2000.0   434.0   0.22   \n",
       "7875     M2         N2   14    T611      82.0   1000.0    82.0   0.08   \n",
       "7965     M2         N2   27    T761     200.0    100.0   200.0   2.00   \n",
       "8027     M2         N2   31    T821     120.0   1000.0   120.0   0.12   \n",
       "10935    M2         N5    2   T1436    1440.0    192.0   192.0   1.00   \n",
       "14956    M2         N7   30   T4763     216.0   1000.0   119.0   0.12   \n",
       "20507    M2        N10    8   T2421    2764.0     96.0   480.0   5.00   \n",
       "20508    M2        N10    8   T2421    2764.0     72.0   360.0   5.00   \n",
       "\n",
       "                               Group                Sgrp               Ssgrp  \\\n",
       "7678   REFINED EDIBLE OILS-ALL PACKS          SUN FLOWER          SUN FLOWER   \n",
       "7791               CLEANERS - TOILET             LIQUIDS             LIQUIDS   \n",
       "7808      BISCUITS - CORE & NON CORE             GLUCOSE             GLUCOSE   \n",
       "7824   HOME INSECTICIDES CTG  (8/93)             AEROSOL             AEROSOL   \n",
       "7859      BISCUITS - CORE & NON CORE             GLUCOSE             GLUCOSE   \n",
       "7866              PACKAGED PURE GHEE  PACKAGED PURE GHEE  PACKAGED PURE GHEE   \n",
       "7875               CLEANERS - TOILET             LIQUIDS             LIQUIDS   \n",
       "7965      BISCUITS - CORE & NON CORE             GLUCOSE             GLUCOSE   \n",
       "8027              PACKAGED PURE GHEE  PACKAGED PURE GHEE  PACKAGED PURE GHEE   \n",
       "10935          SHAMPOO - BY SEGMENTS             SACHETS             SACHETS   \n",
       "14956  REFINED EDIBLE OILS-ALL PACKS           RICE BRAN           RICE BRAN   \n",
       "20507                      CHOCOLATE   COATED WAFER BISC   COATED WAFER BISC   \n",
       "20508                      CHOCOLATE             MOULDED             MOULDED   \n",
       "\n",
       "                              Cmp                Mbrd         Brd  \n",
       "7678            LIBERTY OIL MILLS              SUNDAY      SUNDAY  \n",
       "7791                        DABUR           SANIFRESH   SANIFRESH  \n",
       "7808                  PARLE PRODS             PARLE-G     PARLE-G  \n",
       "7824        GODREJ CONSUMER PRODS                 HIT    HIT LIME  \n",
       "7859                  PARLE PRODS             PARLE-G     PARLE-G  \n",
       "7866                    G C M M F                AMUL        AMUL  \n",
       "7875                        DABUR           SANIFRESH   SANIFRESH  \n",
       "7965                  PARLE PRODS             PARLE-G     PARLE-G  \n",
       "8027        PATANJALI AYURVED LTD           PATANJALI   PATANJALI  \n",
       "10935  HINDUSTAN UNILEVER LIMITED             SUNSILK     SUNSILK  \n",
       "14956                ADANI WILMAR             FORTUNE     FORTUNE  \n",
       "20507      MONDELEZ INTERNATIONAL                PERK        PERK  \n",
       "20508      MONDELEZ INTERNATIONAL  CADBURY DAIRY MILK  DAIRY MILK  "
      ]
     },
     "execution_count": 38,
     "metadata": {},
     "output_type": "execute_result"
    }
   ],
   "source": [
    "# for second month\n",
    "\n",
    "hack[(hack['Qty'] > 50) & (hack['Month'] == 'M2')]"
   ]
  },
  {
   "cell_type": "code",
   "execution_count": null,
   "metadata": {},
   "outputs": [],
   "source": []
  },
  {
   "cell_type": "markdown",
   "metadata": {},
   "source": [
    "# Checking if Bill_amt is correctly updated"
   ]
  },
  {
   "cell_type": "code",
   "execution_count": 39,
   "metadata": {},
   "outputs": [
    {
     "data": {
      "text/html": [
       "<div>\n",
       "<style scoped>\n",
       "    .dataframe tbody tr th:only-of-type {\n",
       "        vertical-align: middle;\n",
       "    }\n",
       "\n",
       "    .dataframe tbody tr th {\n",
       "        vertical-align: top;\n",
       "    }\n",
       "\n",
       "    .dataframe thead th {\n",
       "        text-align: right;\n",
       "    }\n",
       "</style>\n",
       "<table border=\"1\" class=\"dataframe\">\n",
       "  <thead>\n",
       "    <tr style=\"text-align: right;\">\n",
       "      <th></th>\n",
       "      <th>Month</th>\n",
       "      <th>Store_code</th>\n",
       "      <th>Day</th>\n",
       "      <th>Bill_id</th>\n",
       "      <th>Bill_amt</th>\n",
       "      <th>Qty</th>\n",
       "      <th>Value</th>\n",
       "      <th>Price</th>\n",
       "      <th>Group</th>\n",
       "      <th>Sgrp</th>\n",
       "      <th>Ssgrp</th>\n",
       "      <th>Cmp</th>\n",
       "      <th>Mbrd</th>\n",
       "      <th>Brd</th>\n",
       "    </tr>\n",
       "  </thead>\n",
       "  <tbody>\n",
       "    <tr>\n",
       "      <th>0</th>\n",
       "      <td>M1</td>\n",
       "      <td>N1</td>\n",
       "      <td>4</td>\n",
       "      <td>T375</td>\n",
       "      <td>225.0</td>\n",
       "      <td>1.0</td>\n",
       "      <td>225.0</td>\n",
       "      <td>225.0</td>\n",
       "      <td>BUTTER MARGR  (4/94)</td>\n",
       "      <td>BUTTER</td>\n",
       "      <td>SALTED</td>\n",
       "      <td>G C M M F</td>\n",
       "      <td>AMUL</td>\n",
       "      <td>AMUL</td>\n",
       "    </tr>\n",
       "    <tr>\n",
       "      <th>1</th>\n",
       "      <td>M1</td>\n",
       "      <td>N1</td>\n",
       "      <td>4</td>\n",
       "      <td>T379</td>\n",
       "      <td>95.0</td>\n",
       "      <td>1.0</td>\n",
       "      <td>95.0</td>\n",
       "      <td>95.0</td>\n",
       "      <td>CONFECTIONERY - ECLAIRS</td>\n",
       "      <td>CONFECTIONERY - ECLAIRS</td>\n",
       "      <td>CONFECTIONERY - ECLAIRS</td>\n",
       "      <td>PARLE PRODS</td>\n",
       "      <td>MELODY</td>\n",
       "      <td>MELODY CHOCOLATY</td>\n",
       "    </tr>\n",
       "    <tr>\n",
       "      <th>2</th>\n",
       "      <td>M1</td>\n",
       "      <td>N1</td>\n",
       "      <td>4</td>\n",
       "      <td>T381</td>\n",
       "      <td>10.0</td>\n",
       "      <td>1.0</td>\n",
       "      <td>10.0</td>\n",
       "      <td>10.0</td>\n",
       "      <td>CHOCOLATE</td>\n",
       "      <td>CHOCOLATE PANNED</td>\n",
       "      <td>CHOCOLATE PANNED</td>\n",
       "      <td>MONDELEZ INTERNATIONAL</td>\n",
       "      <td>CADBURY SHOTS</td>\n",
       "      <td>CADBURY SHOTS</td>\n",
       "    </tr>\n",
       "    <tr>\n",
       "      <th>3</th>\n",
       "      <td>M1</td>\n",
       "      <td>N1</td>\n",
       "      <td>4</td>\n",
       "      <td>T382</td>\n",
       "      <td>108.0</td>\n",
       "      <td>1.0</td>\n",
       "      <td>108.0</td>\n",
       "      <td>108.0</td>\n",
       "      <td>PACKAGED TEA</td>\n",
       "      <td>MAIN PACKS</td>\n",
       "      <td>MAIN PACKS</td>\n",
       "      <td>GUJ TEA PROCESSORS</td>\n",
       "      <td>WAGH BAKRI</td>\n",
       "      <td>WAGH BAKRI INSTANT</td>\n",
       "    </tr>\n",
       "    <tr>\n",
       "      <th>4</th>\n",
       "      <td>M1</td>\n",
       "      <td>N1</td>\n",
       "      <td>4</td>\n",
       "      <td>T384</td>\n",
       "      <td>19.0</td>\n",
       "      <td>1.0</td>\n",
       "      <td>19.0</td>\n",
       "      <td>19.0</td>\n",
       "      <td>ALL IODISED SALT</td>\n",
       "      <td>POWDERED SALT</td>\n",
       "      <td>POWDERED SALT</td>\n",
       "      <td>TATA CHEM</td>\n",
       "      <td>TATA</td>\n",
       "      <td>TATA SALT</td>\n",
       "    </tr>\n",
       "    <tr>\n",
       "      <th>...</th>\n",
       "      <td>...</td>\n",
       "      <td>...</td>\n",
       "      <td>...</td>\n",
       "      <td>...</td>\n",
       "      <td>...</td>\n",
       "      <td>...</td>\n",
       "      <td>...</td>\n",
       "      <td>...</td>\n",
       "      <td>...</td>\n",
       "      <td>...</td>\n",
       "      <td>...</td>\n",
       "      <td>...</td>\n",
       "      <td>...</td>\n",
       "      <td>...</td>\n",
       "    </tr>\n",
       "    <tr>\n",
       "      <th>26977</th>\n",
       "      <td>M3</td>\n",
       "      <td>N10</td>\n",
       "      <td>30</td>\n",
       "      <td>T5986</td>\n",
       "      <td>39.0</td>\n",
       "      <td>1.0</td>\n",
       "      <td>39.0</td>\n",
       "      <td>39.0</td>\n",
       "      <td>COCONUT OIL PKTYP (08/02)</td>\n",
       "      <td>BRANDED</td>\n",
       "      <td>RIGID</td>\n",
       "      <td>MARICO INDS</td>\n",
       "      <td>PARACHUTE</td>\n",
       "      <td>PARACHUTE</td>\n",
       "    </tr>\n",
       "    <tr>\n",
       "      <th>26978</th>\n",
       "      <td>M3</td>\n",
       "      <td>N10</td>\n",
       "      <td>30</td>\n",
       "      <td>T5993</td>\n",
       "      <td>40.0</td>\n",
       "      <td>4.0</td>\n",
       "      <td>40.0</td>\n",
       "      <td>10.0</td>\n",
       "      <td>CHOCOLATE</td>\n",
       "      <td>MOULDED</td>\n",
       "      <td>MOULDED</td>\n",
       "      <td>MONDELEZ INTERNATIONAL</td>\n",
       "      <td>CADBURY DAIRY MILK</td>\n",
       "      <td>DAIRY MILK</td>\n",
       "    </tr>\n",
       "    <tr>\n",
       "      <th>26979</th>\n",
       "      <td>M3</td>\n",
       "      <td>N10</td>\n",
       "      <td>30</td>\n",
       "      <td>T5995</td>\n",
       "      <td>35.0</td>\n",
       "      <td>1.0</td>\n",
       "      <td>35.0</td>\n",
       "      <td>35.0</td>\n",
       "      <td>PACKAGED ATTA (1/95)</td>\n",
       "      <td>SOOJI</td>\n",
       "      <td>SOOJI</td>\n",
       "      <td>VIRAKI BROTHERS</td>\n",
       "      <td>SATYAM</td>\n",
       "      <td>SATYAM</td>\n",
       "    </tr>\n",
       "    <tr>\n",
       "      <th>26980</th>\n",
       "      <td>M3</td>\n",
       "      <td>N10</td>\n",
       "      <td>31</td>\n",
       "      <td>T5999</td>\n",
       "      <td>10.0</td>\n",
       "      <td>1.0</td>\n",
       "      <td>10.0</td>\n",
       "      <td>10.0</td>\n",
       "      <td>BISCUITS - CORE &amp; NON CORE</td>\n",
       "      <td>NON-SALT CRACKER</td>\n",
       "      <td>NON-SALT CRACKER</td>\n",
       "      <td>PARLE PRODS</td>\n",
       "      <td>PARLE KRACK JACK</td>\n",
       "      <td>PARLE KRACK JACK</td>\n",
       "    </tr>\n",
       "    <tr>\n",
       "      <th>26984</th>\n",
       "      <td>M3</td>\n",
       "      <td>N10</td>\n",
       "      <td>31</td>\n",
       "      <td>T6013</td>\n",
       "      <td>15.0</td>\n",
       "      <td>1.0</td>\n",
       "      <td>15.0</td>\n",
       "      <td>15.0</td>\n",
       "      <td>BISCUITS - CORE &amp; NON CORE</td>\n",
       "      <td>SWEET/COOKIES</td>\n",
       "      <td>SWEET/COOKIES</td>\n",
       "      <td>SAJ INDS</td>\n",
       "      <td>BISK FARM</td>\n",
       "      <td>BISK FARM JUST GINGER</td>\n",
       "    </tr>\n",
       "  </tbody>\n",
       "</table>\n",
       "<p>7657 rows × 14 columns</p>\n",
       "</div>"
      ],
      "text/plain": [
       "      Month Store_code  Day Bill_id  Bill_amt  Qty  Value  Price  \\\n",
       "0        M1         N1    4    T375     225.0  1.0  225.0  225.0   \n",
       "1        M1         N1    4    T379      95.0  1.0   95.0   95.0   \n",
       "2        M1         N1    4    T381      10.0  1.0   10.0   10.0   \n",
       "3        M1         N1    4    T382     108.0  1.0  108.0  108.0   \n",
       "4        M1         N1    4    T384      19.0  1.0   19.0   19.0   \n",
       "...     ...        ...  ...     ...       ...  ...    ...    ...   \n",
       "26977    M3        N10   30   T5986      39.0  1.0   39.0   39.0   \n",
       "26978    M3        N10   30   T5993      40.0  4.0   40.0   10.0   \n",
       "26979    M3        N10   30   T5995      35.0  1.0   35.0   35.0   \n",
       "26980    M3        N10   31   T5999      10.0  1.0   10.0   10.0   \n",
       "26984    M3        N10   31   T6013      15.0  1.0   15.0   15.0   \n",
       "\n",
       "                            Group                     Sgrp  \\\n",
       "0            BUTTER MARGR  (4/94)                   BUTTER   \n",
       "1         CONFECTIONERY - ECLAIRS  CONFECTIONERY - ECLAIRS   \n",
       "2                       CHOCOLATE         CHOCOLATE PANNED   \n",
       "3                    PACKAGED TEA               MAIN PACKS   \n",
       "4                ALL IODISED SALT            POWDERED SALT   \n",
       "...                           ...                      ...   \n",
       "26977   COCONUT OIL PKTYP (08/02)                  BRANDED   \n",
       "26978                   CHOCOLATE                  MOULDED   \n",
       "26979        PACKAGED ATTA (1/95)                    SOOJI   \n",
       "26980  BISCUITS - CORE & NON CORE         NON-SALT CRACKER   \n",
       "26984  BISCUITS - CORE & NON CORE            SWEET/COOKIES   \n",
       "\n",
       "                         Ssgrp                     Cmp                Mbrd  \\\n",
       "0                       SALTED               G C M M F                AMUL   \n",
       "1      CONFECTIONERY - ECLAIRS             PARLE PRODS              MELODY   \n",
       "2             CHOCOLATE PANNED  MONDELEZ INTERNATIONAL       CADBURY SHOTS   \n",
       "3                   MAIN PACKS      GUJ TEA PROCESSORS          WAGH BAKRI   \n",
       "4                POWDERED SALT               TATA CHEM                TATA   \n",
       "...                        ...                     ...                 ...   \n",
       "26977                    RIGID             MARICO INDS           PARACHUTE   \n",
       "26978                  MOULDED  MONDELEZ INTERNATIONAL  CADBURY DAIRY MILK   \n",
       "26979                    SOOJI         VIRAKI BROTHERS              SATYAM   \n",
       "26980         NON-SALT CRACKER             PARLE PRODS    PARLE KRACK JACK   \n",
       "26984            SWEET/COOKIES                SAJ INDS           BISK FARM   \n",
       "\n",
       "                         Brd  \n",
       "0                       AMUL  \n",
       "1           MELODY CHOCOLATY  \n",
       "2              CADBURY SHOTS  \n",
       "3         WAGH BAKRI INSTANT  \n",
       "4                  TATA SALT  \n",
       "...                      ...  \n",
       "26977              PARACHUTE  \n",
       "26978             DAIRY MILK  \n",
       "26979                 SATYAM  \n",
       "26980       PARLE KRACK JACK  \n",
       "26984  BISK FARM JUST GINGER  \n",
       "\n",
       "[7657 rows x 14 columns]"
      ]
     },
     "execution_count": 39,
     "metadata": {},
     "output_type": "execute_result"
    }
   ],
   "source": [
    "# Total record of Bill_amt which is correctly updated.\n",
    "\n",
    "hack[hack['Bill_amt'] == hack['Value']]"
   ]
  },
  {
   "cell_type": "code",
   "execution_count": 40,
   "metadata": {},
   "outputs": [
    {
     "data": {
      "text/plain": [
       "7657"
      ]
     },
     "execution_count": 40,
     "metadata": {},
     "output_type": "execute_result"
    }
   ],
   "source": [
    "# To check how many are correctly updated we use the function len\n",
    "\n",
    "len(hack[hack['Bill_amt'] == hack['Value']])"
   ]
  },
  {
   "cell_type": "code",
   "execution_count": 41,
   "metadata": {},
   "outputs": [
    {
     "data": {
      "text/plain": [
       "19239"
      ]
     },
     "execution_count": 41,
     "metadata": {},
     "output_type": "execute_result"
    }
   ],
   "source": [
    "# Now lets check total Bill_amt wrongly updated\n",
    "\n",
    "len(hack[hack['Bill_amt'] != hack['Value']])      # here != is not equal to"
   ]
  },
  {
   "cell_type": "markdown",
   "metadata": {},
   "source": [
    "***Replacing the Bill_amt with correct values***"
   ]
  },
  {
   "cell_type": "code",
   "execution_count": 42,
   "metadata": {},
   "outputs": [],
   "source": [
    "## Now lets replace the Values in Bill-amt with correct values\n",
    "\n",
    "hack['Bill_amt'] = np.where(hack['Bill_amt'] == hack['Value'], hack['Bill_amt'], hack['Value'])"
   ]
  },
  {
   "cell_type": "code",
   "execution_count": 43,
   "metadata": {},
   "outputs": [
    {
     "data": {
      "text/plain": [
       "26873"
      ]
     },
     "execution_count": 43,
     "metadata": {},
     "output_type": "execute_result"
    }
   ],
   "source": [
    "len(hack[hack['Bill_amt'] == hack['Value']])"
   ]
  },
  {
   "cell_type": "code",
   "execution_count": 44,
   "metadata": {},
   "outputs": [
    {
     "data": {
      "text/plain": [
       "23"
      ]
     },
     "execution_count": 44,
     "metadata": {},
     "output_type": "execute_result"
    }
   ],
   "source": [
    "len(hack[hack['Bill_amt'] != hack['Value']])"
   ]
  },
  {
   "cell_type": "code",
   "execution_count": 45,
   "metadata": {},
   "outputs": [],
   "source": [
    "# Previouly in Bill_amt we had 15 null values and Values column we had 23 null values, now as we replaced the \n",
    "# 'Values' to 'Bill_amt', the values which we in 'values' column have been replaced to 'Bill_amt' column."
   ]
  },
  {
   "cell_type": "code",
   "execution_count": 46,
   "metadata": {},
   "outputs": [
    {
     "data": {
      "text/plain": [
       "Month          0\n",
       "Store_code     0\n",
       "Day            0\n",
       "Bill_id       10\n",
       "Bill_amt      23\n",
       "Qty           18\n",
       "Value         23\n",
       "Price         14\n",
       "Group          4\n",
       "Sgrp           5\n",
       "Ssgrp          5\n",
       "Cmp            0\n",
       "Mbrd           0\n",
       "Brd            0\n",
       "dtype: int64"
      ]
     },
     "execution_count": 46,
     "metadata": {},
     "output_type": "execute_result"
    }
   ],
   "source": [
    "hack.isnull().sum()"
   ]
  },
  {
   "cell_type": "markdown",
   "metadata": {},
   "source": [
    "# EDA (exploratory data analysis)"
   ]
  },
  {
   "cell_type": "code",
   "execution_count": 47,
   "metadata": {},
   "outputs": [
    {
     "data": {
      "text/plain": [
       "Index(['Month', 'Store_code', 'Day', 'Bill_id', 'Bill_amt', 'Qty', 'Value',\n",
       "       'Price', 'Group', 'Sgrp', 'Ssgrp', 'Cmp', 'Mbrd', 'Brd'],\n",
       "      dtype='object')"
      ]
     },
     "execution_count": 47,
     "metadata": {},
     "output_type": "execute_result"
    }
   ],
   "source": [
    "hack.columns"
   ]
  },
  {
   "cell_type": "code",
   "execution_count": 48,
   "metadata": {},
   "outputs": [
    {
     "data": {
      "text/html": [
       "<div>\n",
       "<style scoped>\n",
       "    .dataframe tbody tr th:only-of-type {\n",
       "        vertical-align: middle;\n",
       "    }\n",
       "\n",
       "    .dataframe tbody tr th {\n",
       "        vertical-align: top;\n",
       "    }\n",
       "\n",
       "    .dataframe thead th {\n",
       "        text-align: right;\n",
       "    }\n",
       "</style>\n",
       "<table border=\"1\" class=\"dataframe\">\n",
       "  <thead>\n",
       "    <tr style=\"text-align: right;\">\n",
       "      <th></th>\n",
       "      <th>Group</th>\n",
       "    </tr>\n",
       "  </thead>\n",
       "  <tbody>\n",
       "    <tr>\n",
       "      <th>6680</th>\n",
       "      <td>HAIR OILS PKTP(8/02)</td>\n",
       "    </tr>\n",
       "    <tr>\n",
       "      <th>7678</th>\n",
       "      <td>REFINED EDIBLE OILS-ALL PACKS</td>\n",
       "    </tr>\n",
       "  </tbody>\n",
       "</table>\n",
       "</div>"
      ],
      "text/plain": [
       "                              Group\n",
       "6680           HAIR OILS PKTP(8/02)\n",
       "7678  REFINED EDIBLE OILS-ALL PACKS"
      ]
     },
     "execution_count": 48,
     "metadata": {},
     "output_type": "execute_result"
    }
   ],
   "source": [
    "#The items in the group in which the Qty is more than 4000\n",
    "\n",
    "hack[hack['Qty'] > 4000][['Group']]"
   ]
  },
  {
   "cell_type": "code",
   "execution_count": 49,
   "metadata": {},
   "outputs": [
    {
     "data": {
      "text/html": [
       "<div>\n",
       "<style scoped>\n",
       "    .dataframe tbody tr th:only-of-type {\n",
       "        vertical-align: middle;\n",
       "    }\n",
       "\n",
       "    .dataframe tbody tr th {\n",
       "        vertical-align: top;\n",
       "    }\n",
       "\n",
       "    .dataframe thead th {\n",
       "        text-align: right;\n",
       "    }\n",
       "</style>\n",
       "<table border=\"1\" class=\"dataframe\">\n",
       "  <thead>\n",
       "    <tr style=\"text-align: right;\">\n",
       "      <th></th>\n",
       "      <th>Brd</th>\n",
       "    </tr>\n",
       "  </thead>\n",
       "  <tbody>\n",
       "    <tr>\n",
       "      <th>6680</th>\n",
       "      <td>NAVRATNA</td>\n",
       "    </tr>\n",
       "    <tr>\n",
       "      <th>7678</th>\n",
       "      <td>SUNDAY</td>\n",
       "    </tr>\n",
       "  </tbody>\n",
       "</table>\n",
       "</div>"
      ],
      "text/plain": [
       "           Brd\n",
       "6680  NAVRATNA\n",
       "7678    SUNDAY"
      ]
     },
     "execution_count": 49,
     "metadata": {},
     "output_type": "execute_result"
    }
   ],
   "source": [
    "# To view which brand is sold more\n",
    "\n",
    "hack[hack['Qty'] > 4000][['Brd']]"
   ]
  },
  {
   "cell_type": "code",
   "execution_count": 50,
   "metadata": {},
   "outputs": [
    {
     "data": {
      "text/html": [
       "<div>\n",
       "<style scoped>\n",
       "    .dataframe tbody tr th:only-of-type {\n",
       "        vertical-align: middle;\n",
       "    }\n",
       "\n",
       "    .dataframe tbody tr th {\n",
       "        vertical-align: top;\n",
       "    }\n",
       "\n",
       "    .dataframe thead th {\n",
       "        text-align: right;\n",
       "    }\n",
       "</style>\n",
       "<table border=\"1\" class=\"dataframe\">\n",
       "  <thead>\n",
       "    <tr style=\"text-align: right;\">\n",
       "      <th></th>\n",
       "      <th>Month</th>\n",
       "      <th>Store_code</th>\n",
       "      <th>Day</th>\n",
       "      <th>Bill_id</th>\n",
       "      <th>Bill_amt</th>\n",
       "      <th>Qty</th>\n",
       "      <th>Value</th>\n",
       "      <th>Price</th>\n",
       "      <th>Group</th>\n",
       "      <th>Sgrp</th>\n",
       "      <th>Ssgrp</th>\n",
       "      <th>Cmp</th>\n",
       "      <th>Mbrd</th>\n",
       "      <th>Brd</th>\n",
       "    </tr>\n",
       "  </thead>\n",
       "  <tbody>\n",
       "    <tr>\n",
       "      <th>6680</th>\n",
       "      <td>M1</td>\n",
       "      <td>N7</td>\n",
       "      <td>28</td>\n",
       "      <td>T2326</td>\n",
       "      <td>5.0</td>\n",
       "      <td>5000.0</td>\n",
       "      <td>5.0</td>\n",
       "      <td>0.00</td>\n",
       "      <td>HAIR OILS PKTP(8/02)</td>\n",
       "      <td>FLEXI</td>\n",
       "      <td>COOLING OIL</td>\n",
       "      <td>EMAMI</td>\n",
       "      <td>NAVRATNA</td>\n",
       "      <td>NAVRATNA</td>\n",
       "    </tr>\n",
       "    <tr>\n",
       "      <th>7678</th>\n",
       "      <td>M2</td>\n",
       "      <td>N1</td>\n",
       "      <td>27</td>\n",
       "      <td>T6293</td>\n",
       "      <td>1116.0</td>\n",
       "      <td>12000.0</td>\n",
       "      <td>1116.0</td>\n",
       "      <td>0.09</td>\n",
       "      <td>REFINED EDIBLE OILS-ALL PACKS</td>\n",
       "      <td>SUN FLOWER</td>\n",
       "      <td>SUN FLOWER</td>\n",
       "      <td>LIBERTY OIL MILLS</td>\n",
       "      <td>SUNDAY</td>\n",
       "      <td>SUNDAY</td>\n",
       "    </tr>\n",
       "  </tbody>\n",
       "</table>\n",
       "</div>"
      ],
      "text/plain": [
       "     Month Store_code  Day Bill_id  Bill_amt      Qty   Value  Price  \\\n",
       "6680    M1         N7   28   T2326       5.0   5000.0     5.0   0.00   \n",
       "7678    M2         N1   27   T6293    1116.0  12000.0  1116.0   0.09   \n",
       "\n",
       "                              Group        Sgrp        Ssgrp  \\\n",
       "6680           HAIR OILS PKTP(8/02)       FLEXI  COOLING OIL   \n",
       "7678  REFINED EDIBLE OILS-ALL PACKS  SUN FLOWER   SUN FLOWER   \n",
       "\n",
       "                    Cmp      Mbrd       Brd  \n",
       "6680              EMAMI  NAVRATNA  NAVRATNA  \n",
       "7678  LIBERTY OIL MILLS    SUNDAY    SUNDAY  "
      ]
     },
     "execution_count": 50,
     "metadata": {},
     "output_type": "execute_result"
    }
   ],
   "source": [
    "# the code to see the complete rows which has qty more than 4000\n",
    "\n",
    "hack[hack['Qty'] >4000]"
   ]
  },
  {
   "cell_type": "code",
   "execution_count": 51,
   "metadata": {},
   "outputs": [
    {
     "data": {
      "text/html": [
       "<div>\n",
       "<style scoped>\n",
       "    .dataframe tbody tr th:only-of-type {\n",
       "        vertical-align: middle;\n",
       "    }\n",
       "\n",
       "    .dataframe tbody tr th {\n",
       "        vertical-align: top;\n",
       "    }\n",
       "\n",
       "    .dataframe thead th {\n",
       "        text-align: right;\n",
       "    }\n",
       "</style>\n",
       "<table border=\"1\" class=\"dataframe\">\n",
       "  <thead>\n",
       "    <tr style=\"text-align: right;\">\n",
       "      <th></th>\n",
       "      <th>Month</th>\n",
       "      <th>Store_code</th>\n",
       "      <th>Day</th>\n",
       "      <th>Bill_id</th>\n",
       "      <th>Bill_amt</th>\n",
       "      <th>Qty</th>\n",
       "      <th>Value</th>\n",
       "      <th>Price</th>\n",
       "      <th>Group</th>\n",
       "      <th>Sgrp</th>\n",
       "      <th>Ssgrp</th>\n",
       "      <th>Cmp</th>\n",
       "      <th>Mbrd</th>\n",
       "      <th>Brd</th>\n",
       "    </tr>\n",
       "  </thead>\n",
       "  <tbody>\n",
       "    <tr>\n",
       "      <th>2</th>\n",
       "      <td>M1</td>\n",
       "      <td>N1</td>\n",
       "      <td>4</td>\n",
       "      <td>T381</td>\n",
       "      <td>10.0</td>\n",
       "      <td>1.0</td>\n",
       "      <td>10.0</td>\n",
       "      <td>10.0</td>\n",
       "      <td>CHOCOLATE</td>\n",
       "      <td>CHOCOLATE PANNED</td>\n",
       "      <td>CHOCOLATE PANNED</td>\n",
       "      <td>MONDELEZ INTERNATIONAL</td>\n",
       "      <td>CADBURY SHOTS</td>\n",
       "      <td>CADBURY SHOTS</td>\n",
       "    </tr>\n",
       "    <tr>\n",
       "      <th>5</th>\n",
       "      <td>M1</td>\n",
       "      <td>N1</td>\n",
       "      <td>4</td>\n",
       "      <td>T385</td>\n",
       "      <td>10.0</td>\n",
       "      <td>1.0</td>\n",
       "      <td>10.0</td>\n",
       "      <td>10.0</td>\n",
       "      <td>CHOCOLATE</td>\n",
       "      <td>MOULDED</td>\n",
       "      <td>MOULDED</td>\n",
       "      <td>MONDELEZ INTERNATIONAL</td>\n",
       "      <td>CADBURY DAIRY MILK</td>\n",
       "      <td>DAIRY MILK</td>\n",
       "    </tr>\n",
       "    <tr>\n",
       "      <th>7</th>\n",
       "      <td>M1</td>\n",
       "      <td>N1</td>\n",
       "      <td>4</td>\n",
       "      <td>T386</td>\n",
       "      <td>5.0</td>\n",
       "      <td>1.0</td>\n",
       "      <td>5.0</td>\n",
       "      <td>5.0</td>\n",
       "      <td>CHOCOLATE</td>\n",
       "      <td>COATED WAFER BISC</td>\n",
       "      <td>COATED WAFER BISC</td>\n",
       "      <td>GANDOUR INDIA FOOD PROCESSING</td>\n",
       "      <td>GANDOUR</td>\n",
       "      <td>GANDOUR</td>\n",
       "    </tr>\n",
       "    <tr>\n",
       "      <th>10</th>\n",
       "      <td>M1</td>\n",
       "      <td>N1</td>\n",
       "      <td>4</td>\n",
       "      <td>T389</td>\n",
       "      <td>10.0</td>\n",
       "      <td>1.0</td>\n",
       "      <td>10.0</td>\n",
       "      <td>10.0</td>\n",
       "      <td>CHOCOLATE</td>\n",
       "      <td>MOULDED</td>\n",
       "      <td>MOULDED</td>\n",
       "      <td>MONDELEZ INTERNATIONAL</td>\n",
       "      <td>CADBURY DAIRY MILK</td>\n",
       "      <td>DAIRY MILK</td>\n",
       "    </tr>\n",
       "    <tr>\n",
       "      <th>11</th>\n",
       "      <td>M1</td>\n",
       "      <td>N1</td>\n",
       "      <td>4</td>\n",
       "      <td>T390</td>\n",
       "      <td>10.0</td>\n",
       "      <td>1.0</td>\n",
       "      <td>10.0</td>\n",
       "      <td>10.0</td>\n",
       "      <td>CHOCOLATE</td>\n",
       "      <td>CHOCOLATE PANNED</td>\n",
       "      <td>CHOCOLATE PANNED</td>\n",
       "      <td>MONDELEZ INTERNATIONAL</td>\n",
       "      <td>CADBURY SHOTS</td>\n",
       "      <td>CADBURY SHOTS</td>\n",
       "    </tr>\n",
       "    <tr>\n",
       "      <th>...</th>\n",
       "      <td>...</td>\n",
       "      <td>...</td>\n",
       "      <td>...</td>\n",
       "      <td>...</td>\n",
       "      <td>...</td>\n",
       "      <td>...</td>\n",
       "      <td>...</td>\n",
       "      <td>...</td>\n",
       "      <td>...</td>\n",
       "      <td>...</td>\n",
       "      <td>...</td>\n",
       "      <td>...</td>\n",
       "      <td>...</td>\n",
       "      <td>...</td>\n",
       "    </tr>\n",
       "    <tr>\n",
       "      <th>26935</th>\n",
       "      <td>M3</td>\n",
       "      <td>N10</td>\n",
       "      <td>28</td>\n",
       "      <td>T5922</td>\n",
       "      <td>5.0</td>\n",
       "      <td>1.0</td>\n",
       "      <td>5.0</td>\n",
       "      <td>5.0</td>\n",
       "      <td>CHOCOLATE</td>\n",
       "      <td>MOULDED</td>\n",
       "      <td>MOULDED</td>\n",
       "      <td>MONDELEZ INTERNATIONAL</td>\n",
       "      <td>CADBURY DAIRY MILK</td>\n",
       "      <td>DAIRY MILK</td>\n",
       "    </tr>\n",
       "    <tr>\n",
       "      <th>26938</th>\n",
       "      <td>M3</td>\n",
       "      <td>N10</td>\n",
       "      <td>29</td>\n",
       "      <td>T5924</td>\n",
       "      <td>10.0</td>\n",
       "      <td>2.0</td>\n",
       "      <td>10.0</td>\n",
       "      <td>5.0</td>\n",
       "      <td>CHOCOLATE</td>\n",
       "      <td>COATED WAFER BISC</td>\n",
       "      <td>COATED WAFER BISC</td>\n",
       "      <td>MONDELEZ INTERNATIONAL</td>\n",
       "      <td>PERK</td>\n",
       "      <td>PERK</td>\n",
       "    </tr>\n",
       "    <tr>\n",
       "      <th>26948</th>\n",
       "      <td>M3</td>\n",
       "      <td>N10</td>\n",
       "      <td>29</td>\n",
       "      <td>T5933</td>\n",
       "      <td>5.0</td>\n",
       "      <td>1.0</td>\n",
       "      <td>5.0</td>\n",
       "      <td>5.0</td>\n",
       "      <td>CHOCOLATE</td>\n",
       "      <td>MOULDED</td>\n",
       "      <td>MOULDED</td>\n",
       "      <td>MONDELEZ INTERNATIONAL</td>\n",
       "      <td>CADBURY DAIRY MILK</td>\n",
       "      <td>DAIRY MILK</td>\n",
       "    </tr>\n",
       "    <tr>\n",
       "      <th>26974</th>\n",
       "      <td>M3</td>\n",
       "      <td>N10</td>\n",
       "      <td>30</td>\n",
       "      <td>T5978</td>\n",
       "      <td>5.0</td>\n",
       "      <td>1.0</td>\n",
       "      <td>5.0</td>\n",
       "      <td>5.0</td>\n",
       "      <td>CHOCOLATE</td>\n",
       "      <td>COATED WAFER BISC</td>\n",
       "      <td>COATED WAFER BISC</td>\n",
       "      <td>MONDELEZ INTERNATIONAL</td>\n",
       "      <td>PERK</td>\n",
       "      <td>PERK</td>\n",
       "    </tr>\n",
       "    <tr>\n",
       "      <th>26978</th>\n",
       "      <td>M3</td>\n",
       "      <td>N10</td>\n",
       "      <td>30</td>\n",
       "      <td>T5993</td>\n",
       "      <td>40.0</td>\n",
       "      <td>4.0</td>\n",
       "      <td>40.0</td>\n",
       "      <td>10.0</td>\n",
       "      <td>CHOCOLATE</td>\n",
       "      <td>MOULDED</td>\n",
       "      <td>MOULDED</td>\n",
       "      <td>MONDELEZ INTERNATIONAL</td>\n",
       "      <td>CADBURY DAIRY MILK</td>\n",
       "      <td>DAIRY MILK</td>\n",
       "    </tr>\n",
       "  </tbody>\n",
       "</table>\n",
       "<p>1402 rows × 14 columns</p>\n",
       "</div>"
      ],
      "text/plain": [
       "      Month Store_code  Day Bill_id  Bill_amt  Qty  Value  Price      Group  \\\n",
       "2        M1         N1    4    T381      10.0  1.0   10.0   10.0  CHOCOLATE   \n",
       "5        M1         N1    4    T385      10.0  1.0   10.0   10.0  CHOCOLATE   \n",
       "7        M1         N1    4    T386       5.0  1.0    5.0    5.0  CHOCOLATE   \n",
       "10       M1         N1    4    T389      10.0  1.0   10.0   10.0  CHOCOLATE   \n",
       "11       M1         N1    4    T390      10.0  1.0   10.0   10.0  CHOCOLATE   \n",
       "...     ...        ...  ...     ...       ...  ...    ...    ...        ...   \n",
       "26935    M3        N10   28   T5922       5.0  1.0    5.0    5.0  CHOCOLATE   \n",
       "26938    M3        N10   29   T5924      10.0  2.0   10.0    5.0  CHOCOLATE   \n",
       "26948    M3        N10   29   T5933       5.0  1.0    5.0    5.0  CHOCOLATE   \n",
       "26974    M3        N10   30   T5978       5.0  1.0    5.0    5.0  CHOCOLATE   \n",
       "26978    M3        N10   30   T5993      40.0  4.0   40.0   10.0  CHOCOLATE   \n",
       "\n",
       "                    Sgrp              Ssgrp                            Cmp  \\\n",
       "2       CHOCOLATE PANNED   CHOCOLATE PANNED         MONDELEZ INTERNATIONAL   \n",
       "5                MOULDED            MOULDED         MONDELEZ INTERNATIONAL   \n",
       "7      COATED WAFER BISC  COATED WAFER BISC  GANDOUR INDIA FOOD PROCESSING   \n",
       "10               MOULDED            MOULDED         MONDELEZ INTERNATIONAL   \n",
       "11      CHOCOLATE PANNED   CHOCOLATE PANNED         MONDELEZ INTERNATIONAL   \n",
       "...                  ...                ...                            ...   \n",
       "26935            MOULDED            MOULDED         MONDELEZ INTERNATIONAL   \n",
       "26938  COATED WAFER BISC  COATED WAFER BISC         MONDELEZ INTERNATIONAL   \n",
       "26948            MOULDED            MOULDED         MONDELEZ INTERNATIONAL   \n",
       "26974  COATED WAFER BISC  COATED WAFER BISC         MONDELEZ INTERNATIONAL   \n",
       "26978            MOULDED            MOULDED         MONDELEZ INTERNATIONAL   \n",
       "\n",
       "                     Mbrd            Brd  \n",
       "2           CADBURY SHOTS  CADBURY SHOTS  \n",
       "5      CADBURY DAIRY MILK     DAIRY MILK  \n",
       "7                 GANDOUR        GANDOUR  \n",
       "10     CADBURY DAIRY MILK     DAIRY MILK  \n",
       "11          CADBURY SHOTS  CADBURY SHOTS  \n",
       "...                   ...            ...  \n",
       "26935  CADBURY DAIRY MILK     DAIRY MILK  \n",
       "26938                PERK           PERK  \n",
       "26948  CADBURY DAIRY MILK     DAIRY MILK  \n",
       "26974                PERK           PERK  \n",
       "26978  CADBURY DAIRY MILK     DAIRY MILK  \n",
       "\n",
       "[1402 rows x 14 columns]"
      ]
     },
     "execution_count": 51,
     "metadata": {},
     "output_type": "execute_result"
    }
   ],
   "source": [
    "# lets display the rows which has chocolate in the grp\n",
    "\n",
    "hack[hack['Group'] == 'CHOCOLATE']"
   ]
  },
  {
   "cell_type": "code",
   "execution_count": 52,
   "metadata": {},
   "outputs": [
    {
     "data": {
      "text/plain": [
       "1402"
      ]
     },
     "execution_count": 52,
     "metadata": {},
     "output_type": "execute_result"
    }
   ],
   "source": [
    "# checking the total number of rows which as chocolate as common in the group\n",
    "\n",
    "hack[hack['Group'] == 'CHOCOLATE']['Group'].count()"
   ]
  },
  {
   "cell_type": "code",
   "execution_count": 53,
   "metadata": {},
   "outputs": [
    {
     "data": {
      "text/plain": [
       "1402"
      ]
     },
     "execution_count": 53,
     "metadata": {},
     "output_type": "execute_result"
    }
   ],
   "source": [
    "# or we can use this code to check total number of rows which as chocolate as common in the group\n",
    "\n",
    "len(hack[hack['Group'] == 'CHOCOLATE']['Group'])"
   ]
  },
  {
   "cell_type": "markdown",
   "metadata": {},
   "source": [
    "# Checking the price column which has "
   ]
  },
  {
   "cell_type": "code",
   "execution_count": 54,
   "metadata": {},
   "outputs": [
    {
     "data": {
      "text/html": [
       "<div>\n",
       "<style scoped>\n",
       "    .dataframe tbody tr th:only-of-type {\n",
       "        vertical-align: middle;\n",
       "    }\n",
       "\n",
       "    .dataframe tbody tr th {\n",
       "        vertical-align: top;\n",
       "    }\n",
       "\n",
       "    .dataframe thead th {\n",
       "        text-align: right;\n",
       "    }\n",
       "</style>\n",
       "<table border=\"1\" class=\"dataframe\">\n",
       "  <thead>\n",
       "    <tr style=\"text-align: right;\">\n",
       "      <th></th>\n",
       "      <th>Month</th>\n",
       "      <th>Store_code</th>\n",
       "      <th>Day</th>\n",
       "      <th>Bill_id</th>\n",
       "      <th>Bill_amt</th>\n",
       "      <th>Qty</th>\n",
       "      <th>Value</th>\n",
       "      <th>Price</th>\n",
       "      <th>Group</th>\n",
       "      <th>Sgrp</th>\n",
       "      <th>Ssgrp</th>\n",
       "      <th>Cmp</th>\n",
       "      <th>Mbrd</th>\n",
       "      <th>Brd</th>\n",
       "    </tr>\n",
       "  </thead>\n",
       "  <tbody>\n",
       "    <tr>\n",
       "      <th>5317</th>\n",
       "      <td>M1</td>\n",
       "      <td>N7</td>\n",
       "      <td>1</td>\n",
       "      <td>T24</td>\n",
       "      <td>0.0</td>\n",
       "      <td>1.0</td>\n",
       "      <td>0.0</td>\n",
       "      <td>0.0</td>\n",
       "      <td>KETCHUPS/SAUCES</td>\n",
       "      <td>KETCHUPS/SAUCES</td>\n",
       "      <td>KETCHUPS/SAUCES</td>\n",
       "      <td>DR OETKER INDIA PVT LTD</td>\n",
       "      <td>FUN FOODS</td>\n",
       "      <td>FUN FOODS</td>\n",
       "    </tr>\n",
       "    <tr>\n",
       "      <th>5989</th>\n",
       "      <td>M1</td>\n",
       "      <td>N7</td>\n",
       "      <td>17</td>\n",
       "      <td>T1320</td>\n",
       "      <td>1.0</td>\n",
       "      <td>1000.0</td>\n",
       "      <td>1.0</td>\n",
       "      <td>0.0</td>\n",
       "      <td>HAIR OILS PKTP(8/02)</td>\n",
       "      <td>FLEXI</td>\n",
       "      <td>COOLING OIL</td>\n",
       "      <td>EMAMI</td>\n",
       "      <td>NAVRATNA</td>\n",
       "      <td>NAVRATNA</td>\n",
       "    </tr>\n",
       "    <tr>\n",
       "      <th>6680</th>\n",
       "      <td>M1</td>\n",
       "      <td>N7</td>\n",
       "      <td>28</td>\n",
       "      <td>T2326</td>\n",
       "      <td>5.0</td>\n",
       "      <td>5000.0</td>\n",
       "      <td>5.0</td>\n",
       "      <td>0.0</td>\n",
       "      <td>HAIR OILS PKTP(8/02)</td>\n",
       "      <td>FLEXI</td>\n",
       "      <td>COOLING OIL</td>\n",
       "      <td>EMAMI</td>\n",
       "      <td>NAVRATNA</td>\n",
       "      <td>NAVRATNA</td>\n",
       "    </tr>\n",
       "    <tr>\n",
       "      <th>6972</th>\n",
       "      <td>M1</td>\n",
       "      <td>N7</td>\n",
       "      <td>26</td>\n",
       "      <td>T2655</td>\n",
       "      <td>0.0</td>\n",
       "      <td>1.0</td>\n",
       "      <td>0.0</td>\n",
       "      <td>0.0</td>\n",
       "      <td>WASHING POWDERS/LIQUIDS</td>\n",
       "      <td>WASHING POWDERS/LIQUIDS</td>\n",
       "      <td>WASHING POWDERS/LIQUIDS</td>\n",
       "      <td>HINDUSTAN UNILEVER LIMITED</td>\n",
       "      <td>RIN</td>\n",
       "      <td>RIN</td>\n",
       "    </tr>\n",
       "    <tr>\n",
       "      <th>10789</th>\n",
       "      <td>M1</td>\n",
       "      <td>N10</td>\n",
       "      <td>24</td>\n",
       "      <td>T1879</td>\n",
       "      <td>0.0</td>\n",
       "      <td>1.0</td>\n",
       "      <td>0.0</td>\n",
       "      <td>0.0</td>\n",
       "      <td>CHEESE        (4/94)</td>\n",
       "      <td>PROCESSED CHEESE</td>\n",
       "      <td>PROCESSED CHEESE</td>\n",
       "      <td>BRITANNIA DAIRY PVT LTD</td>\n",
       "      <td>BRITANNIA</td>\n",
       "      <td>BRITANNIA</td>\n",
       "    </tr>\n",
       "    <tr>\n",
       "      <th>13684</th>\n",
       "      <td>M2</td>\n",
       "      <td>N7</td>\n",
       "      <td>13</td>\n",
       "      <td>T3435</td>\n",
       "      <td>0.0</td>\n",
       "      <td>1.0</td>\n",
       "      <td>0.0</td>\n",
       "      <td>0.0</td>\n",
       "      <td>TOOTH PASTES</td>\n",
       "      <td>TOOTH PASTES</td>\n",
       "      <td>TOOTH PASTES</td>\n",
       "      <td>COLGATE-PALMOLIVE</td>\n",
       "      <td>COLGATE MAX FRESH</td>\n",
       "      <td>COLGATE MAXFRSH SPICY FRSH RED</td>\n",
       "    </tr>\n",
       "    <tr>\n",
       "      <th>13806</th>\n",
       "      <td>M2</td>\n",
       "      <td>N7</td>\n",
       "      <td>15</td>\n",
       "      <td>T3608</td>\n",
       "      <td>0.0</td>\n",
       "      <td>3.0</td>\n",
       "      <td>0.0</td>\n",
       "      <td>0.0</td>\n",
       "      <td>SHAMPOO - BY SEGMENTS</td>\n",
       "      <td>SACHETS</td>\n",
       "      <td>SACHETS</td>\n",
       "      <td>PATANJALI AYURVED LTD</td>\n",
       "      <td>PATANJALI</td>\n",
       "      <td>PATANJALI</td>\n",
       "    </tr>\n",
       "    <tr>\n",
       "      <th>15215</th>\n",
       "      <td>M2</td>\n",
       "      <td>N7</td>\n",
       "      <td>12</td>\n",
       "      <td>T4916</td>\n",
       "      <td>0.0</td>\n",
       "      <td>1.0</td>\n",
       "      <td>0.0</td>\n",
       "      <td>0.0</td>\n",
       "      <td>CLEANERS - UTENSIL</td>\n",
       "      <td>SPECIALIZED</td>\n",
       "      <td>POWDERS</td>\n",
       "      <td>N RANGA RAO &amp; SONS</td>\n",
       "      <td>OM SHANTHI</td>\n",
       "      <td>OM SHANTHI</td>\n",
       "    </tr>\n",
       "    <tr>\n",
       "      <th>16615</th>\n",
       "      <td>M3</td>\n",
       "      <td>N1</td>\n",
       "      <td>14</td>\n",
       "      <td>T7878</td>\n",
       "      <td>0.0</td>\n",
       "      <td>1.0</td>\n",
       "      <td>0.0</td>\n",
       "      <td>0.0</td>\n",
       "      <td>WASHING POWDERS/LIQUIDS</td>\n",
       "      <td>WASHING POWDERS/LIQUIDS</td>\n",
       "      <td>WASHING POWDERS/LIQUIDS</td>\n",
       "      <td>HINDUSTAN UNILEVER LIMITED</td>\n",
       "      <td>SURF</td>\n",
       "      <td>SURF EXCEL EASY WASH</td>\n",
       "    </tr>\n",
       "    <tr>\n",
       "      <th>20568</th>\n",
       "      <td>M2</td>\n",
       "      <td>N10</td>\n",
       "      <td>14</td>\n",
       "      <td>T2589</td>\n",
       "      <td>0.0</td>\n",
       "      <td>1.0</td>\n",
       "      <td>0.0</td>\n",
       "      <td>0.0</td>\n",
       "      <td>REFINED EDIBLE OILS-ALL PACKS</td>\n",
       "      <td>RICE BRAN</td>\n",
       "      <td>RICE BRAN</td>\n",
       "      <td>ADANI WILMAR</td>\n",
       "      <td>FORTUNE</td>\n",
       "      <td>FORTUNE</td>\n",
       "    </tr>\n",
       "    <tr>\n",
       "      <th>21311</th>\n",
       "      <td>M2</td>\n",
       "      <td>N10</td>\n",
       "      <td>24</td>\n",
       "      <td>T3899</td>\n",
       "      <td>0.0</td>\n",
       "      <td>1.0</td>\n",
       "      <td>0.0</td>\n",
       "      <td>0.0</td>\n",
       "      <td>CHEESE        (4/94)</td>\n",
       "      <td>PROCESSED CHEESE</td>\n",
       "      <td>PROCESSED CHEESE</td>\n",
       "      <td>BRITANNIA DAIRY PVT LTD</td>\n",
       "      <td>BRITANNIA</td>\n",
       "      <td>BRITANNIA</td>\n",
       "    </tr>\n",
       "    <tr>\n",
       "      <th>26281</th>\n",
       "      <td>M3</td>\n",
       "      <td>N10</td>\n",
       "      <td>7</td>\n",
       "      <td>T4206</td>\n",
       "      <td>0.0</td>\n",
       "      <td>1.0</td>\n",
       "      <td>0.0</td>\n",
       "      <td>0.0</td>\n",
       "      <td>REFINED EDIBLE OILS-ALL PACKS</td>\n",
       "      <td>BLENDED OIL</td>\n",
       "      <td>BLENDED OIL</td>\n",
       "      <td>MARICO INDS</td>\n",
       "      <td>SAFFOLA</td>\n",
       "      <td>SAFFOLA GOLD</td>\n",
       "    </tr>\n",
       "  </tbody>\n",
       "</table>\n",
       "</div>"
      ],
      "text/plain": [
       "      Month Store_code  Day Bill_id  Bill_amt     Qty  Value  Price  \\\n",
       "5317     M1         N7    1     T24       0.0     1.0    0.0    0.0   \n",
       "5989     M1         N7   17   T1320       1.0  1000.0    1.0    0.0   \n",
       "6680     M1         N7   28   T2326       5.0  5000.0    5.0    0.0   \n",
       "6972     M1         N7   26   T2655       0.0     1.0    0.0    0.0   \n",
       "10789    M1        N10   24   T1879       0.0     1.0    0.0    0.0   \n",
       "13684    M2         N7   13   T3435       0.0     1.0    0.0    0.0   \n",
       "13806    M2         N7   15   T3608       0.0     3.0    0.0    0.0   \n",
       "15215    M2         N7   12   T4916       0.0     1.0    0.0    0.0   \n",
       "16615    M3         N1   14   T7878       0.0     1.0    0.0    0.0   \n",
       "20568    M2        N10   14   T2589       0.0     1.0    0.0    0.0   \n",
       "21311    M2        N10   24   T3899       0.0     1.0    0.0    0.0   \n",
       "26281    M3        N10    7   T4206       0.0     1.0    0.0    0.0   \n",
       "\n",
       "                               Group                     Sgrp  \\\n",
       "5317                 KETCHUPS/SAUCES          KETCHUPS/SAUCES   \n",
       "5989            HAIR OILS PKTP(8/02)                    FLEXI   \n",
       "6680            HAIR OILS PKTP(8/02)                    FLEXI   \n",
       "6972         WASHING POWDERS/LIQUIDS  WASHING POWDERS/LIQUIDS   \n",
       "10789           CHEESE        (4/94)         PROCESSED CHEESE   \n",
       "13684                   TOOTH PASTES             TOOTH PASTES   \n",
       "13806          SHAMPOO - BY SEGMENTS                  SACHETS   \n",
       "15215             CLEANERS - UTENSIL              SPECIALIZED   \n",
       "16615        WASHING POWDERS/LIQUIDS  WASHING POWDERS/LIQUIDS   \n",
       "20568  REFINED EDIBLE OILS-ALL PACKS                RICE BRAN   \n",
       "21311           CHEESE        (4/94)         PROCESSED CHEESE   \n",
       "26281  REFINED EDIBLE OILS-ALL PACKS              BLENDED OIL   \n",
       "\n",
       "                         Ssgrp                         Cmp               Mbrd  \\\n",
       "5317           KETCHUPS/SAUCES     DR OETKER INDIA PVT LTD          FUN FOODS   \n",
       "5989               COOLING OIL                       EMAMI           NAVRATNA   \n",
       "6680               COOLING OIL                       EMAMI           NAVRATNA   \n",
       "6972   WASHING POWDERS/LIQUIDS  HINDUSTAN UNILEVER LIMITED                RIN   \n",
       "10789         PROCESSED CHEESE     BRITANNIA DAIRY PVT LTD          BRITANNIA   \n",
       "13684             TOOTH PASTES           COLGATE-PALMOLIVE  COLGATE MAX FRESH   \n",
       "13806                  SACHETS       PATANJALI AYURVED LTD          PATANJALI   \n",
       "15215                  POWDERS          N RANGA RAO & SONS         OM SHANTHI   \n",
       "16615  WASHING POWDERS/LIQUIDS  HINDUSTAN UNILEVER LIMITED               SURF   \n",
       "20568                RICE BRAN                ADANI WILMAR            FORTUNE   \n",
       "21311         PROCESSED CHEESE     BRITANNIA DAIRY PVT LTD          BRITANNIA   \n",
       "26281              BLENDED OIL                 MARICO INDS            SAFFOLA   \n",
       "\n",
       "                                  Brd  \n",
       "5317                        FUN FOODS  \n",
       "5989                         NAVRATNA  \n",
       "6680                         NAVRATNA  \n",
       "6972                              RIN  \n",
       "10789                       BRITANNIA  \n",
       "13684  COLGATE MAXFRSH SPICY FRSH RED  \n",
       "13806                       PATANJALI  \n",
       "15215                      OM SHANTHI  \n",
       "16615            SURF EXCEL EASY WASH  \n",
       "20568                         FORTUNE  \n",
       "21311                       BRITANNIA  \n",
       "26281                    SAFFOLA GOLD  "
      ]
     },
     "execution_count": 54,
     "metadata": {},
     "output_type": "execute_result"
    }
   ],
   "source": [
    "# Check the column where Price which has 0 (Price should not be 0)\n",
    "\n",
    "hack[hack['Price'] == 0]"
   ]
  },
  {
   "cell_type": "code",
   "execution_count": 55,
   "metadata": {},
   "outputs": [
    {
     "data": {
      "text/plain": [
       "Month         12\n",
       "Store_code    12\n",
       "Day           12\n",
       "Bill_id       12\n",
       "Bill_amt      12\n",
       "Qty           12\n",
       "Value         12\n",
       "Price         12\n",
       "Group         12\n",
       "Sgrp          12\n",
       "Ssgrp         12\n",
       "Cmp           12\n",
       "Mbrd          12\n",
       "Brd           12\n",
       "dtype: int64"
      ]
     },
     "execution_count": 55,
     "metadata": {},
     "output_type": "execute_result"
    }
   ],
   "source": [
    "# The number of rows which has 0 Price\n",
    "\n",
    "hack[hack['Price'] == 0].count()"
   ]
  },
  {
   "cell_type": "code",
   "execution_count": 56,
   "metadata": {},
   "outputs": [
    {
     "name": "stdout",
     "output_type": "stream",
     "text": [
      "[5317, 5989, 6680, 6972, 10789, 13684, 13806, 15215, 16615, 20568, 21311, 26281]\n"
     ]
    },
    {
     "data": {
      "text/plain": [
       "(None,)"
      ]
     },
     "execution_count": 56,
     "metadata": {},
     "output_type": "execute_result"
    }
   ],
   "source": [
    "print(hack.index[hack['Price']==0].tolist()),  # The rows which has price value 0"
   ]
  },
  {
   "cell_type": "markdown",
   "metadata": {},
   "source": [
    "***dropping the rows which has price 0***"
   ]
  },
  {
   "cell_type": "code",
   "execution_count": 57,
   "metadata": {},
   "outputs": [],
   "source": [
    "# dropping the rows which has price 0\n",
    "\n",
    "hack.drop([5317, 5989, 6680, 6972, 10789, 13684, 13806, 15215, 16615, 20568, 21311, 26281], inplace = True)"
   ]
  },
  {
   "cell_type": "code",
   "execution_count": 58,
   "metadata": {},
   "outputs": [
    {
     "data": {
      "text/html": [
       "<div>\n",
       "<style scoped>\n",
       "    .dataframe tbody tr th:only-of-type {\n",
       "        vertical-align: middle;\n",
       "    }\n",
       "\n",
       "    .dataframe tbody tr th {\n",
       "        vertical-align: top;\n",
       "    }\n",
       "\n",
       "    .dataframe thead th {\n",
       "        text-align: right;\n",
       "    }\n",
       "</style>\n",
       "<table border=\"1\" class=\"dataframe\">\n",
       "  <thead>\n",
       "    <tr style=\"text-align: right;\">\n",
       "      <th></th>\n",
       "      <th>Month</th>\n",
       "      <th>Store_code</th>\n",
       "      <th>Day</th>\n",
       "      <th>Bill_id</th>\n",
       "      <th>Bill_amt</th>\n",
       "      <th>Qty</th>\n",
       "      <th>Value</th>\n",
       "      <th>Price</th>\n",
       "      <th>Group</th>\n",
       "      <th>Sgrp</th>\n",
       "      <th>Ssgrp</th>\n",
       "      <th>Cmp</th>\n",
       "      <th>Mbrd</th>\n",
       "      <th>Brd</th>\n",
       "    </tr>\n",
       "  </thead>\n",
       "  <tbody>\n",
       "  </tbody>\n",
       "</table>\n",
       "</div>"
      ],
      "text/plain": [
       "Empty DataFrame\n",
       "Columns: [Month, Store_code, Day, Bill_id, Bill_amt, Qty, Value, Price, Group, Sgrp, Ssgrp, Cmp, Mbrd, Brd]\n",
       "Index: []"
      ]
     },
     "execution_count": 58,
     "metadata": {},
     "output_type": "execute_result"
    }
   ],
   "source": [
    "hack[hack['Price'] == 0] # the rows are removed"
   ]
  },
  {
   "cell_type": "code",
   "execution_count": 59,
   "metadata": {},
   "outputs": [
    {
     "data": {
      "text/plain": [
       "(26884, 14)"
      ]
     },
     "execution_count": 59,
     "metadata": {},
     "output_type": "execute_result"
    }
   ],
   "source": [
    "# Now lets check how much data we have\n",
    "\n",
    "hack.shape"
   ]
  },
  {
   "cell_type": "code",
   "execution_count": 60,
   "metadata": {},
   "outputs": [
    {
     "data": {
      "text/html": [
       "<div>\n",
       "<style scoped>\n",
       "    .dataframe tbody tr th:only-of-type {\n",
       "        vertical-align: middle;\n",
       "    }\n",
       "\n",
       "    .dataframe tbody tr th {\n",
       "        vertical-align: top;\n",
       "    }\n",
       "\n",
       "    .dataframe thead th {\n",
       "        text-align: right;\n",
       "    }\n",
       "</style>\n",
       "<table border=\"1\" class=\"dataframe\">\n",
       "  <thead>\n",
       "    <tr style=\"text-align: right;\">\n",
       "      <th></th>\n",
       "      <th>Month</th>\n",
       "      <th>Store_code</th>\n",
       "      <th>Day</th>\n",
       "      <th>Bill_id</th>\n",
       "      <th>Bill_amt</th>\n",
       "      <th>Qty</th>\n",
       "      <th>Value</th>\n",
       "      <th>Price</th>\n",
       "      <th>Group</th>\n",
       "      <th>Sgrp</th>\n",
       "      <th>Ssgrp</th>\n",
       "      <th>Cmp</th>\n",
       "      <th>Mbrd</th>\n",
       "      <th>Brd</th>\n",
       "    </tr>\n",
       "  </thead>\n",
       "  <tbody>\n",
       "  </tbody>\n",
       "</table>\n",
       "</div>"
      ],
      "text/plain": [
       "Empty DataFrame\n",
       "Columns: [Month, Store_code, Day, Bill_id, Bill_amt, Qty, Value, Price, Group, Sgrp, Ssgrp, Cmp, Mbrd, Brd]\n",
       "Index: []"
      ]
     },
     "execution_count": 60,
     "metadata": {},
     "output_type": "execute_result"
    }
   ],
   "source": [
    "hack[hack['Bill_amt'] == 0]"
   ]
  },
  {
   "cell_type": "code",
   "execution_count": 61,
   "metadata": {},
   "outputs": [
    {
     "data": {
      "text/html": [
       "<div>\n",
       "<style scoped>\n",
       "    .dataframe tbody tr th:only-of-type {\n",
       "        vertical-align: middle;\n",
       "    }\n",
       "\n",
       "    .dataframe tbody tr th {\n",
       "        vertical-align: top;\n",
       "    }\n",
       "\n",
       "    .dataframe thead th {\n",
       "        text-align: right;\n",
       "    }\n",
       "</style>\n",
       "<table border=\"1\" class=\"dataframe\">\n",
       "  <thead>\n",
       "    <tr style=\"text-align: right;\">\n",
       "      <th></th>\n",
       "      <th>Month</th>\n",
       "      <th>Store_code</th>\n",
       "      <th>Day</th>\n",
       "      <th>Bill_id</th>\n",
       "      <th>Bill_amt</th>\n",
       "      <th>Qty</th>\n",
       "      <th>Value</th>\n",
       "      <th>Price</th>\n",
       "      <th>Group</th>\n",
       "      <th>Sgrp</th>\n",
       "      <th>Ssgrp</th>\n",
       "      <th>Cmp</th>\n",
       "      <th>Mbrd</th>\n",
       "      <th>Brd</th>\n",
       "    </tr>\n",
       "  </thead>\n",
       "  <tbody>\n",
       "  </tbody>\n",
       "</table>\n",
       "</div>"
      ],
      "text/plain": [
       "Empty DataFrame\n",
       "Columns: [Month, Store_code, Day, Bill_id, Bill_amt, Qty, Value, Price, Group, Sgrp, Ssgrp, Cmp, Mbrd, Brd]\n",
       "Index: []"
      ]
     },
     "execution_count": 61,
     "metadata": {},
     "output_type": "execute_result"
    }
   ],
   "source": [
    "hack[hack['Bill_amt'] == 0]"
   ]
  },
  {
   "cell_type": "code",
   "execution_count": null,
   "metadata": {},
   "outputs": [],
   "source": []
  },
  {
   "cell_type": "code",
   "execution_count": 62,
   "metadata": {},
   "outputs": [
    {
     "data": {
      "text/plain": [
       "18"
      ]
     },
     "execution_count": 62,
     "metadata": {},
     "output_type": "execute_result"
    }
   ],
   "source": [
    "# Since the 'Qty' column has null values, let's remove it\n",
    "\n",
    "hack['Qty'].isnull().sum()"
   ]
  },
  {
   "cell_type": "code",
   "execution_count": 63,
   "metadata": {},
   "outputs": [],
   "source": [
    "# removing the null values in all the rows with reference to the Qty column\n",
    "\n",
    "hack.dropna(subset = ['Qty'], axis = 0, inplace = True)"
   ]
  },
  {
   "cell_type": "code",
   "execution_count": 64,
   "metadata": {},
   "outputs": [
    {
     "data": {
      "text/plain": [
       "0"
      ]
     },
     "execution_count": 64,
     "metadata": {},
     "output_type": "execute_result"
    }
   ],
   "source": [
    "hack['Qty'].isnull().sum()    # The null values which are in 'Qty' column is dropped"
   ]
  },
  {
   "cell_type": "code",
   "execution_count": 65,
   "metadata": {},
   "outputs": [
    {
     "data": {
      "text/plain": [
       "Month          0\n",
       "Store_code     0\n",
       "Day            0\n",
       "Bill_id       10\n",
       "Bill_amt       6\n",
       "Qty            0\n",
       "Value          6\n",
       "Price          8\n",
       "Group          4\n",
       "Sgrp           5\n",
       "Ssgrp          5\n",
       "Cmp            0\n",
       "Mbrd           0\n",
       "Brd            0\n",
       "dtype: int64"
      ]
     },
     "execution_count": 65,
     "metadata": {},
     "output_type": "execute_result"
    }
   ],
   "source": [
    "hack.isnull().sum()"
   ]
  },
  {
   "cell_type": "code",
   "execution_count": null,
   "metadata": {},
   "outputs": [],
   "source": []
  },
  {
   "cell_type": "markdown",
   "metadata": {},
   "source": [
    "## *Handling Null values*"
   ]
  },
  {
   "cell_type": "code",
   "execution_count": 66,
   "metadata": {},
   "outputs": [
    {
     "data": {
      "text/plain": [
       "Month          0\n",
       "Store_code     0\n",
       "Day            0\n",
       "Bill_id       10\n",
       "Bill_amt       6\n",
       "Qty            0\n",
       "Value          6\n",
       "Price          8\n",
       "Group          4\n",
       "Sgrp           5\n",
       "Ssgrp          5\n",
       "Cmp            0\n",
       "Mbrd           0\n",
       "Brd            0\n",
       "dtype: int64"
      ]
     },
     "execution_count": 66,
     "metadata": {},
     "output_type": "execute_result"
    }
   ],
   "source": [
    "hack.isnull().sum()"
   ]
  },
  {
   "cell_type": "code",
   "execution_count": 67,
   "metadata": {},
   "outputs": [
    {
     "data": {
      "text/plain": [
       "44"
      ]
     },
     "execution_count": 67,
     "metadata": {},
     "output_type": "execute_result"
    }
   ],
   "source": [
    "hack.isnull().sum().sum()"
   ]
  },
  {
   "cell_type": "code",
   "execution_count": 68,
   "metadata": {},
   "outputs": [
    {
     "data": {
      "text/html": [
       "<div>\n",
       "<style scoped>\n",
       "    .dataframe tbody tr th:only-of-type {\n",
       "        vertical-align: middle;\n",
       "    }\n",
       "\n",
       "    .dataframe tbody tr th {\n",
       "        vertical-align: top;\n",
       "    }\n",
       "\n",
       "    .dataframe thead th {\n",
       "        text-align: right;\n",
       "    }\n",
       "</style>\n",
       "<table border=\"1\" class=\"dataframe\">\n",
       "  <thead>\n",
       "    <tr style=\"text-align: right;\">\n",
       "      <th></th>\n",
       "      <th>Month</th>\n",
       "      <th>Store_code</th>\n",
       "      <th>Day</th>\n",
       "      <th>Bill_id</th>\n",
       "      <th>Bill_amt</th>\n",
       "      <th>Qty</th>\n",
       "      <th>Value</th>\n",
       "      <th>Price</th>\n",
       "      <th>Group</th>\n",
       "      <th>Sgrp</th>\n",
       "      <th>Ssgrp</th>\n",
       "      <th>Cmp</th>\n",
       "      <th>Mbrd</th>\n",
       "      <th>Brd</th>\n",
       "    </tr>\n",
       "  </thead>\n",
       "  <tbody>\n",
       "    <tr>\n",
       "      <th>684</th>\n",
       "      <td>M1</td>\n",
       "      <td>N1</td>\n",
       "      <td>9</td>\n",
       "      <td>T1001</td>\n",
       "      <td>NaN</td>\n",
       "      <td>1.0</td>\n",
       "      <td>NaN</td>\n",
       "      <td>NaN</td>\n",
       "      <td>BLUES</td>\n",
       "      <td>LIQUID BLUES</td>\n",
       "      <td>LIQUID BLUES</td>\n",
       "      <td>JYOTHY LABORATORIES</td>\n",
       "      <td>UJALA</td>\n",
       "      <td>UJALA SUPREME</td>\n",
       "    </tr>\n",
       "    <tr>\n",
       "      <th>685</th>\n",
       "      <td>M1</td>\n",
       "      <td>N1</td>\n",
       "      <td>9</td>\n",
       "      <td>T1003</td>\n",
       "      <td>NaN</td>\n",
       "      <td>1.0</td>\n",
       "      <td>NaN</td>\n",
       "      <td>NaN</td>\n",
       "      <td>SALTY SNACKS (2/97)</td>\n",
       "      <td>GATHIA/PAPRI/RIBLON</td>\n",
       "      <td>GATHIA/PAPRI/RIBLON</td>\n",
       "      <td>PEPSICO INDIA</td>\n",
       "      <td>KUR KURE</td>\n",
       "      <td>KUR KURE HYDRABADI HUNGAMA</td>\n",
       "    </tr>\n",
       "    <tr>\n",
       "      <th>686</th>\n",
       "      <td>M1</td>\n",
       "      <td>N1</td>\n",
       "      <td>9</td>\n",
       "      <td>T1004</td>\n",
       "      <td>NaN</td>\n",
       "      <td>1.0</td>\n",
       "      <td>NaN</td>\n",
       "      <td>NaN</td>\n",
       "      <td>BISCUITS - CORE &amp; NON CORE</td>\n",
       "      <td>WAFER CREAM</td>\n",
       "      <td>WAFER CREAM</td>\n",
       "      <td>GARUDA POLYFEX FOOD PVT LTD</td>\n",
       "      <td>GONE MAD</td>\n",
       "      <td>GONE MAD</td>\n",
       "    </tr>\n",
       "    <tr>\n",
       "      <th>1157</th>\n",
       "      <td>M1</td>\n",
       "      <td>N1</td>\n",
       "      <td>13</td>\n",
       "      <td>T1419</td>\n",
       "      <td>NaN</td>\n",
       "      <td>1.0</td>\n",
       "      <td>NaN</td>\n",
       "      <td>NaN</td>\n",
       "      <td>BISCUITS - CORE &amp; NON CORE</td>\n",
       "      <td>NON-SALT CRACKER</td>\n",
       "      <td>NON-SALT CRACKER</td>\n",
       "      <td>PARLE PRODS</td>\n",
       "      <td>PARLE TOP SPIN</td>\n",
       "      <td>PARLE TOP SPIN</td>\n",
       "    </tr>\n",
       "    <tr>\n",
       "      <th>17216</th>\n",
       "      <td>M3</td>\n",
       "      <td>N1</td>\n",
       "      <td>27</td>\n",
       "      <td>T8972</td>\n",
       "      <td>20.0</td>\n",
       "      <td>2.0</td>\n",
       "      <td>20.0</td>\n",
       "      <td>NaN</td>\n",
       "      <td>CONFECTIONERY - TOFFEE/HBC</td>\n",
       "      <td>TOFFEES</td>\n",
       "      <td>TOFFEES</td>\n",
       "      <td>I T C</td>\n",
       "      <td>JELIMALS</td>\n",
       "      <td>JELIMALS FRUITY BEARS</td>\n",
       "    </tr>\n",
       "    <tr>\n",
       "      <th>17217</th>\n",
       "      <td>M3</td>\n",
       "      <td>N1</td>\n",
       "      <td>27</td>\n",
       "      <td>T8976</td>\n",
       "      <td>360.0</td>\n",
       "      <td>3.0</td>\n",
       "      <td>360.0</td>\n",
       "      <td>NaN</td>\n",
       "      <td>REFINED EDIBLE OILS-ALL PACKS</td>\n",
       "      <td>RICE BRAN</td>\n",
       "      <td>RICE BRAN</td>\n",
       "      <td>ADANI WILMAR</td>\n",
       "      <td>FORTUNE</td>\n",
       "      <td>FORTUNE</td>\n",
       "    </tr>\n",
       "    <tr>\n",
       "      <th>17218</th>\n",
       "      <td>M3</td>\n",
       "      <td>N1</td>\n",
       "      <td>27</td>\n",
       "      <td>T8976</td>\n",
       "      <td>54.0</td>\n",
       "      <td>1.0</td>\n",
       "      <td>54.0</td>\n",
       "      <td>NaN</td>\n",
       "      <td>SPICES (03/04)</td>\n",
       "      <td>PURE</td>\n",
       "      <td>TURMERIC/HALDI-PURE SPICES</td>\n",
       "      <td>SIGMA FOOD PRODUCTS</td>\n",
       "      <td>EVERYDAY</td>\n",
       "      <td>EVERYDAY</td>\n",
       "    </tr>\n",
       "    <tr>\n",
       "      <th>17219</th>\n",
       "      <td>M3</td>\n",
       "      <td>N1</td>\n",
       "      <td>27</td>\n",
       "      <td>T8976</td>\n",
       "      <td>53.0</td>\n",
       "      <td>1.0</td>\n",
       "      <td>53.0</td>\n",
       "      <td>NaN</td>\n",
       "      <td>SPICES (03/04)</td>\n",
       "      <td>PURE</td>\n",
       "      <td>CORIANDER/DHANI-PURE SPICES</td>\n",
       "      <td>S NARENDRA KUMAR</td>\n",
       "      <td>EVEREST</td>\n",
       "      <td>EVEREST</td>\n",
       "    </tr>\n",
       "  </tbody>\n",
       "</table>\n",
       "</div>"
      ],
      "text/plain": [
       "      Month Store_code  Day Bill_id  Bill_amt  Qty  Value  Price  \\\n",
       "684      M1         N1    9   T1001       NaN  1.0    NaN    NaN   \n",
       "685      M1         N1    9   T1003       NaN  1.0    NaN    NaN   \n",
       "686      M1         N1    9   T1004       NaN  1.0    NaN    NaN   \n",
       "1157     M1         N1   13   T1419       NaN  1.0    NaN    NaN   \n",
       "17216    M3         N1   27   T8972      20.0  2.0   20.0    NaN   \n",
       "17217    M3         N1   27   T8976     360.0  3.0  360.0    NaN   \n",
       "17218    M3         N1   27   T8976      54.0  1.0   54.0    NaN   \n",
       "17219    M3         N1   27   T8976      53.0  1.0   53.0    NaN   \n",
       "\n",
       "                               Group                 Sgrp  \\\n",
       "684                            BLUES         LIQUID BLUES   \n",
       "685              SALTY SNACKS (2/97)  GATHIA/PAPRI/RIBLON   \n",
       "686       BISCUITS - CORE & NON CORE          WAFER CREAM   \n",
       "1157      BISCUITS - CORE & NON CORE     NON-SALT CRACKER   \n",
       "17216     CONFECTIONERY - TOFFEE/HBC              TOFFEES   \n",
       "17217  REFINED EDIBLE OILS-ALL PACKS            RICE BRAN   \n",
       "17218                 SPICES (03/04)                 PURE   \n",
       "17219                 SPICES (03/04)                 PURE   \n",
       "\n",
       "                             Ssgrp                          Cmp  \\\n",
       "684                   LIQUID BLUES          JYOTHY LABORATORIES   \n",
       "685            GATHIA/PAPRI/RIBLON                PEPSICO INDIA   \n",
       "686                    WAFER CREAM  GARUDA POLYFEX FOOD PVT LTD   \n",
       "1157              NON-SALT CRACKER                  PARLE PRODS   \n",
       "17216                      TOFFEES                        I T C   \n",
       "17217                    RICE BRAN                 ADANI WILMAR   \n",
       "17218   TURMERIC/HALDI-PURE SPICES          SIGMA FOOD PRODUCTS   \n",
       "17219  CORIANDER/DHANI-PURE SPICES             S NARENDRA KUMAR   \n",
       "\n",
       "                 Mbrd                         Brd  \n",
       "684             UJALA               UJALA SUPREME  \n",
       "685          KUR KURE  KUR KURE HYDRABADI HUNGAMA  \n",
       "686          GONE MAD                    GONE MAD  \n",
       "1157   PARLE TOP SPIN              PARLE TOP SPIN  \n",
       "17216        JELIMALS       JELIMALS FRUITY BEARS  \n",
       "17217         FORTUNE                     FORTUNE  \n",
       "17218        EVERYDAY                    EVERYDAY  \n",
       "17219         EVEREST                     EVEREST  "
      ]
     },
     "execution_count": 68,
     "metadata": {},
     "output_type": "execute_result"
    }
   ],
   "source": [
    "hack[hack['Price'].isnull()]"
   ]
  },
  {
   "cell_type": "markdown",
   "metadata": {},
   "source": [
    "# Note: when we analyze the dataset the price column is correct\n",
    "\n",
    "    price column is correct\n",
    "    price * qty is value\n",
    "    value + value (same Bill_id) is bill_amt"
   ]
  },
  {
   "cell_type": "code",
   "execution_count": 69,
   "metadata": {},
   "outputs": [
    {
     "data": {
      "text/plain": [
       "Month          0\n",
       "Store_code     0\n",
       "Day            0\n",
       "Bill_id       10\n",
       "Bill_amt       6\n",
       "Qty            0\n",
       "Value          6\n",
       "Price          8\n",
       "Group          4\n",
       "Sgrp           5\n",
       "Ssgrp          5\n",
       "Cmp            0\n",
       "Mbrd           0\n",
       "Brd            0\n",
       "dtype: int64"
      ]
     },
     "execution_count": 69,
     "metadata": {},
     "output_type": "execute_result"
    }
   ],
   "source": [
    "hack.isnull().sum()"
   ]
  },
  {
   "cell_type": "code",
   "execution_count": 70,
   "metadata": {},
   "outputs": [],
   "source": [
    "hack['Total_bill'] = hack['Price'] * hack['Qty']"
   ]
  },
  {
   "cell_type": "code",
   "execution_count": 71,
   "metadata": {},
   "outputs": [
    {
     "data": {
      "text/plain": [
       "8"
      ]
     },
     "execution_count": 71,
     "metadata": {},
     "output_type": "execute_result"
    }
   ],
   "source": [
    "hack.Total_bill.isnull().sum()"
   ]
  },
  {
   "cell_type": "code",
   "execution_count": 72,
   "metadata": {},
   "outputs": [],
   "source": [
    "hack.drop(columns = 'Total_bill', inplace= True)"
   ]
  },
  {
   "cell_type": "code",
   "execution_count": 73,
   "metadata": {},
   "outputs": [
    {
     "data": {
      "text/plain": [
       "Index(['Month', 'Store_code', 'Day', 'Bill_id', 'Bill_amt', 'Qty', 'Value',\n",
       "       'Price', 'Group', 'Sgrp', 'Ssgrp', 'Cmp', 'Mbrd', 'Brd'],\n",
       "      dtype='object')"
      ]
     },
     "execution_count": 73,
     "metadata": {},
     "output_type": "execute_result"
    }
   ],
   "source": [
    "hack.columns"
   ]
  },
  {
   "cell_type": "code",
   "execution_count": 74,
   "metadata": {},
   "outputs": [
    {
     "data": {
      "text/plain": [
       "Month  Store_code\n",
       "M1     N1             1.651288\n",
       "       N10            1.395480\n",
       "       N2             5.836283\n",
       "       N3             1.585052\n",
       "       N4             2.447484\n",
       "       N5             1.655385\n",
       "       N6             1.486486\n",
       "       N7             1.654292\n",
       "       N8             2.600840\n",
       "       N9             1.693351\n",
       "M2     N1            26.146998\n",
       "       N10            1.824880\n",
       "       N2            23.304348\n",
       "       N3             1.573353\n",
       "       N4             2.420619\n",
       "       N5             1.652614\n",
       "       N6             1.814961\n",
       "       N7             1.897314\n",
       "       N8             2.212202\n",
       "       N9             1.711429\n",
       "M3     N1            14.636528\n",
       "       N10            1.548602\n",
       "       N2            24.850095\n",
       "       N3             1.724340\n",
       "       N4             2.504525\n",
       "       N5             1.564540\n",
       "       N6             1.592028\n",
       "       N7             3.139656\n",
       "       N8             2.058594\n",
       "       N9             1.853933\n",
       "Name: Qty, dtype: float64"
      ]
     },
     "execution_count": 74,
     "metadata": {},
     "output_type": "execute_result"
    }
   ],
   "source": [
    "hack.groupby(['Month','Store_code'])['Qty'].mean()"
   ]
  },
  {
   "cell_type": "code",
   "execution_count": 75,
   "metadata": {},
   "outputs": [],
   "source": [
    "# lets fill the Qty column with mean \n",
    "\n",
    "hack['Qty'].fillna(hack.groupby(['Month','Store_code'])['Qty'].transform('mean'), inplace= True)"
   ]
  },
  {
   "cell_type": "code",
   "execution_count": 76,
   "metadata": {},
   "outputs": [
    {
     "data": {
      "text/plain": [
       "Month          0\n",
       "Store_code     0\n",
       "Day            0\n",
       "Bill_id       10\n",
       "Bill_amt       6\n",
       "Qty            0\n",
       "Value          6\n",
       "Price          8\n",
       "Group          4\n",
       "Sgrp           5\n",
       "Ssgrp          5\n",
       "Cmp            0\n",
       "Mbrd           0\n",
       "Brd            0\n",
       "dtype: int64"
      ]
     },
     "execution_count": 76,
     "metadata": {},
     "output_type": "execute_result"
    }
   ],
   "source": [
    "hack.isnull().sum()"
   ]
  },
  {
   "cell_type": "code",
   "execution_count": 77,
   "metadata": {},
   "outputs": [
    {
     "data": {
      "text/plain": [
       "3.909588327253778"
      ]
     },
     "execution_count": 77,
     "metadata": {},
     "output_type": "execute_result"
    }
   ],
   "source": [
    "hack.Qty.mean()"
   ]
  },
  {
   "cell_type": "code",
   "execution_count": 78,
   "metadata": {},
   "outputs": [
    {
     "data": {
      "text/html": [
       "<div>\n",
       "<style scoped>\n",
       "    .dataframe tbody tr th:only-of-type {\n",
       "        vertical-align: middle;\n",
       "    }\n",
       "\n",
       "    .dataframe tbody tr th {\n",
       "        vertical-align: top;\n",
       "    }\n",
       "\n",
       "    .dataframe thead th {\n",
       "        text-align: right;\n",
       "    }\n",
       "</style>\n",
       "<table border=\"1\" class=\"dataframe\">\n",
       "  <thead>\n",
       "    <tr style=\"text-align: right;\">\n",
       "      <th></th>\n",
       "      <th>Month</th>\n",
       "      <th>Store_code</th>\n",
       "      <th>Day</th>\n",
       "      <th>Bill_id</th>\n",
       "      <th>Bill_amt</th>\n",
       "      <th>Qty</th>\n",
       "      <th>Value</th>\n",
       "      <th>Price</th>\n",
       "      <th>Group</th>\n",
       "      <th>Sgrp</th>\n",
       "      <th>Ssgrp</th>\n",
       "      <th>Cmp</th>\n",
       "      <th>Mbrd</th>\n",
       "      <th>Brd</th>\n",
       "    </tr>\n",
       "  </thead>\n",
       "  <tbody>\n",
       "  </tbody>\n",
       "</table>\n",
       "</div>"
      ],
      "text/plain": [
       "Empty DataFrame\n",
       "Columns: [Month, Store_code, Day, Bill_id, Bill_amt, Qty, Value, Price, Group, Sgrp, Ssgrp, Cmp, Mbrd, Brd]\n",
       "Index: []"
      ]
     },
     "execution_count": 78,
     "metadata": {},
     "output_type": "execute_result"
    }
   ],
   "source": [
    "hack[(hack['Bill_id'] == 'T657') & (hack['Month'] == 'M1') & (hack['Store_code'] == 'N1')]"
   ]
  },
  {
   "cell_type": "code",
   "execution_count": 79,
   "metadata": {},
   "outputs": [
    {
     "data": {
      "text/html": [
       "<div>\n",
       "<style scoped>\n",
       "    .dataframe tbody tr th:only-of-type {\n",
       "        vertical-align: middle;\n",
       "    }\n",
       "\n",
       "    .dataframe tbody tr th {\n",
       "        vertical-align: top;\n",
       "    }\n",
       "\n",
       "    .dataframe thead th {\n",
       "        text-align: right;\n",
       "    }\n",
       "</style>\n",
       "<table border=\"1\" class=\"dataframe\">\n",
       "  <thead>\n",
       "    <tr style=\"text-align: right;\">\n",
       "      <th></th>\n",
       "      <th>Month</th>\n",
       "      <th>Store_code</th>\n",
       "      <th>Day</th>\n",
       "      <th>Bill_id</th>\n",
       "      <th>Bill_amt</th>\n",
       "      <th>Qty</th>\n",
       "      <th>Value</th>\n",
       "      <th>Price</th>\n",
       "      <th>Group</th>\n",
       "      <th>Sgrp</th>\n",
       "      <th>Ssgrp</th>\n",
       "      <th>Cmp</th>\n",
       "      <th>Mbrd</th>\n",
       "      <th>Brd</th>\n",
       "    </tr>\n",
       "  </thead>\n",
       "  <tbody>\n",
       "  </tbody>\n",
       "</table>\n",
       "</div>"
      ],
      "text/plain": [
       "Empty DataFrame\n",
       "Columns: [Month, Store_code, Day, Bill_id, Bill_amt, Qty, Value, Price, Group, Sgrp, Ssgrp, Cmp, Mbrd, Brd]\n",
       "Index: []"
      ]
     },
     "execution_count": 79,
     "metadata": {},
     "output_type": "execute_result"
    }
   ],
   "source": [
    "hack[(hack['Bill_id'] == 'T658') & (hack['Month'] == 'M1') & (hack['Store_code'] == 'N1')]"
   ]
  },
  {
   "cell_type": "code",
   "execution_count": 80,
   "metadata": {},
   "outputs": [
    {
     "data": {
      "text/html": [
       "<div>\n",
       "<style scoped>\n",
       "    .dataframe tbody tr th:only-of-type {\n",
       "        vertical-align: middle;\n",
       "    }\n",
       "\n",
       "    .dataframe tbody tr th {\n",
       "        vertical-align: top;\n",
       "    }\n",
       "\n",
       "    .dataframe thead th {\n",
       "        text-align: right;\n",
       "    }\n",
       "</style>\n",
       "<table border=\"1\" class=\"dataframe\">\n",
       "  <thead>\n",
       "    <tr style=\"text-align: right;\">\n",
       "      <th></th>\n",
       "      <th>Month</th>\n",
       "      <th>Store_code</th>\n",
       "      <th>Day</th>\n",
       "      <th>Bill_id</th>\n",
       "      <th>Bill_amt</th>\n",
       "      <th>Qty</th>\n",
       "      <th>Value</th>\n",
       "      <th>Price</th>\n",
       "      <th>Group</th>\n",
       "      <th>Sgrp</th>\n",
       "      <th>Ssgrp</th>\n",
       "      <th>Cmp</th>\n",
       "      <th>Mbrd</th>\n",
       "      <th>Brd</th>\n",
       "    </tr>\n",
       "  </thead>\n",
       "  <tbody>\n",
       "    <tr>\n",
       "      <th>16767</th>\n",
       "      <td>M3</td>\n",
       "      <td>N1</td>\n",
       "      <td>16</td>\n",
       "      <td>T8083</td>\n",
       "      <td>3.0</td>\n",
       "      <td>1.0</td>\n",
       "      <td>3.0</td>\n",
       "      <td>3.0</td>\n",
       "      <td>PRE-POST WASH PRODUCTS</td>\n",
       "      <td>FABRIC SOFTNERS</td>\n",
       "      <td>FABRIC SOFTNERS</td>\n",
       "      <td>HINDUSTAN UNILEVER LIMITED</td>\n",
       "      <td>COMFORT</td>\n",
       "      <td>COMFORT BLUE - MORNING FRESH</td>\n",
       "    </tr>\n",
       "    <tr>\n",
       "      <th>16768</th>\n",
       "      <td>M3</td>\n",
       "      <td>N1</td>\n",
       "      <td>16</td>\n",
       "      <td>T8083</td>\n",
       "      <td>38.0</td>\n",
       "      <td>1.0</td>\n",
       "      <td>38.0</td>\n",
       "      <td>38.0</td>\n",
       "      <td>SPICES (03/04)</td>\n",
       "      <td>BLENDED</td>\n",
       "      <td>MEAT/MUTTON-NON VEG MASALA</td>\n",
       "      <td>S NARENDRA KUMAR</td>\n",
       "      <td>EVEREST</td>\n",
       "      <td>EVEREST</td>\n",
       "    </tr>\n",
       "  </tbody>\n",
       "</table>\n",
       "</div>"
      ],
      "text/plain": [
       "      Month Store_code  Day Bill_id  Bill_amt  Qty  Value  Price  \\\n",
       "16767    M3         N1   16   T8083       3.0  1.0    3.0    3.0   \n",
       "16768    M3         N1   16   T8083      38.0  1.0   38.0   38.0   \n",
       "\n",
       "                        Group             Sgrp                       Ssgrp  \\\n",
       "16767  PRE-POST WASH PRODUCTS  FABRIC SOFTNERS             FABRIC SOFTNERS   \n",
       "16768          SPICES (03/04)          BLENDED  MEAT/MUTTON-NON VEG MASALA   \n",
       "\n",
       "                              Cmp     Mbrd                           Brd  \n",
       "16767  HINDUSTAN UNILEVER LIMITED  COMFORT  COMFORT BLUE - MORNING FRESH  \n",
       "16768            S NARENDRA KUMAR  EVEREST                       EVEREST  "
      ]
     },
     "execution_count": 80,
     "metadata": {},
     "output_type": "execute_result"
    }
   ],
   "source": [
    "hack[(hack['Bill_id'] == 'T8083') & (hack['Month'] == 'M3') & (hack['Store_code'] == 'N1')]"
   ]
  },
  {
   "cell_type": "markdown",
   "metadata": {},
   "source": [
    "#  Qty * price = Value"
   ]
  },
  {
   "cell_type": "code",
   "execution_count": 81,
   "metadata": {},
   "outputs": [
    {
     "data": {
      "text/plain": [
       "45"
      ]
     },
     "execution_count": 81,
     "metadata": {},
     "output_type": "execute_result"
    }
   ],
   "source": [
    "hack['Qty'].nunique()"
   ]
  },
  {
   "cell_type": "code",
   "execution_count": 82,
   "metadata": {},
   "outputs": [
    {
     "data": {
      "text/plain": [
       "7678     12000.0\n",
       "16584     3000.0\n",
       "17128     3000.0\n",
       "17611     3000.0\n",
       "7791      2000.0\n",
       "7866      2000.0\n",
       "17170     2000.0\n",
       "17208     2000.0\n",
       "17560     2000.0\n",
       "17984     2000.0\n",
       "25397     2000.0\n",
       "2482      1000.0\n",
       "7824      1000.0\n",
       "7875      1000.0\n",
       "8027      1000.0\n",
       "Name: Qty, dtype: float64"
      ]
     },
     "execution_count": 82,
     "metadata": {},
     "output_type": "execute_result"
    }
   ],
   "source": [
    "hack['Qty'].nlargest(15)"
   ]
  },
  {
   "cell_type": "code",
   "execution_count": 83,
   "metadata": {},
   "outputs": [
    {
     "data": {
      "text/plain": [
       "Month          0\n",
       "Store_code     0\n",
       "Day            0\n",
       "Bill_id       10\n",
       "Bill_amt       6\n",
       "Qty            0\n",
       "Value          6\n",
       "Price          8\n",
       "Group          4\n",
       "Sgrp           5\n",
       "Ssgrp          5\n",
       "Cmp            0\n",
       "Mbrd           0\n",
       "Brd            0\n",
       "dtype: int64"
      ]
     },
     "execution_count": 83,
     "metadata": {},
     "output_type": "execute_result"
    }
   ],
   "source": [
    "hack.isnull().sum()"
   ]
  },
  {
   "cell_type": "code",
   "execution_count": 84,
   "metadata": {},
   "outputs": [
    {
     "data": {
      "text/plain": [
       "52.90234492516206"
      ]
     },
     "execution_count": 84,
     "metadata": {},
     "output_type": "execute_result"
    }
   ],
   "source": [
    "# We have null values in price lets take care of it\n",
    "\n",
    "hack['Price'].mean()"
   ]
  },
  {
   "cell_type": "code",
   "execution_count": 85,
   "metadata": {},
   "outputs": [
    {
     "data": {
      "text/plain": [
       "Month  Store_code\n",
       "M1     N1             24.732348\n",
       "       N10            51.709040\n",
       "       N2            102.923164\n",
       "       N3             56.880799\n",
       "       N4             49.296204\n",
       "       N5             47.500000\n",
       "       N6             80.000000\n",
       "       N7             40.891468\n",
       "       N8             73.100042\n",
       "       N9            109.512442\n",
       "M2     N1             35.113106\n",
       "       N10            55.381818\n",
       "       N2            116.932638\n",
       "       N3             57.527380\n",
       "       N4             46.063887\n",
       "       N5             47.308600\n",
       "       N6             76.291339\n",
       "       N7             41.460604\n",
       "       N8             66.601698\n",
       "       N9            123.950486\n",
       "M3     N1             25.180224\n",
       "       N10            51.067909\n",
       "       N2            116.049469\n",
       "       N3             57.747801\n",
       "       N4             49.737202\n",
       "       N5             46.238071\n",
       "       N6             77.096131\n",
       "       N7             39.530538\n",
       "       N8             70.575918\n",
       "       N9            108.168539\n",
       "Name: Price, dtype: float64"
      ]
     },
     "execution_count": 85,
     "metadata": {},
     "output_type": "execute_result"
    }
   ],
   "source": [
    "hack.groupby(['Month', 'Store_code'])['Price'].mean()"
   ]
  },
  {
   "cell_type": "code",
   "execution_count": 86,
   "metadata": {},
   "outputs": [],
   "source": [
    "# Let's fill the price column with specific store code month mean\n",
    "\n",
    "hack['Price'].fillna(hack.groupby(['Month','Store_code'])['Price'].transform('mean'), inplace=True)"
   ]
  },
  {
   "cell_type": "code",
   "execution_count": 87,
   "metadata": {},
   "outputs": [
    {
     "data": {
      "text/plain": [
       "52.89402331148798"
      ]
     },
     "execution_count": 87,
     "metadata": {},
     "output_type": "execute_result"
    }
   ],
   "source": [
    "hack['Price'].mean()"
   ]
  },
  {
   "cell_type": "code",
   "execution_count": 88,
   "metadata": {},
   "outputs": [],
   "source": [
    "# As we have now "
   ]
  },
  {
   "cell_type": "code",
   "execution_count": 89,
   "metadata": {},
   "outputs": [
    {
     "data": {
      "text/plain": [
       "Month          0\n",
       "Store_code     0\n",
       "Day            0\n",
       "Bill_id       10\n",
       "Bill_amt       6\n",
       "Qty            0\n",
       "Value          6\n",
       "Price          0\n",
       "Group          4\n",
       "Sgrp           5\n",
       "Ssgrp          5\n",
       "Cmp            0\n",
       "Mbrd           0\n",
       "Brd            0\n",
       "dtype: int64"
      ]
     },
     "execution_count": 89,
     "metadata": {},
     "output_type": "execute_result"
    }
   ],
   "source": [
    "hack.isnull().sum()"
   ]
  },
  {
   "cell_type": "code",
   "execution_count": 90,
   "metadata": {},
   "outputs": [],
   "source": [
    "# Now create a new column as new_billamt\n",
    "\n",
    "hack['New_bill'] = hack['Price'] * hack['Qty']"
   ]
  },
  {
   "cell_type": "code",
   "execution_count": 91,
   "metadata": {},
   "outputs": [
    {
     "data": {
      "text/html": [
       "<div>\n",
       "<style scoped>\n",
       "    .dataframe tbody tr th:only-of-type {\n",
       "        vertical-align: middle;\n",
       "    }\n",
       "\n",
       "    .dataframe tbody tr th {\n",
       "        vertical-align: top;\n",
       "    }\n",
       "\n",
       "    .dataframe thead th {\n",
       "        text-align: right;\n",
       "    }\n",
       "</style>\n",
       "<table border=\"1\" class=\"dataframe\">\n",
       "  <thead>\n",
       "    <tr style=\"text-align: right;\">\n",
       "      <th></th>\n",
       "      <th>Month</th>\n",
       "      <th>Store_code</th>\n",
       "      <th>Day</th>\n",
       "      <th>Bill_id</th>\n",
       "      <th>Bill_amt</th>\n",
       "      <th>Qty</th>\n",
       "      <th>Value</th>\n",
       "      <th>Price</th>\n",
       "      <th>Group</th>\n",
       "      <th>Sgrp</th>\n",
       "      <th>Ssgrp</th>\n",
       "      <th>Cmp</th>\n",
       "      <th>Mbrd</th>\n",
       "      <th>Brd</th>\n",
       "      <th>New_bill</th>\n",
       "    </tr>\n",
       "  </thead>\n",
       "  <tbody>\n",
       "    <tr>\n",
       "      <th>0</th>\n",
       "      <td>M1</td>\n",
       "      <td>N1</td>\n",
       "      <td>4</td>\n",
       "      <td>T375</td>\n",
       "      <td>225.0</td>\n",
       "      <td>1.0</td>\n",
       "      <td>225.0</td>\n",
       "      <td>225.0</td>\n",
       "      <td>BUTTER MARGR  (4/94)</td>\n",
       "      <td>BUTTER</td>\n",
       "      <td>SALTED</td>\n",
       "      <td>G C M M F</td>\n",
       "      <td>AMUL</td>\n",
       "      <td>AMUL</td>\n",
       "      <td>225.0</td>\n",
       "    </tr>\n",
       "    <tr>\n",
       "      <th>1</th>\n",
       "      <td>M1</td>\n",
       "      <td>N1</td>\n",
       "      <td>4</td>\n",
       "      <td>T379</td>\n",
       "      <td>95.0</td>\n",
       "      <td>1.0</td>\n",
       "      <td>95.0</td>\n",
       "      <td>95.0</td>\n",
       "      <td>CONFECTIONERY - ECLAIRS</td>\n",
       "      <td>CONFECTIONERY - ECLAIRS</td>\n",
       "      <td>CONFECTIONERY - ECLAIRS</td>\n",
       "      <td>PARLE PRODS</td>\n",
       "      <td>MELODY</td>\n",
       "      <td>MELODY CHOCOLATY</td>\n",
       "      <td>95.0</td>\n",
       "    </tr>\n",
       "    <tr>\n",
       "      <th>2</th>\n",
       "      <td>M1</td>\n",
       "      <td>N1</td>\n",
       "      <td>4</td>\n",
       "      <td>T381</td>\n",
       "      <td>10.0</td>\n",
       "      <td>1.0</td>\n",
       "      <td>10.0</td>\n",
       "      <td>10.0</td>\n",
       "      <td>CHOCOLATE</td>\n",
       "      <td>CHOCOLATE PANNED</td>\n",
       "      <td>CHOCOLATE PANNED</td>\n",
       "      <td>MONDELEZ INTERNATIONAL</td>\n",
       "      <td>CADBURY SHOTS</td>\n",
       "      <td>CADBURY SHOTS</td>\n",
       "      <td>10.0</td>\n",
       "    </tr>\n",
       "    <tr>\n",
       "      <th>3</th>\n",
       "      <td>M1</td>\n",
       "      <td>N1</td>\n",
       "      <td>4</td>\n",
       "      <td>T382</td>\n",
       "      <td>108.0</td>\n",
       "      <td>1.0</td>\n",
       "      <td>108.0</td>\n",
       "      <td>108.0</td>\n",
       "      <td>PACKAGED TEA</td>\n",
       "      <td>MAIN PACKS</td>\n",
       "      <td>MAIN PACKS</td>\n",
       "      <td>GUJ TEA PROCESSORS</td>\n",
       "      <td>WAGH BAKRI</td>\n",
       "      <td>WAGH BAKRI INSTANT</td>\n",
       "      <td>108.0</td>\n",
       "    </tr>\n",
       "    <tr>\n",
       "      <th>4</th>\n",
       "      <td>M1</td>\n",
       "      <td>N1</td>\n",
       "      <td>4</td>\n",
       "      <td>T384</td>\n",
       "      <td>19.0</td>\n",
       "      <td>1.0</td>\n",
       "      <td>19.0</td>\n",
       "      <td>19.0</td>\n",
       "      <td>ALL IODISED SALT</td>\n",
       "      <td>POWDERED SALT</td>\n",
       "      <td>POWDERED SALT</td>\n",
       "      <td>TATA CHEM</td>\n",
       "      <td>TATA</td>\n",
       "      <td>TATA SALT</td>\n",
       "      <td>19.0</td>\n",
       "    </tr>\n",
       "    <tr>\n",
       "      <th>5</th>\n",
       "      <td>M1</td>\n",
       "      <td>N1</td>\n",
       "      <td>4</td>\n",
       "      <td>T385</td>\n",
       "      <td>10.0</td>\n",
       "      <td>1.0</td>\n",
       "      <td>10.0</td>\n",
       "      <td>10.0</td>\n",
       "      <td>CHOCOLATE</td>\n",
       "      <td>MOULDED</td>\n",
       "      <td>MOULDED</td>\n",
       "      <td>MONDELEZ INTERNATIONAL</td>\n",
       "      <td>CADBURY DAIRY MILK</td>\n",
       "      <td>DAIRY MILK</td>\n",
       "      <td>10.0</td>\n",
       "    </tr>\n",
       "    <tr>\n",
       "      <th>6</th>\n",
       "      <td>M1</td>\n",
       "      <td>N1</td>\n",
       "      <td>4</td>\n",
       "      <td>T385</td>\n",
       "      <td>99.0</td>\n",
       "      <td>1.0</td>\n",
       "      <td>99.0</td>\n",
       "      <td>99.0</td>\n",
       "      <td>READY TO EAT</td>\n",
       "      <td>DESSERT MIXES</td>\n",
       "      <td>TRADITIONAL</td>\n",
       "      <td>M T R FOOD PRODS</td>\n",
       "      <td>MTR</td>\n",
       "      <td>MTR</td>\n",
       "      <td>99.0</td>\n",
       "    </tr>\n",
       "    <tr>\n",
       "      <th>7</th>\n",
       "      <td>M1</td>\n",
       "      <td>N1</td>\n",
       "      <td>4</td>\n",
       "      <td>T386</td>\n",
       "      <td>5.0</td>\n",
       "      <td>1.0</td>\n",
       "      <td>5.0</td>\n",
       "      <td>5.0</td>\n",
       "      <td>CHOCOLATE</td>\n",
       "      <td>COATED WAFER BISC</td>\n",
       "      <td>COATED WAFER BISC</td>\n",
       "      <td>GANDOUR INDIA FOOD PROCESSING</td>\n",
       "      <td>GANDOUR</td>\n",
       "      <td>GANDOUR</td>\n",
       "      <td>5.0</td>\n",
       "    </tr>\n",
       "    <tr>\n",
       "      <th>8</th>\n",
       "      <td>M1</td>\n",
       "      <td>N1</td>\n",
       "      <td>4</td>\n",
       "      <td>T386</td>\n",
       "      <td>10.0</td>\n",
       "      <td>1.0</td>\n",
       "      <td>10.0</td>\n",
       "      <td>10.0</td>\n",
       "      <td>SALTY SNACKS (2/97)</td>\n",
       "      <td>POTATO WAFERS</td>\n",
       "      <td>POTATO WAFERS</td>\n",
       "      <td>PEPSICO INDIA</td>\n",
       "      <td>LAYS</td>\n",
       "      <td>LAYS AMERICAN STYLE</td>\n",
       "      <td>10.0</td>\n",
       "    </tr>\n",
       "    <tr>\n",
       "      <th>9</th>\n",
       "      <td>M1</td>\n",
       "      <td>N1</td>\n",
       "      <td>4</td>\n",
       "      <td>T386</td>\n",
       "      <td>10.0</td>\n",
       "      <td>1.0</td>\n",
       "      <td>10.0</td>\n",
       "      <td>10.0</td>\n",
       "      <td>SALTY SNACKS (2/97)</td>\n",
       "      <td>POTATO WAFERS</td>\n",
       "      <td>POTATO WAFERS</td>\n",
       "      <td>PEPSICO INDIA</td>\n",
       "      <td>LAYS</td>\n",
       "      <td>LAYS CARIBBEAN STYLE</td>\n",
       "      <td>10.0</td>\n",
       "    </tr>\n",
       "    <tr>\n",
       "      <th>10</th>\n",
       "      <td>M1</td>\n",
       "      <td>N1</td>\n",
       "      <td>4</td>\n",
       "      <td>T389</td>\n",
       "      <td>10.0</td>\n",
       "      <td>1.0</td>\n",
       "      <td>10.0</td>\n",
       "      <td>10.0</td>\n",
       "      <td>CHOCOLATE</td>\n",
       "      <td>MOULDED</td>\n",
       "      <td>MOULDED</td>\n",
       "      <td>MONDELEZ INTERNATIONAL</td>\n",
       "      <td>CADBURY DAIRY MILK</td>\n",
       "      <td>DAIRY MILK</td>\n",
       "      <td>10.0</td>\n",
       "    </tr>\n",
       "  </tbody>\n",
       "</table>\n",
       "</div>"
      ],
      "text/plain": [
       "   Month Store_code  Day Bill_id  Bill_amt  Qty  Value  Price  \\\n",
       "0     M1         N1    4    T375     225.0  1.0  225.0  225.0   \n",
       "1     M1         N1    4    T379      95.0  1.0   95.0   95.0   \n",
       "2     M1         N1    4    T381      10.0  1.0   10.0   10.0   \n",
       "3     M1         N1    4    T382     108.0  1.0  108.0  108.0   \n",
       "4     M1         N1    4    T384      19.0  1.0   19.0   19.0   \n",
       "5     M1         N1    4    T385      10.0  1.0   10.0   10.0   \n",
       "6     M1         N1    4    T385      99.0  1.0   99.0   99.0   \n",
       "7     M1         N1    4    T386       5.0  1.0    5.0    5.0   \n",
       "8     M1         N1    4    T386      10.0  1.0   10.0   10.0   \n",
       "9     M1         N1    4    T386      10.0  1.0   10.0   10.0   \n",
       "10    M1         N1    4    T389      10.0  1.0   10.0   10.0   \n",
       "\n",
       "                      Group                     Sgrp                    Ssgrp  \\\n",
       "0      BUTTER MARGR  (4/94)                   BUTTER                   SALTED   \n",
       "1   CONFECTIONERY - ECLAIRS  CONFECTIONERY - ECLAIRS  CONFECTIONERY - ECLAIRS   \n",
       "2                 CHOCOLATE         CHOCOLATE PANNED         CHOCOLATE PANNED   \n",
       "3              PACKAGED TEA               MAIN PACKS               MAIN PACKS   \n",
       "4          ALL IODISED SALT            POWDERED SALT            POWDERED SALT   \n",
       "5                 CHOCOLATE                  MOULDED                  MOULDED   \n",
       "6              READY TO EAT            DESSERT MIXES              TRADITIONAL   \n",
       "7                 CHOCOLATE        COATED WAFER BISC        COATED WAFER BISC   \n",
       "8       SALTY SNACKS (2/97)            POTATO WAFERS            POTATO WAFERS   \n",
       "9       SALTY SNACKS (2/97)            POTATO WAFERS            POTATO WAFERS   \n",
       "10                CHOCOLATE                  MOULDED                  MOULDED   \n",
       "\n",
       "                              Cmp                Mbrd                   Brd  \\\n",
       "0                       G C M M F                AMUL                  AMUL   \n",
       "1                     PARLE PRODS              MELODY      MELODY CHOCOLATY   \n",
       "2          MONDELEZ INTERNATIONAL       CADBURY SHOTS         CADBURY SHOTS   \n",
       "3              GUJ TEA PROCESSORS          WAGH BAKRI    WAGH BAKRI INSTANT   \n",
       "4                       TATA CHEM                TATA             TATA SALT   \n",
       "5          MONDELEZ INTERNATIONAL  CADBURY DAIRY MILK            DAIRY MILK   \n",
       "6                M T R FOOD PRODS                 MTR                   MTR   \n",
       "7   GANDOUR INDIA FOOD PROCESSING             GANDOUR               GANDOUR   \n",
       "8                   PEPSICO INDIA                LAYS   LAYS AMERICAN STYLE   \n",
       "9                   PEPSICO INDIA                LAYS  LAYS CARIBBEAN STYLE   \n",
       "10         MONDELEZ INTERNATIONAL  CADBURY DAIRY MILK            DAIRY MILK   \n",
       "\n",
       "    New_bill  \n",
       "0      225.0  \n",
       "1       95.0  \n",
       "2       10.0  \n",
       "3      108.0  \n",
       "4       19.0  \n",
       "5       10.0  \n",
       "6       99.0  \n",
       "7        5.0  \n",
       "8       10.0  \n",
       "9       10.0  \n",
       "10      10.0  "
      ]
     },
     "execution_count": 91,
     "metadata": {},
     "output_type": "execute_result"
    }
   ],
   "source": [
    "hack.head(11)"
   ]
  },
  {
   "cell_type": "code",
   "execution_count": 92,
   "metadata": {},
   "outputs": [],
   "source": [
    "# Now lets add the new_bill to value\n",
    "\n",
    "hack['Value'] = hack['Price'] * hack['Qty']"
   ]
  },
  {
   "cell_type": "code",
   "execution_count": 93,
   "metadata": {},
   "outputs": [
    {
     "data": {
      "text/html": [
       "<div>\n",
       "<style scoped>\n",
       "    .dataframe tbody tr th:only-of-type {\n",
       "        vertical-align: middle;\n",
       "    }\n",
       "\n",
       "    .dataframe tbody tr th {\n",
       "        vertical-align: top;\n",
       "    }\n",
       "\n",
       "    .dataframe thead th {\n",
       "        text-align: right;\n",
       "    }\n",
       "</style>\n",
       "<table border=\"1\" class=\"dataframe\">\n",
       "  <thead>\n",
       "    <tr style=\"text-align: right;\">\n",
       "      <th></th>\n",
       "      <th>Month</th>\n",
       "      <th>Store_code</th>\n",
       "      <th>Day</th>\n",
       "      <th>Bill_id</th>\n",
       "      <th>Bill_amt</th>\n",
       "      <th>Qty</th>\n",
       "      <th>Value</th>\n",
       "      <th>Price</th>\n",
       "      <th>Group</th>\n",
       "      <th>Sgrp</th>\n",
       "      <th>Ssgrp</th>\n",
       "      <th>Cmp</th>\n",
       "      <th>Mbrd</th>\n",
       "      <th>Brd</th>\n",
       "      <th>New_bill</th>\n",
       "    </tr>\n",
       "  </thead>\n",
       "  <tbody>\n",
       "    <tr>\n",
       "      <th>0</th>\n",
       "      <td>M1</td>\n",
       "      <td>N1</td>\n",
       "      <td>4</td>\n",
       "      <td>T375</td>\n",
       "      <td>225.0</td>\n",
       "      <td>1.0</td>\n",
       "      <td>225.0</td>\n",
       "      <td>225.0</td>\n",
       "      <td>BUTTER MARGR  (4/94)</td>\n",
       "      <td>BUTTER</td>\n",
       "      <td>SALTED</td>\n",
       "      <td>G C M M F</td>\n",
       "      <td>AMUL</td>\n",
       "      <td>AMUL</td>\n",
       "      <td>225.0</td>\n",
       "    </tr>\n",
       "    <tr>\n",
       "      <th>1</th>\n",
       "      <td>M1</td>\n",
       "      <td>N1</td>\n",
       "      <td>4</td>\n",
       "      <td>T379</td>\n",
       "      <td>95.0</td>\n",
       "      <td>1.0</td>\n",
       "      <td>95.0</td>\n",
       "      <td>95.0</td>\n",
       "      <td>CONFECTIONERY - ECLAIRS</td>\n",
       "      <td>CONFECTIONERY - ECLAIRS</td>\n",
       "      <td>CONFECTIONERY - ECLAIRS</td>\n",
       "      <td>PARLE PRODS</td>\n",
       "      <td>MELODY</td>\n",
       "      <td>MELODY CHOCOLATY</td>\n",
       "      <td>95.0</td>\n",
       "    </tr>\n",
       "    <tr>\n",
       "      <th>2</th>\n",
       "      <td>M1</td>\n",
       "      <td>N1</td>\n",
       "      <td>4</td>\n",
       "      <td>T381</td>\n",
       "      <td>10.0</td>\n",
       "      <td>1.0</td>\n",
       "      <td>10.0</td>\n",
       "      <td>10.0</td>\n",
       "      <td>CHOCOLATE</td>\n",
       "      <td>CHOCOLATE PANNED</td>\n",
       "      <td>CHOCOLATE PANNED</td>\n",
       "      <td>MONDELEZ INTERNATIONAL</td>\n",
       "      <td>CADBURY SHOTS</td>\n",
       "      <td>CADBURY SHOTS</td>\n",
       "      <td>10.0</td>\n",
       "    </tr>\n",
       "    <tr>\n",
       "      <th>3</th>\n",
       "      <td>M1</td>\n",
       "      <td>N1</td>\n",
       "      <td>4</td>\n",
       "      <td>T382</td>\n",
       "      <td>108.0</td>\n",
       "      <td>1.0</td>\n",
       "      <td>108.0</td>\n",
       "      <td>108.0</td>\n",
       "      <td>PACKAGED TEA</td>\n",
       "      <td>MAIN PACKS</td>\n",
       "      <td>MAIN PACKS</td>\n",
       "      <td>GUJ TEA PROCESSORS</td>\n",
       "      <td>WAGH BAKRI</td>\n",
       "      <td>WAGH BAKRI INSTANT</td>\n",
       "      <td>108.0</td>\n",
       "    </tr>\n",
       "    <tr>\n",
       "      <th>4</th>\n",
       "      <td>M1</td>\n",
       "      <td>N1</td>\n",
       "      <td>4</td>\n",
       "      <td>T384</td>\n",
       "      <td>19.0</td>\n",
       "      <td>1.0</td>\n",
       "      <td>19.0</td>\n",
       "      <td>19.0</td>\n",
       "      <td>ALL IODISED SALT</td>\n",
       "      <td>POWDERED SALT</td>\n",
       "      <td>POWDERED SALT</td>\n",
       "      <td>TATA CHEM</td>\n",
       "      <td>TATA</td>\n",
       "      <td>TATA SALT</td>\n",
       "      <td>19.0</td>\n",
       "    </tr>\n",
       "    <tr>\n",
       "      <th>5</th>\n",
       "      <td>M1</td>\n",
       "      <td>N1</td>\n",
       "      <td>4</td>\n",
       "      <td>T385</td>\n",
       "      <td>10.0</td>\n",
       "      <td>1.0</td>\n",
       "      <td>10.0</td>\n",
       "      <td>10.0</td>\n",
       "      <td>CHOCOLATE</td>\n",
       "      <td>MOULDED</td>\n",
       "      <td>MOULDED</td>\n",
       "      <td>MONDELEZ INTERNATIONAL</td>\n",
       "      <td>CADBURY DAIRY MILK</td>\n",
       "      <td>DAIRY MILK</td>\n",
       "      <td>10.0</td>\n",
       "    </tr>\n",
       "    <tr>\n",
       "      <th>6</th>\n",
       "      <td>M1</td>\n",
       "      <td>N1</td>\n",
       "      <td>4</td>\n",
       "      <td>T385</td>\n",
       "      <td>99.0</td>\n",
       "      <td>1.0</td>\n",
       "      <td>99.0</td>\n",
       "      <td>99.0</td>\n",
       "      <td>READY TO EAT</td>\n",
       "      <td>DESSERT MIXES</td>\n",
       "      <td>TRADITIONAL</td>\n",
       "      <td>M T R FOOD PRODS</td>\n",
       "      <td>MTR</td>\n",
       "      <td>MTR</td>\n",
       "      <td>99.0</td>\n",
       "    </tr>\n",
       "    <tr>\n",
       "      <th>7</th>\n",
       "      <td>M1</td>\n",
       "      <td>N1</td>\n",
       "      <td>4</td>\n",
       "      <td>T386</td>\n",
       "      <td>5.0</td>\n",
       "      <td>1.0</td>\n",
       "      <td>5.0</td>\n",
       "      <td>5.0</td>\n",
       "      <td>CHOCOLATE</td>\n",
       "      <td>COATED WAFER BISC</td>\n",
       "      <td>COATED WAFER BISC</td>\n",
       "      <td>GANDOUR INDIA FOOD PROCESSING</td>\n",
       "      <td>GANDOUR</td>\n",
       "      <td>GANDOUR</td>\n",
       "      <td>5.0</td>\n",
       "    </tr>\n",
       "    <tr>\n",
       "      <th>8</th>\n",
       "      <td>M1</td>\n",
       "      <td>N1</td>\n",
       "      <td>4</td>\n",
       "      <td>T386</td>\n",
       "      <td>10.0</td>\n",
       "      <td>1.0</td>\n",
       "      <td>10.0</td>\n",
       "      <td>10.0</td>\n",
       "      <td>SALTY SNACKS (2/97)</td>\n",
       "      <td>POTATO WAFERS</td>\n",
       "      <td>POTATO WAFERS</td>\n",
       "      <td>PEPSICO INDIA</td>\n",
       "      <td>LAYS</td>\n",
       "      <td>LAYS AMERICAN STYLE</td>\n",
       "      <td>10.0</td>\n",
       "    </tr>\n",
       "    <tr>\n",
       "      <th>9</th>\n",
       "      <td>M1</td>\n",
       "      <td>N1</td>\n",
       "      <td>4</td>\n",
       "      <td>T386</td>\n",
       "      <td>10.0</td>\n",
       "      <td>1.0</td>\n",
       "      <td>10.0</td>\n",
       "      <td>10.0</td>\n",
       "      <td>SALTY SNACKS (2/97)</td>\n",
       "      <td>POTATO WAFERS</td>\n",
       "      <td>POTATO WAFERS</td>\n",
       "      <td>PEPSICO INDIA</td>\n",
       "      <td>LAYS</td>\n",
       "      <td>LAYS CARIBBEAN STYLE</td>\n",
       "      <td>10.0</td>\n",
       "    </tr>\n",
       "    <tr>\n",
       "      <th>10</th>\n",
       "      <td>M1</td>\n",
       "      <td>N1</td>\n",
       "      <td>4</td>\n",
       "      <td>T389</td>\n",
       "      <td>10.0</td>\n",
       "      <td>1.0</td>\n",
       "      <td>10.0</td>\n",
       "      <td>10.0</td>\n",
       "      <td>CHOCOLATE</td>\n",
       "      <td>MOULDED</td>\n",
       "      <td>MOULDED</td>\n",
       "      <td>MONDELEZ INTERNATIONAL</td>\n",
       "      <td>CADBURY DAIRY MILK</td>\n",
       "      <td>DAIRY MILK</td>\n",
       "      <td>10.0</td>\n",
       "    </tr>\n",
       "    <tr>\n",
       "      <th>11</th>\n",
       "      <td>M1</td>\n",
       "      <td>N1</td>\n",
       "      <td>4</td>\n",
       "      <td>T390</td>\n",
       "      <td>10.0</td>\n",
       "      <td>1.0</td>\n",
       "      <td>10.0</td>\n",
       "      <td>10.0</td>\n",
       "      <td>CHOCOLATE</td>\n",
       "      <td>CHOCOLATE PANNED</td>\n",
       "      <td>CHOCOLATE PANNED</td>\n",
       "      <td>MONDELEZ INTERNATIONAL</td>\n",
       "      <td>CADBURY SHOTS</td>\n",
       "      <td>CADBURY SHOTS</td>\n",
       "      <td>10.0</td>\n",
       "    </tr>\n",
       "    <tr>\n",
       "      <th>12</th>\n",
       "      <td>M1</td>\n",
       "      <td>N1</td>\n",
       "      <td>4</td>\n",
       "      <td>T390</td>\n",
       "      <td>10.0</td>\n",
       "      <td>1.0</td>\n",
       "      <td>10.0</td>\n",
       "      <td>10.0</td>\n",
       "      <td>BISCUITS - CORE &amp; NON CORE</td>\n",
       "      <td>CREAM</td>\n",
       "      <td>CREAM</td>\n",
       "      <td>MONDELEZ INTERNATIONAL</td>\n",
       "      <td>OREO</td>\n",
       "      <td>GOLDEN OREO</td>\n",
       "      <td>10.0</td>\n",
       "    </tr>\n",
       "    <tr>\n",
       "      <th>13</th>\n",
       "      <td>M1</td>\n",
       "      <td>N1</td>\n",
       "      <td>4</td>\n",
       "      <td>T391</td>\n",
       "      <td>10.0</td>\n",
       "      <td>1.0</td>\n",
       "      <td>10.0</td>\n",
       "      <td>10.0</td>\n",
       "      <td>SPICES (03/04)</td>\n",
       "      <td>BLENDED</td>\n",
       "      <td>MANCHURIAN MASALA</td>\n",
       "      <td>CAPITAL FOODS</td>\n",
       "      <td>CHING'S SECRET</td>\n",
       "      <td>CHING'S SECRET</td>\n",
       "      <td>10.0</td>\n",
       "    </tr>\n",
       "    <tr>\n",
       "      <th>14</th>\n",
       "      <td>M1</td>\n",
       "      <td>N1</td>\n",
       "      <td>4</td>\n",
       "      <td>T392</td>\n",
       "      <td>10.0</td>\n",
       "      <td>1.0</td>\n",
       "      <td>10.0</td>\n",
       "      <td>10.0</td>\n",
       "      <td>PACKAGED TEA</td>\n",
       "      <td>MAIN PACKS</td>\n",
       "      <td>MAIN PACKS</td>\n",
       "      <td>GUJ TEA PROCESSORS</td>\n",
       "      <td>WAGH BAKRI</td>\n",
       "      <td>WAGH BAKRI PATTI LEAF</td>\n",
       "      <td>10.0</td>\n",
       "    </tr>\n",
       "    <tr>\n",
       "      <th>15</th>\n",
       "      <td>M1</td>\n",
       "      <td>N1</td>\n",
       "      <td>4</td>\n",
       "      <td>T396</td>\n",
       "      <td>10.0</td>\n",
       "      <td>1.0</td>\n",
       "      <td>10.0</td>\n",
       "      <td>10.0</td>\n",
       "      <td>PACKAGED TEA</td>\n",
       "      <td>MAIN PACKS</td>\n",
       "      <td>MAIN PACKS</td>\n",
       "      <td>HASMUKHRAI &amp; CO</td>\n",
       "      <td>SOCIETY</td>\n",
       "      <td>SOCIETY LEAF</td>\n",
       "      <td>10.0</td>\n",
       "    </tr>\n",
       "    <tr>\n",
       "      <th>16</th>\n",
       "      <td>M1</td>\n",
       "      <td>N1</td>\n",
       "      <td>4</td>\n",
       "      <td>T399</td>\n",
       "      <td>10.0</td>\n",
       "      <td>1.0</td>\n",
       "      <td>10.0</td>\n",
       "      <td>10.0</td>\n",
       "      <td>SALTY SNACKS (2/97)</td>\n",
       "      <td>POTATO WAFERS</td>\n",
       "      <td>POTATO WAFERS</td>\n",
       "      <td>PEPSICO INDIA</td>\n",
       "      <td>LAYS</td>\n",
       "      <td>LAYS CLASSIC SALTED</td>\n",
       "      <td>10.0</td>\n",
       "    </tr>\n",
       "    <tr>\n",
       "      <th>17</th>\n",
       "      <td>M1</td>\n",
       "      <td>N1</td>\n",
       "      <td>4</td>\n",
       "      <td>T399</td>\n",
       "      <td>19.0</td>\n",
       "      <td>1.0</td>\n",
       "      <td>19.0</td>\n",
       "      <td>19.0</td>\n",
       "      <td>ALL IODISED SALT</td>\n",
       "      <td>POWDERED SALT</td>\n",
       "      <td>POWDERED SALT</td>\n",
       "      <td>TATA CHEM</td>\n",
       "      <td>TATA</td>\n",
       "      <td>TATA SALT</td>\n",
       "      <td>19.0</td>\n",
       "    </tr>\n",
       "    <tr>\n",
       "      <th>18</th>\n",
       "      <td>M1</td>\n",
       "      <td>N1</td>\n",
       "      <td>4</td>\n",
       "      <td>T400</td>\n",
       "      <td>30.0</td>\n",
       "      <td>10.0</td>\n",
       "      <td>30.0</td>\n",
       "      <td>3.0</td>\n",
       "      <td>PRE-POST WASH PRODUCTS</td>\n",
       "      <td>FABRIC SOFTNERS</td>\n",
       "      <td>FABRIC SOFTNERS</td>\n",
       "      <td>HINDUSTAN UNILEVER LIMITED</td>\n",
       "      <td>COMFORT</td>\n",
       "      <td>COMFORT BLUE - MORNING FRESH</td>\n",
       "      <td>30.0</td>\n",
       "    </tr>\n",
       "    <tr>\n",
       "      <th>19</th>\n",
       "      <td>M1</td>\n",
       "      <td>N1</td>\n",
       "      <td>4</td>\n",
       "      <td>T400</td>\n",
       "      <td>10.0</td>\n",
       "      <td>1.0</td>\n",
       "      <td>10.0</td>\n",
       "      <td>10.0</td>\n",
       "      <td>MILK POWDERS</td>\n",
       "      <td>DAIRY WHITNERS</td>\n",
       "      <td>DAIRY WHITNERS</td>\n",
       "      <td>NESTLE INDIA</td>\n",
       "      <td>EVERYDAY</td>\n",
       "      <td>EVERYDAY DAIRY WHITNER</td>\n",
       "      <td>10.0</td>\n",
       "    </tr>\n",
       "  </tbody>\n",
       "</table>\n",
       "</div>"
      ],
      "text/plain": [
       "   Month Store_code  Day Bill_id  Bill_amt   Qty  Value  Price  \\\n",
       "0     M1         N1    4    T375     225.0   1.0  225.0  225.0   \n",
       "1     M1         N1    4    T379      95.0   1.0   95.0   95.0   \n",
       "2     M1         N1    4    T381      10.0   1.0   10.0   10.0   \n",
       "3     M1         N1    4    T382     108.0   1.0  108.0  108.0   \n",
       "4     M1         N1    4    T384      19.0   1.0   19.0   19.0   \n",
       "5     M1         N1    4    T385      10.0   1.0   10.0   10.0   \n",
       "6     M1         N1    4    T385      99.0   1.0   99.0   99.0   \n",
       "7     M1         N1    4    T386       5.0   1.0    5.0    5.0   \n",
       "8     M1         N1    4    T386      10.0   1.0   10.0   10.0   \n",
       "9     M1         N1    4    T386      10.0   1.0   10.0   10.0   \n",
       "10    M1         N1    4    T389      10.0   1.0   10.0   10.0   \n",
       "11    M1         N1    4    T390      10.0   1.0   10.0   10.0   \n",
       "12    M1         N1    4    T390      10.0   1.0   10.0   10.0   \n",
       "13    M1         N1    4    T391      10.0   1.0   10.0   10.0   \n",
       "14    M1         N1    4    T392      10.0   1.0   10.0   10.0   \n",
       "15    M1         N1    4    T396      10.0   1.0   10.0   10.0   \n",
       "16    M1         N1    4    T399      10.0   1.0   10.0   10.0   \n",
       "17    M1         N1    4    T399      19.0   1.0   19.0   19.0   \n",
       "18    M1         N1    4    T400      30.0  10.0   30.0    3.0   \n",
       "19    M1         N1    4    T400      10.0   1.0   10.0   10.0   \n",
       "\n",
       "                         Group                     Sgrp  \\\n",
       "0         BUTTER MARGR  (4/94)                   BUTTER   \n",
       "1      CONFECTIONERY - ECLAIRS  CONFECTIONERY - ECLAIRS   \n",
       "2                    CHOCOLATE         CHOCOLATE PANNED   \n",
       "3                 PACKAGED TEA               MAIN PACKS   \n",
       "4             ALL IODISED SALT            POWDERED SALT   \n",
       "5                    CHOCOLATE                  MOULDED   \n",
       "6                 READY TO EAT            DESSERT MIXES   \n",
       "7                    CHOCOLATE        COATED WAFER BISC   \n",
       "8          SALTY SNACKS (2/97)            POTATO WAFERS   \n",
       "9          SALTY SNACKS (2/97)            POTATO WAFERS   \n",
       "10                   CHOCOLATE                  MOULDED   \n",
       "11                   CHOCOLATE         CHOCOLATE PANNED   \n",
       "12  BISCUITS - CORE & NON CORE                    CREAM   \n",
       "13              SPICES (03/04)                  BLENDED   \n",
       "14                PACKAGED TEA               MAIN PACKS   \n",
       "15                PACKAGED TEA               MAIN PACKS   \n",
       "16         SALTY SNACKS (2/97)            POTATO WAFERS   \n",
       "17            ALL IODISED SALT            POWDERED SALT   \n",
       "18      PRE-POST WASH PRODUCTS          FABRIC SOFTNERS   \n",
       "19                MILK POWDERS           DAIRY WHITNERS   \n",
       "\n",
       "                      Ssgrp                            Cmp  \\\n",
       "0                    SALTED                      G C M M F   \n",
       "1   CONFECTIONERY - ECLAIRS                    PARLE PRODS   \n",
       "2          CHOCOLATE PANNED         MONDELEZ INTERNATIONAL   \n",
       "3                MAIN PACKS             GUJ TEA PROCESSORS   \n",
       "4             POWDERED SALT                      TATA CHEM   \n",
       "5                   MOULDED         MONDELEZ INTERNATIONAL   \n",
       "6               TRADITIONAL               M T R FOOD PRODS   \n",
       "7         COATED WAFER BISC  GANDOUR INDIA FOOD PROCESSING   \n",
       "8             POTATO WAFERS                  PEPSICO INDIA   \n",
       "9             POTATO WAFERS                  PEPSICO INDIA   \n",
       "10                  MOULDED         MONDELEZ INTERNATIONAL   \n",
       "11         CHOCOLATE PANNED         MONDELEZ INTERNATIONAL   \n",
       "12                    CREAM         MONDELEZ INTERNATIONAL   \n",
       "13        MANCHURIAN MASALA                  CAPITAL FOODS   \n",
       "14               MAIN PACKS             GUJ TEA PROCESSORS   \n",
       "15               MAIN PACKS                HASMUKHRAI & CO   \n",
       "16            POTATO WAFERS                  PEPSICO INDIA   \n",
       "17            POWDERED SALT                      TATA CHEM   \n",
       "18          FABRIC SOFTNERS     HINDUSTAN UNILEVER LIMITED   \n",
       "19           DAIRY WHITNERS                   NESTLE INDIA   \n",
       "\n",
       "                  Mbrd                           Brd  New_bill  \n",
       "0                 AMUL                          AMUL     225.0  \n",
       "1               MELODY              MELODY CHOCOLATY      95.0  \n",
       "2        CADBURY SHOTS                 CADBURY SHOTS      10.0  \n",
       "3           WAGH BAKRI            WAGH BAKRI INSTANT     108.0  \n",
       "4                 TATA                     TATA SALT      19.0  \n",
       "5   CADBURY DAIRY MILK                    DAIRY MILK      10.0  \n",
       "6                  MTR                           MTR      99.0  \n",
       "7              GANDOUR                       GANDOUR       5.0  \n",
       "8                 LAYS           LAYS AMERICAN STYLE      10.0  \n",
       "9                 LAYS          LAYS CARIBBEAN STYLE      10.0  \n",
       "10  CADBURY DAIRY MILK                    DAIRY MILK      10.0  \n",
       "11       CADBURY SHOTS                 CADBURY SHOTS      10.0  \n",
       "12                OREO                   GOLDEN OREO      10.0  \n",
       "13      CHING'S SECRET                CHING'S SECRET      10.0  \n",
       "14          WAGH BAKRI         WAGH BAKRI PATTI LEAF      10.0  \n",
       "15             SOCIETY                  SOCIETY LEAF      10.0  \n",
       "16                LAYS           LAYS CLASSIC SALTED      10.0  \n",
       "17                TATA                     TATA SALT      19.0  \n",
       "18             COMFORT  COMFORT BLUE - MORNING FRESH      30.0  \n",
       "19            EVERYDAY        EVERYDAY DAIRY WHITNER      10.0  "
      ]
     },
     "execution_count": 93,
     "metadata": {},
     "output_type": "execute_result"
    }
   ],
   "source": [
    "hack.head(20)"
   ]
  },
  {
   "cell_type": "code",
   "execution_count": 94,
   "metadata": {},
   "outputs": [],
   "source": [
    "# Now let's drop the 'New_bill'\n",
    "\n",
    "hack.drop(columns= 'New_bill', inplace= True)"
   ]
  },
  {
   "cell_type": "code",
   "execution_count": 95,
   "metadata": {},
   "outputs": [
    {
     "data": {
      "text/html": [
       "<div>\n",
       "<style scoped>\n",
       "    .dataframe tbody tr th:only-of-type {\n",
       "        vertical-align: middle;\n",
       "    }\n",
       "\n",
       "    .dataframe tbody tr th {\n",
       "        vertical-align: top;\n",
       "    }\n",
       "\n",
       "    .dataframe thead th {\n",
       "        text-align: right;\n",
       "    }\n",
       "</style>\n",
       "<table border=\"1\" class=\"dataframe\">\n",
       "  <thead>\n",
       "    <tr style=\"text-align: right;\">\n",
       "      <th></th>\n",
       "      <th>Month</th>\n",
       "      <th>Store_code</th>\n",
       "      <th>Day</th>\n",
       "      <th>Bill_id</th>\n",
       "      <th>Bill_amt</th>\n",
       "      <th>Qty</th>\n",
       "      <th>Value</th>\n",
       "      <th>Price</th>\n",
       "      <th>Group</th>\n",
       "      <th>Sgrp</th>\n",
       "      <th>Ssgrp</th>\n",
       "      <th>Cmp</th>\n",
       "      <th>Mbrd</th>\n",
       "      <th>Brd</th>\n",
       "    </tr>\n",
       "  </thead>\n",
       "  <tbody>\n",
       "    <tr>\n",
       "      <th>0</th>\n",
       "      <td>M1</td>\n",
       "      <td>N1</td>\n",
       "      <td>4</td>\n",
       "      <td>T375</td>\n",
       "      <td>225.0</td>\n",
       "      <td>1.0</td>\n",
       "      <td>225.0</td>\n",
       "      <td>225.0</td>\n",
       "      <td>BUTTER MARGR  (4/94)</td>\n",
       "      <td>BUTTER</td>\n",
       "      <td>SALTED</td>\n",
       "      <td>G C M M F</td>\n",
       "      <td>AMUL</td>\n",
       "      <td>AMUL</td>\n",
       "    </tr>\n",
       "    <tr>\n",
       "      <th>1</th>\n",
       "      <td>M1</td>\n",
       "      <td>N1</td>\n",
       "      <td>4</td>\n",
       "      <td>T379</td>\n",
       "      <td>95.0</td>\n",
       "      <td>1.0</td>\n",
       "      <td>95.0</td>\n",
       "      <td>95.0</td>\n",
       "      <td>CONFECTIONERY - ECLAIRS</td>\n",
       "      <td>CONFECTIONERY - ECLAIRS</td>\n",
       "      <td>CONFECTIONERY - ECLAIRS</td>\n",
       "      <td>PARLE PRODS</td>\n",
       "      <td>MELODY</td>\n",
       "      <td>MELODY CHOCOLATY</td>\n",
       "    </tr>\n",
       "    <tr>\n",
       "      <th>2</th>\n",
       "      <td>M1</td>\n",
       "      <td>N1</td>\n",
       "      <td>4</td>\n",
       "      <td>T381</td>\n",
       "      <td>10.0</td>\n",
       "      <td>1.0</td>\n",
       "      <td>10.0</td>\n",
       "      <td>10.0</td>\n",
       "      <td>CHOCOLATE</td>\n",
       "      <td>CHOCOLATE PANNED</td>\n",
       "      <td>CHOCOLATE PANNED</td>\n",
       "      <td>MONDELEZ INTERNATIONAL</td>\n",
       "      <td>CADBURY SHOTS</td>\n",
       "      <td>CADBURY SHOTS</td>\n",
       "    </tr>\n",
       "    <tr>\n",
       "      <th>3</th>\n",
       "      <td>M1</td>\n",
       "      <td>N1</td>\n",
       "      <td>4</td>\n",
       "      <td>T382</td>\n",
       "      <td>108.0</td>\n",
       "      <td>1.0</td>\n",
       "      <td>108.0</td>\n",
       "      <td>108.0</td>\n",
       "      <td>PACKAGED TEA</td>\n",
       "      <td>MAIN PACKS</td>\n",
       "      <td>MAIN PACKS</td>\n",
       "      <td>GUJ TEA PROCESSORS</td>\n",
       "      <td>WAGH BAKRI</td>\n",
       "      <td>WAGH BAKRI INSTANT</td>\n",
       "    </tr>\n",
       "    <tr>\n",
       "      <th>4</th>\n",
       "      <td>M1</td>\n",
       "      <td>N1</td>\n",
       "      <td>4</td>\n",
       "      <td>T384</td>\n",
       "      <td>19.0</td>\n",
       "      <td>1.0</td>\n",
       "      <td>19.0</td>\n",
       "      <td>19.0</td>\n",
       "      <td>ALL IODISED SALT</td>\n",
       "      <td>POWDERED SALT</td>\n",
       "      <td>POWDERED SALT</td>\n",
       "      <td>TATA CHEM</td>\n",
       "      <td>TATA</td>\n",
       "      <td>TATA SALT</td>\n",
       "    </tr>\n",
       "  </tbody>\n",
       "</table>\n",
       "</div>"
      ],
      "text/plain": [
       "  Month Store_code  Day Bill_id  Bill_amt  Qty  Value  Price  \\\n",
       "0    M1         N1    4    T375     225.0  1.0  225.0  225.0   \n",
       "1    M1         N1    4    T379      95.0  1.0   95.0   95.0   \n",
       "2    M1         N1    4    T381      10.0  1.0   10.0   10.0   \n",
       "3    M1         N1    4    T382     108.0  1.0  108.0  108.0   \n",
       "4    M1         N1    4    T384      19.0  1.0   19.0   19.0   \n",
       "\n",
       "                     Group                     Sgrp                    Ssgrp  \\\n",
       "0     BUTTER MARGR  (4/94)                   BUTTER                   SALTED   \n",
       "1  CONFECTIONERY - ECLAIRS  CONFECTIONERY - ECLAIRS  CONFECTIONERY - ECLAIRS   \n",
       "2                CHOCOLATE         CHOCOLATE PANNED         CHOCOLATE PANNED   \n",
       "3             PACKAGED TEA               MAIN PACKS               MAIN PACKS   \n",
       "4         ALL IODISED SALT            POWDERED SALT            POWDERED SALT   \n",
       "\n",
       "                      Cmp           Mbrd                 Brd  \n",
       "0               G C M M F           AMUL                AMUL  \n",
       "1             PARLE PRODS         MELODY    MELODY CHOCOLATY  \n",
       "2  MONDELEZ INTERNATIONAL  CADBURY SHOTS       CADBURY SHOTS  \n",
       "3      GUJ TEA PROCESSORS     WAGH BAKRI  WAGH BAKRI INSTANT  \n",
       "4               TATA CHEM           TATA           TATA SALT  "
      ]
     },
     "execution_count": 95,
     "metadata": {},
     "output_type": "execute_result"
    }
   ],
   "source": [
    "hack.head()"
   ]
  },
  {
   "cell_type": "code",
   "execution_count": 96,
   "metadata": {},
   "outputs": [
    {
     "data": {
      "text/plain": [
       "Month          0\n",
       "Store_code     0\n",
       "Day            0\n",
       "Bill_id       10\n",
       "Bill_amt       6\n",
       "Qty            0\n",
       "Value          0\n",
       "Price          0\n",
       "Group          4\n",
       "Sgrp           5\n",
       "Ssgrp          5\n",
       "Cmp            0\n",
       "Mbrd           0\n",
       "Brd            0\n",
       "dtype: int64"
      ]
     },
     "execution_count": 96,
     "metadata": {},
     "output_type": "execute_result"
    }
   ],
   "source": [
    "hack.isnull().sum()"
   ]
  },
  {
   "cell_type": "code",
   "execution_count": 97,
   "metadata": {},
   "outputs": [],
   "source": [
    "# The Bill_id and Bill_amt column is not usable let's drop it\n",
    "\n",
    "hack.drop(columns= ['Bill_id','Bill_amt'], inplace= True)"
   ]
  },
  {
   "cell_type": "code",
   "execution_count": 98,
   "metadata": {},
   "outputs": [
    {
     "data": {
      "text/plain": [
       "Index(['Month', 'Store_code', 'Day', 'Qty', 'Value', 'Price', 'Group', 'Sgrp',\n",
       "       'Ssgrp', 'Cmp', 'Mbrd', 'Brd'],\n",
       "      dtype='object')"
      ]
     },
     "execution_count": 98,
     "metadata": {},
     "output_type": "execute_result"
    }
   ],
   "source": [
    "hack.columns"
   ]
  },
  {
   "cell_type": "code",
   "execution_count": 99,
   "metadata": {},
   "outputs": [],
   "source": [
    "# Since the 'Group', 'Sgrp', 'Ssgrp', 'Cmp', 'Mbrd', 'Brd' are not required let's drop it as well\n",
    "\n",
    "hack.drop(columns= ['Group', 'Sgrp','Ssgrp', 'Cmp', 'Mbrd', 'Brd'], inplace= True)"
   ]
  },
  {
   "cell_type": "code",
   "execution_count": 100,
   "metadata": {},
   "outputs": [
    {
     "data": {
      "text/plain": [
       "Index(['Month', 'Store_code', 'Day', 'Qty', 'Value', 'Price'], dtype='object')"
      ]
     },
     "execution_count": 100,
     "metadata": {},
     "output_type": "execute_result"
    }
   ],
   "source": [
    "hack.columns"
   ]
  },
  {
   "cell_type": "markdown",
   "metadata": {},
   "source": [
    "# Removing outliers does not work, let's replace it"
   ]
  },
  {
   "cell_type": "code",
   "execution_count": 101,
   "metadata": {},
   "outputs": [
    {
     "data": {
      "text/plain": [
       "<AxesSubplot:>"
      ]
     },
     "execution_count": 101,
     "metadata": {},
     "output_type": "execute_result"
    },
    {
     "data": {
      "image/png": "[encoded data removed]",
      "text/plain": [
       "<Figure size 840x280 with 1 Axes>"
      ]
     },
     "metadata": {
      "needs_background": "light"
     },
     "output_type": "display_data"
    }
   ],
   "source": [
    "plt.figure(figsize = (6,2), dpi = 140)\n",
    "hack.boxplot(rot = 60)"
   ]
  },
  {
   "cell_type": "code",
   "execution_count": 102,
   "metadata": {},
   "outputs": [],
   "source": [
    "import warnings\n",
    "warnings.filterwarnings('ignore')"
   ]
  },
  {
   "cell_type": "code",
   "execution_count": 103,
   "metadata": {},
   "outputs": [
    {
     "data": {
      "text/plain": [
       "<AxesSubplot:>"
      ]
     },
     "execution_count": 103,
     "metadata": {},
     "output_type": "execute_result"
    },
    {
     "data": {
      "image/png": "[encoded data removed]",
      "text/plain": [
       "<Figure size 840x280 with 1 Axes>"
      ]
     },
     "metadata": {
      "needs_background": "light"
     },
     "output_type": "display_data"
    }
   ],
   "source": [
    "# Viewing outliers\n",
    "\n",
    "plt.figure(figsize = (6,2), dpi = 140)\n",
    "hack.boxplot('Qty', vert = False)"
   ]
  },
  {
   "cell_type": "markdown",
   "metadata": {},
   "source": [
    "# No need of replacing the outliers in Qty column as qty for someday might be high and someday low."
   ]
  },
  {
   "cell_type": "code",
   "execution_count": 104,
   "metadata": {},
   "outputs": [
    {
     "data": {
      "text/plain": [
       "<AxesSubplot:>"
      ]
     },
     "execution_count": 104,
     "metadata": {},
     "output_type": "execute_result"
    },
    {
     "data": {
      "image/png": "[encoded data removed]",
      "text/plain": [
       "<Figure size 840x280 with 1 Axes>"
      ]
     },
     "metadata": {
      "needs_background": "light"
     },
     "output_type": "display_data"
    }
   ],
   "source": [
    "plt.figure(figsize = (6,2), dpi = 140)\n",
    "hack.boxplot('Value', vert = False)"
   ]
  },
  {
   "cell_type": "code",
   "execution_count": 105,
   "metadata": {},
   "outputs": [
    {
     "data": {
      "text/plain": [
       "<AxesSubplot:>"
      ]
     },
     "execution_count": 105,
     "metadata": {},
     "output_type": "execute_result"
    },
    {
     "data": {
      "image/png": "[encoded data removed]",
      "text/plain": [
       "<Figure size 840x280 with 1 Axes>"
      ]
     },
     "metadata": {
      "needs_background": "light"
     },
     "output_type": "display_data"
    }
   ],
   "source": [
    "plt.figure(figsize = (6,2), dpi = 140)\n",
    "hack.boxplot('Price', vert = False)"
   ]
  },
  {
   "cell_type": "markdown",
   "metadata": {},
   "source": [
    "## Outlier Treatment"
   ]
  },
  {
   "cell_type": "code",
   "execution_count": 106,
   "metadata": {},
   "outputs": [
    {
     "name": "stdout",
     "output_type": "stream",
     "text": [
      "10.703857174000229\n",
      "count    26866.000000\n",
      "mean        68.122722\n",
      "std        122.871652\n",
      "min          1.000000\n",
      "25%         11.000000\n",
      "50%         30.000000\n",
      "75%         80.000000\n",
      "max       5600.000000\n",
      "Name: Value, dtype: float64\n"
     ]
    }
   ],
   "source": [
    "print(hack.Value.skew())\n",
    "print(hack.Value.describe())   # Since the skewness is 10.70 this column is higly positively skewed"
   ]
  },
  {
   "cell_type": "code",
   "execution_count": 107,
   "metadata": {},
   "outputs": [
    {
     "name": "stdout",
     "output_type": "stream",
     "text": [
      "10.0\n",
      "159.0\n"
     ]
    }
   ],
   "source": [
    "# Lets replace the outliers in 'Value' and 'Price' column\n",
    "\n",
    "print(hack['Value'].quantile(0.10))\n",
    "print(hack['Value'].quantile(0.90))"
   ]
  },
  {
   "cell_type": "code",
   "execution_count": 108,
   "metadata": {},
   "outputs": [],
   "source": [
    "hack.Value = np.where(hack.Value < 10.0, 10.0, hack.Value)\n",
    "hack.Value = np.where(hack.Value > 159.0,159.0, hack.Value)"
   ]
  },
  {
   "cell_type": "code",
   "execution_count": 109,
   "metadata": {},
   "outputs": [
    {
     "data": {
      "text/plain": [
       "<AxesSubplot:>"
      ]
     },
     "execution_count": 109,
     "metadata": {},
     "output_type": "execute_result"
    },
    {
     "data": {
      "image/png": "[encoded data removed]",
      "text/plain": [
       "<Figure size 840x280 with 1 Axes>"
      ]
     },
     "metadata": {
      "needs_background": "light"
     },
     "output_type": "display_data"
    }
   ],
   "source": [
    "plt.figure(figsize = (6,2), dpi = 140)\n",
    "hack.boxplot('Value', vert = False)"
   ]
  },
  {
   "cell_type": "code",
   "execution_count": null,
   "metadata": {},
   "outputs": [],
   "source": []
  },
  {
   "cell_type": "code",
   "execution_count": 110,
   "metadata": {},
   "outputs": [
    {
     "name": "stdout",
     "output_type": "stream",
     "text": [
      "5.0\n",
      "130.0\n"
     ]
    }
   ],
   "source": [
    "# Lets replace the outliers in 'Price' column\n",
    "\n",
    "print(hack['Price'].quantile(0.10))\n",
    "print(hack['Price'].quantile(0.90))"
   ]
  },
  {
   "cell_type": "code",
   "execution_count": 111,
   "metadata": {},
   "outputs": [],
   "source": [
    "hack.Price = np.where(hack.Price <5.0 ,5.0, hack.Price)\n",
    "hack.Price = np.where(hack.Price >130.0, 130.0, hack.Price)"
   ]
  },
  {
   "cell_type": "code",
   "execution_count": 112,
   "metadata": {},
   "outputs": [
    {
     "data": {
      "text/plain": [
       "<AxesSubplot:>"
      ]
     },
     "execution_count": 112,
     "metadata": {},
     "output_type": "execute_result"
    },
    {
     "data": {
      "image/png": "[encoded data removed]",
      "text/plain": [
       "<Figure size 700x280 with 1 Axes>"
      ]
     },
     "metadata": {
      "needs_background": "light"
     },
     "output_type": "display_data"
    }
   ],
   "source": [
    "plt.figure(figsize = (5,2), dpi = 140)\n",
    "hack.boxplot('Price', vert = False)"
   ]
  },
  {
   "cell_type": "code",
   "execution_count": 113,
   "metadata": {},
   "outputs": [
    {
     "data": {
      "text/plain": [
       "<AxesSubplot:>"
      ]
     },
     "execution_count": 113,
     "metadata": {},
     "output_type": "execute_result"
    },
    {
     "data": {
      "image/png": "[encoded data removed]",
      "text/plain": [
       "<Figure size 700x280 with 1 Axes>"
      ]
     },
     "metadata": {
      "needs_background": "light"
     },
     "output_type": "display_data"
    }
   ],
   "source": [
    "# Let's now see the Boxplot without outliers\n",
    "\n",
    "plt.figure(figsize = (5,2), dpi = 140)\n",
    "hack.boxplot(rot = 60)"
   ]
  },
  {
   "cell_type": "code",
   "execution_count": null,
   "metadata": {},
   "outputs": [],
   "source": []
  },
  {
   "cell_type": "code",
   "execution_count": 114,
   "metadata": {},
   "outputs": [
    {
     "data": {
      "text/plain": [
       "<AxesSubplot:xlabel='Month', ylabel='count'>"
      ]
     },
     "execution_count": 114,
     "metadata": {},
     "output_type": "execute_result"
    },
    {
     "data": {
      "image/png": "[encoded data removed]",
      "text/plain": [
       "<Figure size 700x280 with 1 Axes>"
      ]
     },
     "metadata": {
      "needs_background": "light"
     },
     "output_type": "display_data"
    }
   ],
   "source": [
    "# Visually lets view which store is high\n",
    "\n",
    "plt.figure(figsize = (5,2), dpi = 140)\n",
    "sns.countplot(x = 'Month', data = hack)"
   ]
  },
  {
   "cell_type": "code",
   "execution_count": null,
   "metadata": {},
   "outputs": [],
   "source": []
  },
  {
   "cell_type": "code",
   "execution_count": 115,
   "metadata": {},
   "outputs": [
    {
     "data": {
      "text/plain": [
       "<seaborn.axisgrid.PairGrid at 0x1a81a5bf048>"
      ]
     },
     "execution_count": 115,
     "metadata": {},
     "output_type": "execute_result"
    },
    {
     "data": {
      "text/plain": [
       "<Figure size 1120x560 with 0 Axes>"
      ]
     },
     "metadata": {},
     "output_type": "display_data"
    },
    {
     "data": {
      "image/png": "[encoded data removed]",
      "text/plain": [
       "<Figure size 411x360 with 6 Axes>"
      ]
     },
     "metadata": {
      "needs_background": "light"
     },
     "output_type": "display_data"
    }
   ],
   "source": [
    "# Let's see how the values are distributed\n",
    "\n",
    "plt.figure(figsize = (8,4), dpi = 140)\n",
    "sns.pairplot(data = hack[['Month','Price','Qty']], hue = 'Month')"
   ]
  },
  {
   "cell_type": "code",
   "execution_count": null,
   "metadata": {},
   "outputs": [],
   "source": []
  },
  {
   "cell_type": "code",
   "execution_count": 116,
   "metadata": {},
   "outputs": [
    {
     "data": {
      "text/plain": [
       "<AxesSubplot:xlabel='Store_code', ylabel='count'>"
      ]
     },
     "execution_count": 116,
     "metadata": {},
     "output_type": "execute_result"
    },
    {
     "data": {
      "image/png": "[encoded data removed]",
      "text/plain": [
       "<Figure size 900x450 with 1 Axes>"
      ]
     },
     "metadata": {
      "needs_background": "light"
     },
     "output_type": "display_data"
    }
   ],
   "source": [
    "# Lets check which store does the highest sales\n",
    "\n",
    "plt.figure(figsize = (6,3), dpi = 150)\n",
    "sns.countplot(x = 'Store_code',data = hack)"
   ]
  },
  {
   "cell_type": "code",
   "execution_count": null,
   "metadata": {},
   "outputs": [],
   "source": []
  },
  {
   "cell_type": "markdown",
   "metadata": {},
   "source": [
    "# *Now, let's convert the category column Month and store code to numeric*"
   ]
  },
  {
   "cell_type": "code",
   "execution_count": 117,
   "metadata": {},
   "outputs": [
    {
     "data": {
      "text/html": [
       "<div>\n",
       "<style scoped>\n",
       "    .dataframe tbody tr th:only-of-type {\n",
       "        vertical-align: middle;\n",
       "    }\n",
       "\n",
       "    .dataframe tbody tr th {\n",
       "        vertical-align: top;\n",
       "    }\n",
       "\n",
       "    .dataframe thead th {\n",
       "        text-align: right;\n",
       "    }\n",
       "</style>\n",
       "<table border=\"1\" class=\"dataframe\">\n",
       "  <thead>\n",
       "    <tr style=\"text-align: right;\">\n",
       "      <th></th>\n",
       "      <th>Month</th>\n",
       "      <th>Store_code</th>\n",
       "      <th>Day</th>\n",
       "      <th>Qty</th>\n",
       "      <th>Value</th>\n",
       "      <th>Price</th>\n",
       "    </tr>\n",
       "  </thead>\n",
       "  <tbody>\n",
       "    <tr>\n",
       "      <th>0</th>\n",
       "      <td>M1</td>\n",
       "      <td>N1</td>\n",
       "      <td>4</td>\n",
       "      <td>1.0</td>\n",
       "      <td>159.0</td>\n",
       "      <td>130.0</td>\n",
       "    </tr>\n",
       "    <tr>\n",
       "      <th>1</th>\n",
       "      <td>M1</td>\n",
       "      <td>N1</td>\n",
       "      <td>4</td>\n",
       "      <td>1.0</td>\n",
       "      <td>95.0</td>\n",
       "      <td>95.0</td>\n",
       "    </tr>\n",
       "    <tr>\n",
       "      <th>2</th>\n",
       "      <td>M1</td>\n",
       "      <td>N1</td>\n",
       "      <td>4</td>\n",
       "      <td>1.0</td>\n",
       "      <td>10.0</td>\n",
       "      <td>10.0</td>\n",
       "    </tr>\n",
       "    <tr>\n",
       "      <th>3</th>\n",
       "      <td>M1</td>\n",
       "      <td>N1</td>\n",
       "      <td>4</td>\n",
       "      <td>1.0</td>\n",
       "      <td>108.0</td>\n",
       "      <td>108.0</td>\n",
       "    </tr>\n",
       "    <tr>\n",
       "      <th>4</th>\n",
       "      <td>M1</td>\n",
       "      <td>N1</td>\n",
       "      <td>4</td>\n",
       "      <td>1.0</td>\n",
       "      <td>19.0</td>\n",
       "      <td>19.0</td>\n",
       "    </tr>\n",
       "  </tbody>\n",
       "</table>\n",
       "</div>"
      ],
      "text/plain": [
       "  Month Store_code  Day  Qty  Value  Price\n",
       "0    M1         N1    4  1.0  159.0  130.0\n",
       "1    M1         N1    4  1.0   95.0   95.0\n",
       "2    M1         N1    4  1.0   10.0   10.0\n",
       "3    M1         N1    4  1.0  108.0  108.0\n",
       "4    M1         N1    4  1.0   19.0   19.0"
      ]
     },
     "execution_count": 117,
     "metadata": {},
     "output_type": "execute_result"
    }
   ],
   "source": [
    "hack.head()"
   ]
  },
  {
   "cell_type": "markdown",
   "metadata": {},
   "source": [
    "# Using One Hot Encoding"
   ]
  },
  {
   "cell_type": "code",
   "execution_count": 118,
   "metadata": {},
   "outputs": [],
   "source": [
    "hack_nw = pd.get_dummies(hack, columns = ['Month','Store_code'], prefix = ['month', 'store'], drop_first= True)"
   ]
  },
  {
   "cell_type": "code",
   "execution_count": 119,
   "metadata": {},
   "outputs": [
    {
     "data": {
      "text/html": [
       "<div>\n",
       "<style scoped>\n",
       "    .dataframe tbody tr th:only-of-type {\n",
       "        vertical-align: middle;\n",
       "    }\n",
       "\n",
       "    .dataframe tbody tr th {\n",
       "        vertical-align: top;\n",
       "    }\n",
       "\n",
       "    .dataframe thead th {\n",
       "        text-align: right;\n",
       "    }\n",
       "</style>\n",
       "<table border=\"1\" class=\"dataframe\">\n",
       "  <thead>\n",
       "    <tr style=\"text-align: right;\">\n",
       "      <th></th>\n",
       "      <th>Day</th>\n",
       "      <th>Qty</th>\n",
       "      <th>Value</th>\n",
       "      <th>Price</th>\n",
       "      <th>month_M2</th>\n",
       "      <th>month_M3</th>\n",
       "      <th>store_N10</th>\n",
       "      <th>store_N2</th>\n",
       "      <th>store_N3</th>\n",
       "      <th>store_N4</th>\n",
       "      <th>store_N5</th>\n",
       "      <th>store_N6</th>\n",
       "      <th>store_N7</th>\n",
       "      <th>store_N8</th>\n",
       "      <th>store_N9</th>\n",
       "    </tr>\n",
       "  </thead>\n",
       "  <tbody>\n",
       "    <tr>\n",
       "      <th>0</th>\n",
       "      <td>4</td>\n",
       "      <td>1.0</td>\n",
       "      <td>159.0</td>\n",
       "      <td>130.0</td>\n",
       "      <td>0</td>\n",
       "      <td>0</td>\n",
       "      <td>0</td>\n",
       "      <td>0</td>\n",
       "      <td>0</td>\n",
       "      <td>0</td>\n",
       "      <td>0</td>\n",
       "      <td>0</td>\n",
       "      <td>0</td>\n",
       "      <td>0</td>\n",
       "      <td>0</td>\n",
       "    </tr>\n",
       "    <tr>\n",
       "      <th>1</th>\n",
       "      <td>4</td>\n",
       "      <td>1.0</td>\n",
       "      <td>95.0</td>\n",
       "      <td>95.0</td>\n",
       "      <td>0</td>\n",
       "      <td>0</td>\n",
       "      <td>0</td>\n",
       "      <td>0</td>\n",
       "      <td>0</td>\n",
       "      <td>0</td>\n",
       "      <td>0</td>\n",
       "      <td>0</td>\n",
       "      <td>0</td>\n",
       "      <td>0</td>\n",
       "      <td>0</td>\n",
       "    </tr>\n",
       "    <tr>\n",
       "      <th>2</th>\n",
       "      <td>4</td>\n",
       "      <td>1.0</td>\n",
       "      <td>10.0</td>\n",
       "      <td>10.0</td>\n",
       "      <td>0</td>\n",
       "      <td>0</td>\n",
       "      <td>0</td>\n",
       "      <td>0</td>\n",
       "      <td>0</td>\n",
       "      <td>0</td>\n",
       "      <td>0</td>\n",
       "      <td>0</td>\n",
       "      <td>0</td>\n",
       "      <td>0</td>\n",
       "      <td>0</td>\n",
       "    </tr>\n",
       "    <tr>\n",
       "      <th>3</th>\n",
       "      <td>4</td>\n",
       "      <td>1.0</td>\n",
       "      <td>108.0</td>\n",
       "      <td>108.0</td>\n",
       "      <td>0</td>\n",
       "      <td>0</td>\n",
       "      <td>0</td>\n",
       "      <td>0</td>\n",
       "      <td>0</td>\n",
       "      <td>0</td>\n",
       "      <td>0</td>\n",
       "      <td>0</td>\n",
       "      <td>0</td>\n",
       "      <td>0</td>\n",
       "      <td>0</td>\n",
       "    </tr>\n",
       "    <tr>\n",
       "      <th>4</th>\n",
       "      <td>4</td>\n",
       "      <td>1.0</td>\n",
       "      <td>19.0</td>\n",
       "      <td>19.0</td>\n",
       "      <td>0</td>\n",
       "      <td>0</td>\n",
       "      <td>0</td>\n",
       "      <td>0</td>\n",
       "      <td>0</td>\n",
       "      <td>0</td>\n",
       "      <td>0</td>\n",
       "      <td>0</td>\n",
       "      <td>0</td>\n",
       "      <td>0</td>\n",
       "      <td>0</td>\n",
       "    </tr>\n",
       "  </tbody>\n",
       "</table>\n",
       "</div>"
      ],
      "text/plain": [
       "   Day  Qty  Value  Price  month_M2  month_M3  store_N10  store_N2  store_N3  \\\n",
       "0    4  1.0  159.0  130.0         0         0          0         0         0   \n",
       "1    4  1.0   95.0   95.0         0         0          0         0         0   \n",
       "2    4  1.0   10.0   10.0         0         0          0         0         0   \n",
       "3    4  1.0  108.0  108.0         0         0          0         0         0   \n",
       "4    4  1.0   19.0   19.0         0         0          0         0         0   \n",
       "\n",
       "   store_N4  store_N5  store_N6  store_N7  store_N8  store_N9  \n",
       "0         0         0         0         0         0         0  \n",
       "1         0         0         0         0         0         0  \n",
       "2         0         0         0         0         0         0  \n",
       "3         0         0         0         0         0         0  \n",
       "4         0         0         0         0         0         0  "
      ]
     },
     "execution_count": 119,
     "metadata": {},
     "output_type": "execute_result"
    }
   ],
   "source": [
    "hack_nw.head()"
   ]
  },
  {
   "cell_type": "code",
   "execution_count": 120,
   "metadata": {},
   "outputs": [
    {
     "data": {
      "text/plain": [
       "Index(['Day', 'Qty', 'Value', 'Price', 'month_M2', 'month_M3', 'store_N10',\n",
       "       'store_N2', 'store_N3', 'store_N4', 'store_N5', 'store_N6', 'store_N7',\n",
       "       'store_N8', 'store_N9'],\n",
       "      dtype='object')"
      ]
     },
     "execution_count": 120,
     "metadata": {},
     "output_type": "execute_result"
    }
   ],
   "source": [
    "hack_nw.columns"
   ]
  },
  {
   "cell_type": "code",
   "execution_count": 121,
   "metadata": {},
   "outputs": [],
   "source": [
    "# Now lets concatenate the original hack data with encoded (dummies) features\n",
    "\n",
    "final_hack = pd.concat([hack[['Month','Store_code']], hack_nw], axis=1)"
   ]
  },
  {
   "cell_type": "code",
   "execution_count": 122,
   "metadata": {},
   "outputs": [
    {
     "data": {
      "text/html": [
       "<div>\n",
       "<style scoped>\n",
       "    .dataframe tbody tr th:only-of-type {\n",
       "        vertical-align: middle;\n",
       "    }\n",
       "\n",
       "    .dataframe tbody tr th {\n",
       "        vertical-align: top;\n",
       "    }\n",
       "\n",
       "    .dataframe thead th {\n",
       "        text-align: right;\n",
       "    }\n",
       "</style>\n",
       "<table border=\"1\" class=\"dataframe\">\n",
       "  <thead>\n",
       "    <tr style=\"text-align: right;\">\n",
       "      <th></th>\n",
       "      <th>Month</th>\n",
       "      <th>Store_code</th>\n",
       "      <th>Day</th>\n",
       "      <th>Qty</th>\n",
       "      <th>Value</th>\n",
       "      <th>Price</th>\n",
       "      <th>month_M2</th>\n",
       "      <th>month_M3</th>\n",
       "      <th>store_N10</th>\n",
       "      <th>store_N2</th>\n",
       "      <th>store_N3</th>\n",
       "      <th>store_N4</th>\n",
       "      <th>store_N5</th>\n",
       "      <th>store_N6</th>\n",
       "      <th>store_N7</th>\n",
       "      <th>store_N8</th>\n",
       "      <th>store_N9</th>\n",
       "    </tr>\n",
       "  </thead>\n",
       "  <tbody>\n",
       "    <tr>\n",
       "      <th>0</th>\n",
       "      <td>M1</td>\n",
       "      <td>N1</td>\n",
       "      <td>4</td>\n",
       "      <td>1.0</td>\n",
       "      <td>159.0</td>\n",
       "      <td>130.0</td>\n",
       "      <td>0</td>\n",
       "      <td>0</td>\n",
       "      <td>0</td>\n",
       "      <td>0</td>\n",
       "      <td>0</td>\n",
       "      <td>0</td>\n",
       "      <td>0</td>\n",
       "      <td>0</td>\n",
       "      <td>0</td>\n",
       "      <td>0</td>\n",
       "      <td>0</td>\n",
       "    </tr>\n",
       "    <tr>\n",
       "      <th>1</th>\n",
       "      <td>M1</td>\n",
       "      <td>N1</td>\n",
       "      <td>4</td>\n",
       "      <td>1.0</td>\n",
       "      <td>95.0</td>\n",
       "      <td>95.0</td>\n",
       "      <td>0</td>\n",
       "      <td>0</td>\n",
       "      <td>0</td>\n",
       "      <td>0</td>\n",
       "      <td>0</td>\n",
       "      <td>0</td>\n",
       "      <td>0</td>\n",
       "      <td>0</td>\n",
       "      <td>0</td>\n",
       "      <td>0</td>\n",
       "      <td>0</td>\n",
       "    </tr>\n",
       "    <tr>\n",
       "      <th>2</th>\n",
       "      <td>M1</td>\n",
       "      <td>N1</td>\n",
       "      <td>4</td>\n",
       "      <td>1.0</td>\n",
       "      <td>10.0</td>\n",
       "      <td>10.0</td>\n",
       "      <td>0</td>\n",
       "      <td>0</td>\n",
       "      <td>0</td>\n",
       "      <td>0</td>\n",
       "      <td>0</td>\n",
       "      <td>0</td>\n",
       "      <td>0</td>\n",
       "      <td>0</td>\n",
       "      <td>0</td>\n",
       "      <td>0</td>\n",
       "      <td>0</td>\n",
       "    </tr>\n",
       "    <tr>\n",
       "      <th>3</th>\n",
       "      <td>M1</td>\n",
       "      <td>N1</td>\n",
       "      <td>4</td>\n",
       "      <td>1.0</td>\n",
       "      <td>108.0</td>\n",
       "      <td>108.0</td>\n",
       "      <td>0</td>\n",
       "      <td>0</td>\n",
       "      <td>0</td>\n",
       "      <td>0</td>\n",
       "      <td>0</td>\n",
       "      <td>0</td>\n",
       "      <td>0</td>\n",
       "      <td>0</td>\n",
       "      <td>0</td>\n",
       "      <td>0</td>\n",
       "      <td>0</td>\n",
       "    </tr>\n",
       "    <tr>\n",
       "      <th>4</th>\n",
       "      <td>M1</td>\n",
       "      <td>N1</td>\n",
       "      <td>4</td>\n",
       "      <td>1.0</td>\n",
       "      <td>19.0</td>\n",
       "      <td>19.0</td>\n",
       "      <td>0</td>\n",
       "      <td>0</td>\n",
       "      <td>0</td>\n",
       "      <td>0</td>\n",
       "      <td>0</td>\n",
       "      <td>0</td>\n",
       "      <td>0</td>\n",
       "      <td>0</td>\n",
       "      <td>0</td>\n",
       "      <td>0</td>\n",
       "      <td>0</td>\n",
       "    </tr>\n",
       "    <tr>\n",
       "      <th>...</th>\n",
       "      <td>...</td>\n",
       "      <td>...</td>\n",
       "      <td>...</td>\n",
       "      <td>...</td>\n",
       "      <td>...</td>\n",
       "      <td>...</td>\n",
       "      <td>...</td>\n",
       "      <td>...</td>\n",
       "      <td>...</td>\n",
       "      <td>...</td>\n",
       "      <td>...</td>\n",
       "      <td>...</td>\n",
       "      <td>...</td>\n",
       "      <td>...</td>\n",
       "      <td>...</td>\n",
       "      <td>...</td>\n",
       "      <td>...</td>\n",
       "    </tr>\n",
       "    <tr>\n",
       "      <th>26980</th>\n",
       "      <td>M3</td>\n",
       "      <td>N10</td>\n",
       "      <td>31</td>\n",
       "      <td>1.0</td>\n",
       "      <td>10.0</td>\n",
       "      <td>10.0</td>\n",
       "      <td>0</td>\n",
       "      <td>1</td>\n",
       "      <td>1</td>\n",
       "      <td>0</td>\n",
       "      <td>0</td>\n",
       "      <td>0</td>\n",
       "      <td>0</td>\n",
       "      <td>0</td>\n",
       "      <td>0</td>\n",
       "      <td>0</td>\n",
       "      <td>0</td>\n",
       "    </tr>\n",
       "    <tr>\n",
       "      <th>26981</th>\n",
       "      <td>M3</td>\n",
       "      <td>N10</td>\n",
       "      <td>31</td>\n",
       "      <td>1.0</td>\n",
       "      <td>10.0</td>\n",
       "      <td>10.0</td>\n",
       "      <td>0</td>\n",
       "      <td>1</td>\n",
       "      <td>1</td>\n",
       "      <td>0</td>\n",
       "      <td>0</td>\n",
       "      <td>0</td>\n",
       "      <td>0</td>\n",
       "      <td>0</td>\n",
       "      <td>0</td>\n",
       "      <td>0</td>\n",
       "      <td>0</td>\n",
       "    </tr>\n",
       "    <tr>\n",
       "      <th>26982</th>\n",
       "      <td>M3</td>\n",
       "      <td>N10</td>\n",
       "      <td>31</td>\n",
       "      <td>2.0</td>\n",
       "      <td>20.0</td>\n",
       "      <td>10.0</td>\n",
       "      <td>0</td>\n",
       "      <td>1</td>\n",
       "      <td>1</td>\n",
       "      <td>0</td>\n",
       "      <td>0</td>\n",
       "      <td>0</td>\n",
       "      <td>0</td>\n",
       "      <td>0</td>\n",
       "      <td>0</td>\n",
       "      <td>0</td>\n",
       "      <td>0</td>\n",
       "    </tr>\n",
       "    <tr>\n",
       "      <th>26983</th>\n",
       "      <td>M3</td>\n",
       "      <td>N10</td>\n",
       "      <td>31</td>\n",
       "      <td>1.0</td>\n",
       "      <td>58.0</td>\n",
       "      <td>58.0</td>\n",
       "      <td>0</td>\n",
       "      <td>1</td>\n",
       "      <td>1</td>\n",
       "      <td>0</td>\n",
       "      <td>0</td>\n",
       "      <td>0</td>\n",
       "      <td>0</td>\n",
       "      <td>0</td>\n",
       "      <td>0</td>\n",
       "      <td>0</td>\n",
       "      <td>0</td>\n",
       "    </tr>\n",
       "    <tr>\n",
       "      <th>26984</th>\n",
       "      <td>M3</td>\n",
       "      <td>N10</td>\n",
       "      <td>31</td>\n",
       "      <td>1.0</td>\n",
       "      <td>15.0</td>\n",
       "      <td>15.0</td>\n",
       "      <td>0</td>\n",
       "      <td>1</td>\n",
       "      <td>1</td>\n",
       "      <td>0</td>\n",
       "      <td>0</td>\n",
       "      <td>0</td>\n",
       "      <td>0</td>\n",
       "      <td>0</td>\n",
       "      <td>0</td>\n",
       "      <td>0</td>\n",
       "      <td>0</td>\n",
       "    </tr>\n",
       "  </tbody>\n",
       "</table>\n",
       "<p>26866 rows × 17 columns</p>\n",
       "</div>"
      ],
      "text/plain": [
       "      Month Store_code  Day  Qty  Value  Price  month_M2  month_M3  store_N10  \\\n",
       "0        M1         N1    4  1.0  159.0  130.0         0         0          0   \n",
       "1        M1         N1    4  1.0   95.0   95.0         0         0          0   \n",
       "2        M1         N1    4  1.0   10.0   10.0         0         0          0   \n",
       "3        M1         N1    4  1.0  108.0  108.0         0         0          0   \n",
       "4        M1         N1    4  1.0   19.0   19.0         0         0          0   \n",
       "...     ...        ...  ...  ...    ...    ...       ...       ...        ...   \n",
       "26980    M3        N10   31  1.0   10.0   10.0         0         1          1   \n",
       "26981    M3        N10   31  1.0   10.0   10.0         0         1          1   \n",
       "26982    M3        N10   31  2.0   20.0   10.0         0         1          1   \n",
       "26983    M3        N10   31  1.0   58.0   58.0         0         1          1   \n",
       "26984    M3        N10   31  1.0   15.0   15.0         0         1          1   \n",
       "\n",
       "       store_N2  store_N3  store_N4  store_N5  store_N6  store_N7  store_N8  \\\n",
       "0             0         0         0         0         0         0         0   \n",
       "1             0         0         0         0         0         0         0   \n",
       "2             0         0         0         0         0         0         0   \n",
       "3             0         0         0         0         0         0         0   \n",
       "4             0         0         0         0         0         0         0   \n",
       "...         ...       ...       ...       ...       ...       ...       ...   \n",
       "26980         0         0         0         0         0         0         0   \n",
       "26981         0         0         0         0         0         0         0   \n",
       "26982         0         0         0         0         0         0         0   \n",
       "26983         0         0         0         0         0         0         0   \n",
       "26984         0         0         0         0         0         0         0   \n",
       "\n",
       "       store_N9  \n",
       "0             0  \n",
       "1             0  \n",
       "2             0  \n",
       "3             0  \n",
       "4             0  \n",
       "...         ...  \n",
       "26980         0  \n",
       "26981         0  \n",
       "26982         0  \n",
       "26983         0  \n",
       "26984         0  \n",
       "\n",
       "[26866 rows x 17 columns]"
      ]
     },
     "execution_count": 122,
     "metadata": {},
     "output_type": "execute_result"
    }
   ],
   "source": [
    "final_hack"
   ]
  },
  {
   "cell_type": "code",
   "execution_count": 123,
   "metadata": {},
   "outputs": [
    {
     "data": {
      "text/plain": [
       "Index(['Month', 'Store_code', 'Day', 'Qty', 'Value', 'Price', 'month_M2',\n",
       "       'month_M3', 'store_N10', 'store_N2', 'store_N3', 'store_N4', 'store_N5',\n",
       "       'store_N6', 'store_N7', 'store_N8', 'store_N9'],\n",
       "      dtype='object')"
      ]
     },
     "execution_count": 123,
     "metadata": {},
     "output_type": "execute_result"
    }
   ],
   "source": [
    "final_hack.columns"
   ]
  },
  {
   "cell_type": "code",
   "execution_count": null,
   "metadata": {},
   "outputs": [],
   "source": []
  },
  {
   "cell_type": "code",
   "execution_count": null,
   "metadata": {},
   "outputs": [],
   "source": []
  },
  {
   "cell_type": "markdown",
   "metadata": {},
   "source": [
    "## Correlation "
   ]
  },
  {
   "cell_type": "code",
   "execution_count": 124,
   "metadata": {},
   "outputs": [
    {
     "data": {
      "text/plain": [
       "Index(['Month', 'Store_code', 'Day', 'Qty', 'Value', 'Price', 'month_M2',\n",
       "       'month_M3', 'store_N10', 'store_N2', 'store_N3', 'store_N4', 'store_N5',\n",
       "       'store_N6', 'store_N7', 'store_N8', 'store_N9'],\n",
       "      dtype='object')"
      ]
     },
     "execution_count": 124,
     "metadata": {},
     "output_type": "execute_result"
    }
   ],
   "source": [
    "final_hack.columns"
   ]
  },
  {
   "cell_type": "code",
   "execution_count": 125,
   "metadata": {},
   "outputs": [
    {
     "data": {
      "text/plain": [
       "<AxesSubplot:>"
      ]
     },
     "execution_count": 125,
     "metadata": {},
     "output_type": "execute_result"
    },
    {
     "data": {
      "image/png": "[encoded data removed]",
      "text/plain": [
       "<Figure size 1296x1080 with 2 Axes>"
      ]
     },
     "metadata": {
      "needs_background": "light"
     },
     "output_type": "display_data"
    }
   ],
   "source": [
    "plt.figure(figsize= (18,15))\n",
    "sns.heatmap(final_hack[['Day', 'Qty', 'Value', 'Price','month_M2', 'month_M3','store_N10', 'store_N2', 'store_N3', \n",
    "                        'store_N4', 'store_N5','store_N6', 'store_N7', 'store_N8', 'store_N9']].corr(), annot= True, \n",
    "            annot_kws= {'size': 10}, linewidths= 0.2, cmap= 'Accent')"
   ]
  },
  {
   "cell_type": "code",
   "execution_count": null,
   "metadata": {},
   "outputs": [],
   "source": []
  },
  {
   "cell_type": "markdown",
   "metadata": {},
   "source": [
    "# Which features are important"
   ]
  },
  {
   "cell_type": "code",
   "execution_count": 126,
   "metadata": {},
   "outputs": [],
   "source": [
    "# Lets split the data to x and y and check which are the features which highly required.\n",
    "\n",
    "x = final_hack[['Day', 'Qty', 'Value','month_M2',\n",
    "       'month_M3', 'store_N10', 'store_N2', 'store_N3', 'store_N4', 'store_N5',\n",
    "       'store_N6', 'store_N7', 'store_N8', 'store_N9']]\n",
    "\n",
    "y = final_hack['Value']"
   ]
  },
  {
   "cell_type": "code",
   "execution_count": null,
   "metadata": {},
   "outputs": [],
   "source": []
  },
  {
   "cell_type": "markdown",
   "metadata": {},
   "source": [
    "## NOTE :- \n",
    "    \n",
    "                While using ExtraTreeClassifier the Target variable Y should only be 'Integer'"
   ]
  },
  {
   "cell_type": "code",
   "execution_count": 127,
   "metadata": {},
   "outputs": [],
   "source": [
    "final_hack['Value'] = np.round(final_hack['Value'])"
   ]
  },
  {
   "cell_type": "markdown",
   "metadata": {},
   "source": [
    "# Feature Importance ExtratreeClassifier technique"
   ]
  },
  {
   "cell_type": "code",
   "execution_count": 128,
   "metadata": {},
   "outputs": [],
   "source": [
    "from sklearn.ensemble import ExtraTreesClassifier\n",
    "import matplotlib.pyplot as plt"
   ]
  },
  {
   "cell_type": "code",
   "execution_count": 129,
   "metadata": {},
   "outputs": [],
   "source": [
    "model = ExtraTreesClassifier()"
   ]
  },
  {
   "cell_type": "code",
   "execution_count": 130,
   "metadata": {},
   "outputs": [
    {
     "data": {
      "text/plain": [
       "ExtraTreesClassifier()"
      ]
     },
     "execution_count": 130,
     "metadata": {},
     "output_type": "execute_result"
    }
   ],
   "source": [
    "model.fit(x,y)"
   ]
  },
  {
   "cell_type": "code",
   "execution_count": 131,
   "metadata": {},
   "outputs": [
    {
     "name": "stdout",
     "output_type": "stream",
     "text": [
      "[0.07214585 0.07281183 0.81586303 0.00338656 0.00346358 0.00123825\n",
      " 0.00444179 0.00160511 0.01000126 0.00185627 0.00249431 0.00247863\n",
      " 0.00312355 0.00508998]\n"
     ]
    }
   ],
   "source": [
    "print(model.feature_importances_) # use inbuild class feature_importaces_ of tree based classifiers"
   ]
  },
  {
   "cell_type": "markdown",
   "metadata": {},
   "source": [
    "## plot graph of feature importances for better visualization"
   ]
  },
  {
   "cell_type": "code",
   "execution_count": 132,
   "metadata": {},
   "outputs": [
    {
     "data": {
      "image/png": "[encoded data removed]",
      "text/plain": [
       "<Figure size 720x576 with 1 Axes>"
      ]
     },
     "metadata": {
      "needs_background": "light"
     },
     "output_type": "display_data"
    }
   ],
   "source": [
    "plt.figure(figsize=(10,8))\n",
    "feat_importances = pd.Series(model.feature_importances_, index= x.columns)\n",
    "feat_importances.nlargest(10).plot(kind = 'barh')\n",
    "plt.show()"
   ]
  },
  {
   "cell_type": "code",
   "execution_count": null,
   "metadata": {},
   "outputs": [],
   "source": []
  },
  {
   "cell_type": "markdown",
   "metadata": {},
   "source": [
    "# Second method of Feature selection"
   ]
  },
  {
   "cell_type": "code",
   "execution_count": 133,
   "metadata": {},
   "outputs": [
    {
     "data": {
      "text/html": [
       "<div>\n",
       "<style scoped>\n",
       "    .dataframe tbody tr th:only-of-type {\n",
       "        vertical-align: middle;\n",
       "    }\n",
       "\n",
       "    .dataframe tbody tr th {\n",
       "        vertical-align: top;\n",
       "    }\n",
       "\n",
       "    .dataframe thead th {\n",
       "        text-align: right;\n",
       "    }\n",
       "</style>\n",
       "<table border=\"1\" class=\"dataframe\">\n",
       "  <thead>\n",
       "    <tr style=\"text-align: right;\">\n",
       "      <th></th>\n",
       "      <th>Day</th>\n",
       "      <th>Qty</th>\n",
       "      <th>Value</th>\n",
       "      <th>Price</th>\n",
       "      <th>month_M2</th>\n",
       "      <th>month_M3</th>\n",
       "      <th>store_N10</th>\n",
       "      <th>store_N2</th>\n",
       "      <th>store_N3</th>\n",
       "      <th>store_N4</th>\n",
       "      <th>store_N5</th>\n",
       "      <th>store_N6</th>\n",
       "      <th>store_N7</th>\n",
       "      <th>store_N8</th>\n",
       "      <th>store_N9</th>\n",
       "    </tr>\n",
       "  </thead>\n",
       "  <tbody>\n",
       "    <tr>\n",
       "      <th>Day</th>\n",
       "      <td>1.000000</td>\n",
       "      <td>0.005773</td>\n",
       "      <td>-0.051147</td>\n",
       "      <td>-0.038084</td>\n",
       "      <td>0.061350</td>\n",
       "      <td>-0.015802</td>\n",
       "      <td>0.026912</td>\n",
       "      <td>-0.017598</td>\n",
       "      <td>0.028705</td>\n",
       "      <td>-0.063825</td>\n",
       "      <td>0.013908</td>\n",
       "      <td>-0.004903</td>\n",
       "      <td>0.049664</td>\n",
       "      <td>0.004209</td>\n",
       "      <td>-0.043989</td>\n",
       "    </tr>\n",
       "    <tr>\n",
       "      <th>Qty</th>\n",
       "      <td>0.005773</td>\n",
       "      <td>1.000000</td>\n",
       "      <td>0.042655</td>\n",
       "      <td>-0.025817</td>\n",
       "      <td>0.000370</td>\n",
       "      <td>0.013459</td>\n",
       "      <td>-0.007320</td>\n",
       "      <td>0.035248</td>\n",
       "      <td>-0.006769</td>\n",
       "      <td>-0.005873</td>\n",
       "      <td>-0.011231</td>\n",
       "      <td>-0.005380</td>\n",
       "      <td>-0.010117</td>\n",
       "      <td>-0.003886</td>\n",
       "      <td>-0.005946</td>\n",
       "    </tr>\n",
       "    <tr>\n",
       "      <th>Value</th>\n",
       "      <td>-0.051147</td>\n",
       "      <td>0.042655</td>\n",
       "      <td>1.000000</td>\n",
       "      <td>0.902168</td>\n",
       "      <td>0.034586</td>\n",
       "      <td>-0.013171</td>\n",
       "      <td>-0.018685</td>\n",
       "      <td>0.235657</td>\n",
       "      <td>0.006771</td>\n",
       "      <td>0.051950</td>\n",
       "      <td>-0.063212</td>\n",
       "      <td>0.088864</td>\n",
       "      <td>-0.115091</td>\n",
       "      <td>0.104988</td>\n",
       "      <td>0.219069</td>\n",
       "    </tr>\n",
       "    <tr>\n",
       "      <th>Price</th>\n",
       "      <td>-0.038084</td>\n",
       "      <td>-0.025817</td>\n",
       "      <td>0.902168</td>\n",
       "      <td>1.000000</td>\n",
       "      <td>0.032222</td>\n",
       "      <td>-0.008522</td>\n",
       "      <td>-0.012884</td>\n",
       "      <td>0.196172</td>\n",
       "      <td>0.013984</td>\n",
       "      <td>0.029900</td>\n",
       "      <td>-0.047140</td>\n",
       "      <td>0.086348</td>\n",
       "      <td>-0.090805</td>\n",
       "      <td>0.068445</td>\n",
       "      <td>0.205999</td>\n",
       "    </tr>\n",
       "    <tr>\n",
       "      <th>month_M2</th>\n",
       "      <td>0.061350</td>\n",
       "      <td>0.000370</td>\n",
       "      <td>0.034586</td>\n",
       "      <td>0.032222</td>\n",
       "      <td>1.000000</td>\n",
       "      <td>-0.526837</td>\n",
       "      <td>0.090456</td>\n",
       "      <td>-0.038487</td>\n",
       "      <td>0.018879</td>\n",
       "      <td>-0.029932</td>\n",
       "      <td>0.057862</td>\n",
       "      <td>-0.056835</td>\n",
       "      <td>0.121043</td>\n",
       "      <td>-0.002726</td>\n",
       "      <td>0.061111</td>\n",
       "    </tr>\n",
       "    <tr>\n",
       "      <th>month_M3</th>\n",
       "      <td>-0.015802</td>\n",
       "      <td>0.013459</td>\n",
       "      <td>-0.013171</td>\n",
       "      <td>-0.008522</td>\n",
       "      <td>-0.526837</td>\n",
       "      <td>1.000000</td>\n",
       "      <td>-0.000084</td>\n",
       "      <td>0.023206</td>\n",
       "      <td>-0.088629</td>\n",
       "      <td>0.049173</td>\n",
       "      <td>0.094015</td>\n",
       "      <td>0.167675</td>\n",
       "      <td>-0.118449</td>\n",
       "      <td>0.046022</td>\n",
       "      <td>-0.149834</td>\n",
       "    </tr>\n",
       "    <tr>\n",
       "      <th>store_N10</th>\n",
       "      <td>0.026912</td>\n",
       "      <td>-0.007320</td>\n",
       "      <td>-0.018685</td>\n",
       "      <td>-0.012884</td>\n",
       "      <td>0.090456</td>\n",
       "      <td>-0.000084</td>\n",
       "      <td>1.000000</td>\n",
       "      <td>-0.067150</td>\n",
       "      <td>-0.078682</td>\n",
       "      <td>-0.108646</td>\n",
       "      <td>-0.130880</td>\n",
       "      <td>-0.063243</td>\n",
       "      <td>-0.151264</td>\n",
       "      <td>-0.061716</td>\n",
       "      <td>-0.072378</td>\n",
       "    </tr>\n",
       "    <tr>\n",
       "      <th>store_N2</th>\n",
       "      <td>-0.017598</td>\n",
       "      <td>0.035248</td>\n",
       "      <td>0.235657</td>\n",
       "      <td>0.196172</td>\n",
       "      <td>-0.038487</td>\n",
       "      <td>0.023206</td>\n",
       "      <td>-0.067150</td>\n",
       "      <td>1.000000</td>\n",
       "      <td>-0.060738</td>\n",
       "      <td>-0.083868</td>\n",
       "      <td>-0.101032</td>\n",
       "      <td>-0.048820</td>\n",
       "      <td>-0.116768</td>\n",
       "      <td>-0.047641</td>\n",
       "      <td>-0.055872</td>\n",
       "    </tr>\n",
       "    <tr>\n",
       "      <th>store_N3</th>\n",
       "      <td>0.028705</td>\n",
       "      <td>-0.006769</td>\n",
       "      <td>0.006771</td>\n",
       "      <td>0.013984</td>\n",
       "      <td>0.018879</td>\n",
       "      <td>-0.088629</td>\n",
       "      <td>-0.078682</td>\n",
       "      <td>-0.060738</td>\n",
       "      <td>1.000000</td>\n",
       "      <td>-0.098272</td>\n",
       "      <td>-0.118383</td>\n",
       "      <td>-0.057205</td>\n",
       "      <td>-0.136821</td>\n",
       "      <td>-0.055823</td>\n",
       "      <td>-0.065467</td>\n",
       "    </tr>\n",
       "    <tr>\n",
       "      <th>store_N4</th>\n",
       "      <td>-0.063825</td>\n",
       "      <td>-0.005873</td>\n",
       "      <td>0.051950</td>\n",
       "      <td>0.029900</td>\n",
       "      <td>-0.029932</td>\n",
       "      <td>0.049173</td>\n",
       "      <td>-0.108646</td>\n",
       "      <td>-0.083868</td>\n",
       "      <td>-0.098272</td>\n",
       "      <td>1.000000</td>\n",
       "      <td>-0.163465</td>\n",
       "      <td>-0.078989</td>\n",
       "      <td>-0.188924</td>\n",
       "      <td>-0.077081</td>\n",
       "      <td>-0.090397</td>\n",
       "    </tr>\n",
       "    <tr>\n",
       "      <th>store_N5</th>\n",
       "      <td>0.013908</td>\n",
       "      <td>-0.011231</td>\n",
       "      <td>-0.063212</td>\n",
       "      <td>-0.047140</td>\n",
       "      <td>0.057862</td>\n",
       "      <td>0.094015</td>\n",
       "      <td>-0.130880</td>\n",
       "      <td>-0.101032</td>\n",
       "      <td>-0.118383</td>\n",
       "      <td>-0.163465</td>\n",
       "      <td>1.000000</td>\n",
       "      <td>-0.095154</td>\n",
       "      <td>-0.227587</td>\n",
       "      <td>-0.092856</td>\n",
       "      <td>-0.108897</td>\n",
       "    </tr>\n",
       "    <tr>\n",
       "      <th>store_N6</th>\n",
       "      <td>-0.004903</td>\n",
       "      <td>-0.005380</td>\n",
       "      <td>0.088864</td>\n",
       "      <td>0.086348</td>\n",
       "      <td>-0.056835</td>\n",
       "      <td>0.167675</td>\n",
       "      <td>-0.063243</td>\n",
       "      <td>-0.048820</td>\n",
       "      <td>-0.057205</td>\n",
       "      <td>-0.078989</td>\n",
       "      <td>-0.095154</td>\n",
       "      <td>1.000000</td>\n",
       "      <td>-0.109974</td>\n",
       "      <td>-0.044870</td>\n",
       "      <td>-0.052621</td>\n",
       "    </tr>\n",
       "    <tr>\n",
       "      <th>store_N7</th>\n",
       "      <td>0.049664</td>\n",
       "      <td>-0.010117</td>\n",
       "      <td>-0.115091</td>\n",
       "      <td>-0.090805</td>\n",
       "      <td>0.121043</td>\n",
       "      <td>-0.118449</td>\n",
       "      <td>-0.151264</td>\n",
       "      <td>-0.116768</td>\n",
       "      <td>-0.136821</td>\n",
       "      <td>-0.188924</td>\n",
       "      <td>-0.227587</td>\n",
       "      <td>-0.109974</td>\n",
       "      <td>1.000000</td>\n",
       "      <td>-0.107318</td>\n",
       "      <td>-0.125858</td>\n",
       "    </tr>\n",
       "    <tr>\n",
       "      <th>store_N8</th>\n",
       "      <td>0.004209</td>\n",
       "      <td>-0.003886</td>\n",
       "      <td>0.104988</td>\n",
       "      <td>0.068445</td>\n",
       "      <td>-0.002726</td>\n",
       "      <td>0.046022</td>\n",
       "      <td>-0.061716</td>\n",
       "      <td>-0.047641</td>\n",
       "      <td>-0.055823</td>\n",
       "      <td>-0.077081</td>\n",
       "      <td>-0.092856</td>\n",
       "      <td>-0.044870</td>\n",
       "      <td>-0.107318</td>\n",
       "      <td>1.000000</td>\n",
       "      <td>-0.051350</td>\n",
       "    </tr>\n",
       "    <tr>\n",
       "      <th>store_N9</th>\n",
       "      <td>-0.043989</td>\n",
       "      <td>-0.005946</td>\n",
       "      <td>0.219069</td>\n",
       "      <td>0.205999</td>\n",
       "      <td>0.061111</td>\n",
       "      <td>-0.149834</td>\n",
       "      <td>-0.072378</td>\n",
       "      <td>-0.055872</td>\n",
       "      <td>-0.065467</td>\n",
       "      <td>-0.090397</td>\n",
       "      <td>-0.108897</td>\n",
       "      <td>-0.052621</td>\n",
       "      <td>-0.125858</td>\n",
       "      <td>-0.051350</td>\n",
       "      <td>1.000000</td>\n",
       "    </tr>\n",
       "  </tbody>\n",
       "</table>\n",
       "</div>"
      ],
      "text/plain": [
       "                Day       Qty     Value     Price  month_M2  month_M3  \\\n",
       "Day        1.000000  0.005773 -0.051147 -0.038084  0.061350 -0.015802   \n",
       "Qty        0.005773  1.000000  0.042655 -0.025817  0.000370  0.013459   \n",
       "Value     -0.051147  0.042655  1.000000  0.902168  0.034586 -0.013171   \n",
       "Price     -0.038084 -0.025817  0.902168  1.000000  0.032222 -0.008522   \n",
       "month_M2   0.061350  0.000370  0.034586  0.032222  1.000000 -0.526837   \n",
       "month_M3  -0.015802  0.013459 -0.013171 -0.008522 -0.526837  1.000000   \n",
       "store_N10  0.026912 -0.007320 -0.018685 -0.012884  0.090456 -0.000084   \n",
       "store_N2  -0.017598  0.035248  0.235657  0.196172 -0.038487  0.023206   \n",
       "store_N3   0.028705 -0.006769  0.006771  0.013984  0.018879 -0.088629   \n",
       "store_N4  -0.063825 -0.005873  0.051950  0.029900 -0.029932  0.049173   \n",
       "store_N5   0.013908 -0.011231 -0.063212 -0.047140  0.057862  0.094015   \n",
       "store_N6  -0.004903 -0.005380  0.088864  0.086348 -0.056835  0.167675   \n",
       "store_N7   0.049664 -0.010117 -0.115091 -0.090805  0.121043 -0.118449   \n",
       "store_N8   0.004209 -0.003886  0.104988  0.068445 -0.002726  0.046022   \n",
       "store_N9  -0.043989 -0.005946  0.219069  0.205999  0.061111 -0.149834   \n",
       "\n",
       "           store_N10  store_N2  store_N3  store_N4  store_N5  store_N6  \\\n",
       "Day         0.026912 -0.017598  0.028705 -0.063825  0.013908 -0.004903   \n",
       "Qty        -0.007320  0.035248 -0.006769 -0.005873 -0.011231 -0.005380   \n",
       "Value      -0.018685  0.235657  0.006771  0.051950 -0.063212  0.088864   \n",
       "Price      -0.012884  0.196172  0.013984  0.029900 -0.047140  0.086348   \n",
       "month_M2    0.090456 -0.038487  0.018879 -0.029932  0.057862 -0.056835   \n",
       "month_M3   -0.000084  0.023206 -0.088629  0.049173  0.094015  0.167675   \n",
       "store_N10   1.000000 -0.067150 -0.078682 -0.108646 -0.130880 -0.063243   \n",
       "store_N2   -0.067150  1.000000 -0.060738 -0.083868 -0.101032 -0.048820   \n",
       "store_N3   -0.078682 -0.060738  1.000000 -0.098272 -0.118383 -0.057205   \n",
       "store_N4   -0.108646 -0.083868 -0.098272  1.000000 -0.163465 -0.078989   \n",
       "store_N5   -0.130880 -0.101032 -0.118383 -0.163465  1.000000 -0.095154   \n",
       "store_N6   -0.063243 -0.048820 -0.057205 -0.078989 -0.095154  1.000000   \n",
       "store_N7   -0.151264 -0.116768 -0.136821 -0.188924 -0.227587 -0.109974   \n",
       "store_N8   -0.061716 -0.047641 -0.055823 -0.077081 -0.092856 -0.044870   \n",
       "store_N9   -0.072378 -0.055872 -0.065467 -0.090397 -0.108897 -0.052621   \n",
       "\n",
       "           store_N7  store_N8  store_N9  \n",
       "Day        0.049664  0.004209 -0.043989  \n",
       "Qty       -0.010117 -0.003886 -0.005946  \n",
       "Value     -0.115091  0.104988  0.219069  \n",
       "Price     -0.090805  0.068445  0.205999  \n",
       "month_M2   0.121043 -0.002726  0.061111  \n",
       "month_M3  -0.118449  0.046022 -0.149834  \n",
       "store_N10 -0.151264 -0.061716 -0.072378  \n",
       "store_N2  -0.116768 -0.047641 -0.055872  \n",
       "store_N3  -0.136821 -0.055823 -0.065467  \n",
       "store_N4  -0.188924 -0.077081 -0.090397  \n",
       "store_N5  -0.227587 -0.092856 -0.108897  \n",
       "store_N6  -0.109974 -0.044870 -0.052621  \n",
       "store_N7   1.000000 -0.107318 -0.125858  \n",
       "store_N8  -0.107318  1.000000 -0.051350  \n",
       "store_N9  -0.125858 -0.051350  1.000000  "
      ]
     },
     "execution_count": 133,
     "metadata": {},
     "output_type": "execute_result"
    }
   ],
   "source": [
    "# Normal co-relation map with the variables\n",
    "\n",
    "corr = final_hack.corr()\n",
    "corr"
   ]
  },
  {
   "cell_type": "code",
   "execution_count": 134,
   "metadata": {},
   "outputs": [
    {
     "data": {
      "text/plain": [
       "Day        -0.051147\n",
       "Value       1.000000\n",
       "Price       0.902168\n",
       "store_N2    0.235657\n",
       "store_N4    0.051950\n",
       "store_N5   -0.063212\n",
       "store_N6    0.088864\n",
       "store_N7   -0.115091\n",
       "store_N8    0.104988\n",
       "store_N9    0.219069\n",
       "Name: Value, dtype: float64"
      ]
     },
     "execution_count": 134,
     "metadata": {},
     "output_type": "execute_result"
    }
   ],
   "source": [
    "#Correlation with output variable\n",
    "\n",
    "cor_target = corr[\"Value\"]\n",
    "#Selecting highly correlated features\n",
    "\n",
    "relevant_features = cor_target[(cor_target > 0.05) | (cor_target < -0.05)]\n",
    "relevant_features"
   ]
  },
  {
   "cell_type": "code",
   "execution_count": 135,
   "metadata": {},
   "outputs": [
    {
     "data": {
      "text/plain": [
       "Index(['Month', 'Store_code', 'Day', 'Qty', 'Value', 'Price', 'month_M2',\n",
       "       'month_M3', 'store_N10', 'store_N2', 'store_N3', 'store_N4', 'store_N5',\n",
       "       'store_N6', 'store_N7', 'store_N8', 'store_N9'],\n",
       "      dtype='object')"
      ]
     },
     "execution_count": 135,
     "metadata": {},
     "output_type": "execute_result"
    }
   ],
   "source": [
    "final_hack.columns"
   ]
  },
  {
   "cell_type": "code",
   "execution_count": 136,
   "metadata": {},
   "outputs": [
    {
     "data": {
      "image/png": "[encoded data removed]",
      "text/plain": [
       "<Figure size 1200x800 with 2 Axes>"
      ]
     },
     "metadata": {
      "needs_background": "light"
     },
     "output_type": "display_data"
    }
   ],
   "source": [
    "# Now checking multi-colinearity between the above (independent) features\n",
    "\n",
    "plt.figure(figsize= (15,10), dpi=80)\n",
    "sns.heatmap(final_hack[['Day', 'Qty',  'month_M2',\n",
    "       'month_M3', 'store_N10', 'store_N2', 'store_N3', 'store_N4', 'store_N5',\n",
    "       'store_N6', 'store_N7', 'store_N8', 'store_N9','Price', 'Value']].corr(), annot=True, cmap='RdYlGn', \n",
    "        linewidths=1, linecolor='white')\n",
    "plt.show()"
   ]
  },
  {
   "cell_type": "code",
   "execution_count": null,
   "metadata": {},
   "outputs": [],
   "source": []
  },
  {
   "cell_type": "code",
   "execution_count": null,
   "metadata": {},
   "outputs": [],
   "source": []
  },
  {
   "cell_type": "code",
   "execution_count": 137,
   "metadata": {},
   "outputs": [
    {
     "data": {
      "image/png": "[encoded data removed]",
      "text/plain": [
       "<Figure size 432x288 with 1 Axes>"
      ]
     },
     "metadata": {
      "needs_background": "light"
     },
     "output_type": "display_data"
    }
   ],
   "source": [
    "# Now lets try to scale down the features.\n",
    "#To view the values are normally distributed we use Q-Qplot\n",
    "\n",
    "from scipy import stats\n",
    "\n",
    "stats.probplot(final_hack['Qty'], dist='norm', plot =plt)\n",
    "plt.show()"
   ]
  },
  {
   "cell_type": "markdown",
   "metadata": {},
   "source": [
    "### No need to scale down the Qty feature as it is gaussian distribution"
   ]
  },
  {
   "cell_type": "code",
   "execution_count": 138,
   "metadata": {},
   "outputs": [
    {
     "data": {
      "image/png": "[encoded data removed]",
      "text/plain": [
       "<Figure size 432x288 with 1 Axes>"
      ]
     },
     "metadata": {
      "needs_background": "light"
     },
     "output_type": "display_data"
    }
   ],
   "source": [
    "stats.probplot(final_hack['Day'], dist='norm', plot =plt)\n",
    "plt.show()"
   ]
  },
  {
   "cell_type": "code",
   "execution_count": 139,
   "metadata": {},
   "outputs": [
    {
     "data": {
      "image/png": "[encoded data removed]",
      "text/plain": [
       "<Figure size 360x360 with 1 Axes>"
      ]
     },
     "metadata": {
      "needs_background": "light"
     },
     "output_type": "display_data"
    }
   ],
   "source": [
    "sns.displot(final_hack['Day'], kind='kde')\n",
    "plt.show()"
   ]
  },
  {
   "cell_type": "code",
   "execution_count": 140,
   "metadata": {},
   "outputs": [
    {
     "data": {
      "image/png": "[encoded data removed]",
      "text/plain": [
       "<Figure size 432x288 with 1 Axes>"
      ]
     },
     "metadata": {
      "needs_background": "light"
     },
     "output_type": "display_data"
    }
   ],
   "source": [
    "stats.probplot(final_hack['Price'], dist='norm', plot =plt)\n",
    "plt.show()"
   ]
  },
  {
   "cell_type": "code",
   "execution_count": 141,
   "metadata": {},
   "outputs": [
    {
     "data": {
      "image/png": "[encoded data removed]",
      "text/plain": [
       "<Figure size 360x360 with 1 Axes>"
      ]
     },
     "metadata": {
      "needs_background": "light"
     },
     "output_type": "display_data"
    }
   ],
   "source": [
    "sns.displot(final_hack['Price'], kind='kde')\n",
    "plt.show()"
   ]
  },
  {
   "cell_type": "code",
   "execution_count": 142,
   "metadata": {},
   "outputs": [
    {
     "data": {
      "text/plain": [
       "0"
      ]
     },
     "execution_count": 142,
     "metadata": {},
     "output_type": "execute_result"
    }
   ],
   "source": [
    "final_hack['Price'].isnull().sum()"
   ]
  },
  {
   "cell_type": "code",
   "execution_count": null,
   "metadata": {},
   "outputs": [],
   "source": []
  },
  {
   "cell_type": "code",
   "execution_count": 143,
   "metadata": {},
   "outputs": [
    {
     "data": {
      "text/plain": [
       "Index(['Month', 'Store_code', 'Day', 'Qty', 'Value', 'Price', 'month_M2',\n",
       "       'month_M3', 'store_N10', 'store_N2', 'store_N3', 'store_N4', 'store_N5',\n",
       "       'store_N6', 'store_N7', 'store_N8', 'store_N9'],\n",
       "      dtype='object')"
      ]
     },
     "execution_count": 143,
     "metadata": {},
     "output_type": "execute_result"
    }
   ],
   "source": [
    "final_hack.columns"
   ]
  },
  {
   "cell_type": "code",
   "execution_count": 144,
   "metadata": {},
   "outputs": [],
   "source": [
    "# Let me first send all the independent variables and check the accuracy"
   ]
  },
  {
   "cell_type": "code",
   "execution_count": 145,
   "metadata": {},
   "outputs": [],
   "source": [
    "# Now let's split the data \n",
    "\n",
    "X = final_hack[['month_M2','month_M3','store_N10', 'store_N2', 'store_N3', 'store_N4', 'store_N5',\n",
    "       'store_N6', 'store_N7', 'store_N8', 'store_N9', 'Day','Qty','Price']]\n",
    "y = final_hack['Value']"
   ]
  },
  {
   "cell_type": "code",
   "execution_count": 146,
   "metadata": {},
   "outputs": [],
   "source": [
    "# Splitting the data\n",
    "\n",
    "from sklearn.model_selection import train_test_split"
   ]
  },
  {
   "cell_type": "code",
   "execution_count": 147,
   "metadata": {},
   "outputs": [],
   "source": [
    "X_train, x_test, Y_train, y_test = train_test_split(X, y, test_size = 0.30, random_state = 143)"
   ]
  },
  {
   "cell_type": "code",
   "execution_count": 148,
   "metadata": {},
   "outputs": [
    {
     "data": {
      "text/plain": [
       "(18806, 14)"
      ]
     },
     "execution_count": 148,
     "metadata": {},
     "output_type": "execute_result"
    }
   ],
   "source": [
    "X_train.shape"
   ]
  },
  {
   "cell_type": "code",
   "execution_count": 149,
   "metadata": {},
   "outputs": [
    {
     "data": {
      "text/plain": [
       "(8060, 14)"
      ]
     },
     "execution_count": 149,
     "metadata": {},
     "output_type": "execute_result"
    }
   ],
   "source": [
    "x_test.shape"
   ]
  },
  {
   "cell_type": "code",
   "execution_count": 150,
   "metadata": {},
   "outputs": [
    {
     "data": {
      "text/plain": [
       "(18806,)"
      ]
     },
     "execution_count": 150,
     "metadata": {},
     "output_type": "execute_result"
    }
   ],
   "source": [
    "Y_train.shape"
   ]
  },
  {
   "cell_type": "code",
   "execution_count": 151,
   "metadata": {},
   "outputs": [
    {
     "data": {
      "text/plain": [
       "(8060,)"
      ]
     },
     "execution_count": 151,
     "metadata": {},
     "output_type": "execute_result"
    }
   ],
   "source": [
    "y_test.shape"
   ]
  },
  {
   "cell_type": "code",
   "execution_count": null,
   "metadata": {},
   "outputs": [],
   "source": []
  },
  {
   "cell_type": "code",
   "execution_count": 152,
   "metadata": {},
   "outputs": [],
   "source": [
    "from sklearn.linear_model import LinearRegression\n",
    "from sklearn.metrics import mean_squared_error, r2_score"
   ]
  },
  {
   "cell_type": "code",
   "execution_count": 153,
   "metadata": {},
   "outputs": [
    {
     "data": {
      "text/plain": [
       "LinearRegression()"
      ]
     },
     "execution_count": 153,
     "metadata": {},
     "output_type": "execute_result"
    }
   ],
   "source": [
    "lm = LinearRegression()\n",
    "lm.fit(X_train,Y_train)"
   ]
  },
  {
   "cell_type": "code",
   "execution_count": 154,
   "metadata": {},
   "outputs": [
    {
     "name": "stdout",
     "output_type": "stream",
     "text": [
      "The model performance for training dataset\n",
      "------------------------------------------\n",
      "RMSE is 20.33189467093339\n",
      "R2 score is 0.8298611940307363\n",
      "\n",
      "\n"
     ]
    }
   ],
   "source": [
    "# Model evaluation\n",
    "# We will evaluate our model using rmse and r2_score\n",
    "\n",
    "# model evaluation for training set\n",
    "\n",
    "y_train_predict = lm.predict(X_train)\n",
    "rmse = (np.sqrt(mean_squared_error(Y_train, y_train_predict)))\n",
    "r2 = r2_score(Y_train, y_train_predict)\n",
    "\n",
    "print(\"The model performance for training dataset\")\n",
    "print(\"------------------------------------------\")\n",
    "print('RMSE is {}'.format(rmse))\n",
    "print('R2 score is {}'.format(r2))\n",
    "print('\\n')"
   ]
  },
  {
   "cell_type": "code",
   "execution_count": 155,
   "metadata": {},
   "outputs": [
    {
     "name": "stdout",
     "output_type": "stream",
     "text": [
      "The model performace for testing dataset\n",
      "----------------------------------------\n",
      "RMSE is 20.447422583173655\n",
      "R2 score is 0.8257498365723666\n"
     ]
    }
   ],
   "source": [
    "# model evaluation for testing set\n",
    "\n",
    "y_test_predict = lm.predict(x_test)\n",
    "rmse = (np.sqrt(mean_squared_error(y_test, y_test_predict)))\n",
    "r2 = r2_score(y_test, y_test_predict)\n",
    "\n",
    "print(\"The model performace for testing dataset\")\n",
    "print(\"----------------------------------------\")\n",
    "print('RMSE is {}'.format(rmse))\n",
    "print('R2 score is {}'.format(r2))"
   ]
  },
  {
   "cell_type": "code",
   "execution_count": 156,
   "metadata": {},
   "outputs": [
    {
     "data": {
      "image/png": "[encoded data removed]",
      "text/plain": [
       "<Figure size 576x288 with 1 Axes>"
      ]
     },
     "metadata": {
      "needs_background": "light"
     },
     "output_type": "display_data"
    }
   ],
   "source": [
    "# plotting the y_test vs y_pred\n",
    "# ideally should have been  a straight line\n",
    "\n",
    "plt.figure(figsize = (8,4))\n",
    "plt.scatter(x = y_test, y = y_test_predict)\n",
    "plt.xlabel('prediction')\n",
    "plt.title('LinearRegression')\n",
    "plt.ylabel('Profit (y)')\n",
    "plt.show()"
   ]
  },
  {
   "cell_type": "code",
   "execution_count": null,
   "metadata": {},
   "outputs": [],
   "source": []
  },
  {
   "cell_type": "code",
   "execution_count": 157,
   "metadata": {},
   "outputs": [
    {
     "data": {
      "text/plain": [
       "array([ 1.01666746e-02, -1.09841224e+00,  4.06731667e+00,  1.93538604e+01,\n",
       "        4.56294135e+00,  8.70626888e+00,  2.81705924e+00,  9.03561235e+00,\n",
       "        1.72300450e+00,  1.68370602e+01,  1.34493883e+01, -7.21988381e-02,\n",
       "        2.82003529e-02,  1.01426708e+00])"
      ]
     },
     "execution_count": 157,
     "metadata": {},
     "output_type": "execute_result"
    }
   ],
   "source": [
    "lm.coef_"
   ]
  },
  {
   "cell_type": "code",
   "execution_count": 158,
   "metadata": {},
   "outputs": [
    {
     "data": {
      "text/plain": [
       "6.6351707211837265"
      ]
     },
     "execution_count": 158,
     "metadata": {},
     "output_type": "execute_result"
    }
   ],
   "source": [
    "lm.intercept_"
   ]
  },
  {
   "cell_type": "markdown",
   "metadata": {},
   "source": [
    "y = bo +b1x + b2x + c"
   ]
  },
  {
   "cell_type": "markdown",
   "metadata": {},
   "source": [
    "    X = hack[['month_M2','month_M3','store_N10', 'store_N2', 'store_N3', 'store_N4', 'store_N5',\n",
    "       'store_N6', 'store_N7', 'store_N8', 'store_N9', 'Day','Qty','Price']]\n",
    "\n",
    "    Y = hack['Value']"
   ]
  },
  {
   "cell_type": "code",
   "execution_count": null,
   "metadata": {},
   "outputs": [],
   "source": []
  },
  {
   "cell_type": "code",
   "execution_count": 159,
   "metadata": {},
   "outputs": [
    {
     "data": {
      "text/plain": [
       "6093.910557005101"
      ]
     },
     "execution_count": 159,
     "metadata": {},
     "output_type": "execute_result"
    }
   ],
   "source": [
    "1.11251071e-02*1+-1.09882867e+00*0+4.06723652e+00*1+1.93359264e+01*0+4.56061853e+00*0+8.62639115e+00*0+2.81869804e+00*0+9.02642188e+00*0+1.67946372e+00*0+1.68382790e+01*0+1.34316978e+01*0+-7.20701341e-02*20+2.82051806e-02*100+1.01474218e+00*6000"
   ]
  },
  {
   "cell_type": "markdown",
   "metadata": {},
   "source": [
    "    'month_M2','month_M3','store_N10', 'store_N2', 'store_N3', 'store_N4', 'store_N5',\n",
    "       'store_N6', 'store_N7', 'store_N8', 'store_N9', 'Day','Qty','Price'"
   ]
  },
  {
   "cell_type": "code",
   "execution_count": null,
   "metadata": {},
   "outputs": [],
   "source": []
  },
  {
   "cell_type": "code",
   "execution_count": null,
   "metadata": {},
   "outputs": [],
   "source": []
  },
  {
   "cell_type": "code",
   "execution_count": null,
   "metadata": {},
   "outputs": [],
   "source": []
  },
  {
   "cell_type": "markdown",
   "metadata": {},
   "source": [
    "# Using Random Forest Regressor"
   ]
  },
  {
   "cell_type": "code",
   "execution_count": 161,
   "metadata": {},
   "outputs": [],
   "source": [
    "# Import the model we are using\n",
    "from sklearn.ensemble import RandomForestRegressor"
   ]
  },
  {
   "cell_type": "code",
   "execution_count": 162,
   "metadata": {},
   "outputs": [
    {
     "data": {
      "text/plain": [
       "RandomForestRegressor()"
      ]
     },
     "execution_count": 162,
     "metadata": {},
     "output_type": "execute_result"
    }
   ],
   "source": [
    "rf = RandomForestRegressor()\n",
    "\n",
    "rf"
   ]
  },
  {
   "cell_type": "code",
   "execution_count": 163,
   "metadata": {},
   "outputs": [
    {
     "data": {
      "text/plain": [
       "RandomForestRegressor()"
      ]
     },
     "execution_count": 163,
     "metadata": {},
     "output_type": "execute_result"
    }
   ],
   "source": [
    "rf.fit(X_train,Y_train)"
   ]
  },
  {
   "cell_type": "code",
   "execution_count": 164,
   "metadata": {},
   "outputs": [
    {
     "data": {
      "text/plain": [
       "array([20. , 10. , 19.5, ..., 10. , 10. , 10. ])"
      ]
     },
     "execution_count": 164,
     "metadata": {},
     "output_type": "execute_result"
    }
   ],
   "source": [
    "# Use the forest's predict method on the test data\n",
    "predictions = rf.predict(x_test)\n",
    "\n",
    "predictions"
   ]
  },
  {
   "cell_type": "code",
   "execution_count": 165,
   "metadata": {},
   "outputs": [],
   "source": [
    "# Calculate the absolute errors\n",
    "errors = abs(predictions - y_test)"
   ]
  },
  {
   "cell_type": "code",
   "execution_count": 166,
   "metadata": {},
   "outputs": [
    {
     "name": "stdout",
     "output_type": "stream",
     "text": [
      "Mean Absolute Error: 0.94 degrees.\n"
     ]
    }
   ],
   "source": [
    "# Print out the mean absolute error (mae)\n",
    "print('Mean Absolute Error:', round(np.mean(errors), 2), 'degrees.')"
   ]
  },
  {
   "cell_type": "code",
   "execution_count": 167,
   "metadata": {},
   "outputs": [],
   "source": [
    "# Calculate mean absolute percentage error (MAPE)\n",
    "mape = 100 * (errors / y_test)"
   ]
  },
  {
   "cell_type": "code",
   "execution_count": 168,
   "metadata": {},
   "outputs": [
    {
     "name": "stdout",
     "output_type": "stream",
     "text": [
      "Accuracy: 98.68 %.\n"
     ]
    }
   ],
   "source": [
    "# Calculate and display accuracy\n",
    "accuracy = 100 - np.mean(mape)\n",
    "print('Accuracy:', round(accuracy, 2), '%.')"
   ]
  },
  {
   "cell_type": "code",
   "execution_count": null,
   "metadata": {},
   "outputs": [],
   "source": []
  },
  {
   "cell_type": "code",
   "execution_count": null,
   "metadata": {},
   "outputs": [],
   "source": []
  }
 ],
 "metadata": {
  "kernelspec": {
   "display_name": "Python 3",
   "language": "python",
   "name": "python3"
  },
  "language_info": {
   "codemirror_mode": {
    "name": "ipython",
    "version": 3
   },
   "file_extension": ".py",
   "mimetype": "text/x-python",
   "name": "python",
   "nbconvert_exporter": "python",
   "pygments_lexer": "ipython3",
   "version": "3.7.9"
  },
  "toc": {
   "base_numbering": 1,
   "nav_menu": {},
   "number_sections": false,
   "sideBar": true,
   "skip_h1_title": false,
   "title_cell": "Table of Contents",
   "title_sidebar": "Contents",
   "toc_cell": false,
   "toc_position": {},
   "toc_section_display": true,
   "toc_window_display": false
  },
  "varInspector": {
   "cols": {
    "lenName": 16,
    "lenType": 16,
    "lenVar": 40
   },
   "kernels_config": {
    "python": {
     "delete_cmd_postfix": "",
     "delete_cmd_prefix": "del ",
     "library": "var_list.py",
     "varRefreshCmd": "print(var_dic_list())"
    },
    "r": {
     "delete_cmd_postfix": ") ",
     "delete_cmd_prefix": "rm(",
     "library": "var_list.r",
     "varRefreshCmd": "cat(var_dic_list()) "
    }
   },
   "types_to_exclude": [
    "module",
    "function",
    "builtin_function_or_method",
    "instance",
    "_Feature"
   ],
   "window_display": false
  }
 },
 "nbformat": 4,
 "nbformat_minor": 4
}
